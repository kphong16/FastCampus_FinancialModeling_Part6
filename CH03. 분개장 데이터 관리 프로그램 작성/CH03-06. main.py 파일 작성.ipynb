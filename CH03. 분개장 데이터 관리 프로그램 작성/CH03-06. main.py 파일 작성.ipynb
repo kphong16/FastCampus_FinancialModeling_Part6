{
 "cells": [
  {
   "cell_type": "markdown",
   "metadata": {},
   "source": [
    "# [ 3-6. main.py 파일 작성 ]\n",
    "## 1. journal_ledger.py 파일 생성\n",
    "* 함수에 기존 작성한 코드를 담아서 파이썬 파일에 작성"
   ]
  },
  {
   "cell_type": "code",
   "execution_count": 7,
   "metadata": {},
   "outputs": [],
   "source": [
    "# journal_ledger.py\n",
    "\n",
    "from journal_file import Journal\n",
    "from openpyxl import Workbook\n",
    "\n",
    "def ledger_category(\n",
    "        journal_name=\"분개장_샘플.xlsx\", file_name=\"계정별원장.xlsx\"\n",
    "    ):\n",
    "    # 분개장 데이터 로딩\n",
    "    jnl = Journal(journal_name)\n",
    "\n",
    "    # 워크북 생성\n",
    "    wb = Workbook()\n",
    "\n",
    "    # 기본적으로 생성되는 활성 시트 제거\n",
    "    default_sheet = wb.active\n",
    "    wb.remove(default_sheet)\n",
    "\n",
    "\n",
    "    # 각 카테고리에 대해 시트 생성 및 데이터 쓰기\n",
    "    for category in jnl.df[\"계정과목\"].unique():\n",
    "        # category 이름으로 신규 시트 생성\n",
    "        ws = wb.create_sheet(title=category)\n",
    "\n",
    "        # 시트에 첫번째 셀에 category 이름 출력\n",
    "        ws.append([category])\n",
    "        #ws.cell(row=1, column=1, value=category)\n",
    "\n",
    "        # 한칸 띄우기\n",
    "        ws.append([])\n",
    "\n",
    "        # 컬럼명 출력\n",
    "        ws.append(tuple(jnl.df.columns))\n",
    "\n",
    "        # category에 해당하는 계정과목 DataFrame에 대하여 한행씩 row 변수에 대입\n",
    "        for r_idx, row in enumerate(\n",
    "                jnl.계정과목(category).df.itertuples(index=False), \n",
    "                start=4\n",
    "            ):\n",
    "            # itertuples 메서드 대신 iterrows 메서드 사용 가능\n",
    "            # (itertuples 메서드가 iterrows 메서드 보다 빠르게 작동)\n",
    "\n",
    "            # 한 행(row)에 대하여 컬럼번호(c_idx)를 증가시키면서 한 셀씩 출력\n",
    "            for c_idx, value in enumerate(row, start=1):\n",
    "                ws.cell(row=r_idx, column=c_idx, value=value)\n",
    "\n",
    "    # 최종 완성된 파일 엑셀 저장\n",
    "    wb.save(file_name)"
   ]
  },
  {
   "cell_type": "code",
   "execution_count": 8,
   "metadata": {},
   "outputs": [],
   "source": [
    "def ledger_client(\n",
    "        journal_name=\"분개장_샘플.xlsx\", \n",
    "        file_name=\"거래처원장.xlsx\"\n",
    "    ):\n",
    "    # 분개장 데이터 로딩\n",
    "    jnl = Journal(journal_name)\n",
    "    \n",
    "    # 워크북 생성\n",
    "    wb = Workbook()\n",
    "\n",
    "    # 기본적으로 생성되는 활성 시트 제거\n",
    "    default_sheet = wb.active\n",
    "    wb.remove(default_sheet)\n",
    "\n",
    "\n",
    "    # 각 카테고리에 대해 시트 생성 및 데이터 쓰기\n",
    "    for client in jnl.df[\"거래처명\"].unique():\n",
    "        # client 이름으로 신규 시트 생성\n",
    "        ws = wb.create_sheet(title=client)\n",
    "\n",
    "        # 시트에 첫번째 셀에 client 이름 출력\n",
    "        ws.append([client])\n",
    "        #ws.cell(row=1, column=1, value=client)\n",
    "\n",
    "        # 한칸 띄우기\n",
    "        ws.append([])\n",
    "\n",
    "        # 컬럼명 출력\n",
    "        ws.append(tuple(jnl.df.columns))\n",
    "\n",
    "        # client에 해당하는 거래처명 DataFrame에 대하여 한행씩 row 변수에 대입\n",
    "        for r_idx, row in enumerate(\n",
    "                jnl.거래처명(client).df.itertuples(index=False), \n",
    "                start=4\n",
    "            ):\n",
    "            # itertuples 메서드 대신 iterrows 메서드 사용 가능\n",
    "            # (itertuples 메서드가 iterrows 메서드 보다 빠르게 작동)\n",
    "\n",
    "            # 한 행(row)에 대하여 컬럼번호(c_idx)를 증가시키면서 한 셀씩 출력\n",
    "            for c_idx, value in enumerate(row, start=1):\n",
    "                ws.cell(row=r_idx, column=c_idx, value=value)\n",
    "\n",
    "    # 최종 완성된 파일 엑셀 저장\n",
    "    wb.save(file_name)"
   ]
  },
  {
   "cell_type": "markdown",
   "metadata": {},
   "source": [
    "## 2. journal_ledger.py 파일 테스트"
   ]
  },
  {
   "cell_type": "code",
   "execution_count": 13,
   "metadata": {},
   "outputs": [],
   "source": [
    "from journal_ledger import (\n",
    "    ledger_category as ldg_category, \n",
    "    ledger_client as ldg_client\n",
    ")"
   ]
  },
  {
   "cell_type": "code",
   "execution_count": 14,
   "metadata": {},
   "outputs": [],
   "source": [
    "ldg_category(file_name=\"계정별원장2.xlsx\")"
   ]
  },
  {
   "cell_type": "code",
   "execution_count": 17,
   "metadata": {},
   "outputs": [],
   "source": [
    "ldg_client(file_name=\"거래처원장2.xlsx\")"
   ]
  },
  {
   "cell_type": "markdown",
   "metadata": {},
   "source": [
    "## 3. main.py 파일 작성"
   ]
  },
  {
   "cell_type": "code",
   "execution_count": 22,
   "metadata": {},
   "outputs": [
    {
     "name": "stdout",
     "output_type": "stream",
     "text": [
      "실행하고자 하는 항목을 선택하세요: \n",
      "1: 계정별원장 출력\n",
      "2: 거래처원장 출력\n",
      "exit: 프로그램 종료\n",
      "분개장 파일명: 분개장_샘플.xlsx\n",
      "출력 파일명: 계정별원장_main.xlsx\n",
      "계정별원장_main.xlsx 파일 생성이 완료되었습니다.\n",
      "\n",
      "\n",
      "실행하고자 하는 항목을 선택하세요: \n",
      "1: 계정별원장 출력\n",
      "2: 거래처원장 출력\n",
      "exit: 프로그램 종료\n",
      "분개장 파일명: 분개장_샘플.xlsx\n",
      "출력 파일명: 거래처원장_main.xlsx\n",
      "거래처원장_main.xlsx 파일 생성이 완료되었습니다.\n",
      "\n",
      "\n",
      "실행하고자 하는 항목을 선택하세요: \n",
      "1: 계정별원장 출력\n",
      "2: 거래처원장 출력\n",
      "exit: 프로그램 종료\n",
      "프로그램 종료\n"
     ]
    }
   ],
   "source": [
    "# main.py\n",
    "\n",
    "from journal_ledger import ledger_category, ledger_client\n",
    "\n",
    "def main():\n",
    "    while True:\n",
    "        print(\"실행하고자 하는 항목을 선택하세요: \")\n",
    "        print(\"1: 계정별원장 출력\")\n",
    "        print(\"2: 거래처원장 출력\")\n",
    "        print(\"exit: 프로그램 종료\")\n",
    "        input_data = input(\"실행하고자 하는 항목을 선택 >>> \")\n",
    "\n",
    "        if input_data == \"1\":\n",
    "            journal_name = input(\n",
    "                \"분개장 파일명을 입력하세요(default: 분개장_샘플.xlsx): \"\n",
    "            )\n",
    "            if journal_name == \"\":\n",
    "                journal_name = \"분개장_샘플.xlsx\"\n",
    "            print(f\"분개장 파일명: {journal_name}\")\n",
    "\n",
    "            file_name = input(\n",
    "                \"출력할 파일명을 입력하세요(default: 계정별원장_main.xlsx): \"\n",
    "            )\n",
    "            if file_name == \"\":\n",
    "                file_name = \"계정별원장_main.xlsx\"\n",
    "            print(f\"출력 파일명: {file_name}\")\n",
    "\n",
    "            ledger_category(journal_name, file_name)\n",
    "            print(f\"{file_name} 파일 생성이 완료되었습니다.\\n\\n\")\n",
    "\n",
    "        elif input_data == \"2\":\n",
    "            journal_name = input(\n",
    "                \"분개장 파일명을 입력하세요(default: 분개장_샘플.xlsx): \"\n",
    "            )\n",
    "            if journal_name == \"\":\n",
    "                journal_name = \"분개장_샘플.xlsx\"\n",
    "            print(f\"분개장 파일명: {journal_name}\")\n",
    "\n",
    "            file_name = input(\n",
    "                \"출력할 파일명을 입력하세요(default: 거래처원장_main.xlsx): \"\n",
    "            )\n",
    "            if file_name == \"\":\n",
    "                file_name = \"거래처원장_main.xlsx\"\n",
    "            print(f\"출력 파일명: {file_name}\")\n",
    "\n",
    "            ledger_client(journal_name, file_name)\n",
    "            print(f\"{file_name} 파일 생성이 완료되었습니다.\\n\\n\")\n",
    "\n",
    "        elif input_data == \"\":\n",
    "            continue\n",
    "\n",
    "        elif input_data == \"exit\":\n",
    "            print(\"프로그램 종료\")\n",
    "            return\n",
    "        \n",
    "        else:\n",
    "            print(\"프로그램 종료\")\n",
    "            return\n",
    "\n",
    "if __name__ == \"__main__\":\n",
    "    main()"
   ]
  },
  {
   "cell_type": "markdown",
   "metadata": {},
   "source": [
    "## 4. main.py 파일 실행"
   ]
  },
  {
   "cell_type": "code",
   "execution_count": 23,
   "metadata": {},
   "outputs": [
    {
     "name": "stdout",
     "output_type": "stream",
     "text": [
      "실행하고자 하는 항목을 선택하세요: \n",
      "1: 계정별원장 출력\n",
      "2: 거래처원장 출력\n",
      "exit: 프로그램 종료\n",
      "분개장 파일명: 분개장_샘플.xlsx\n",
      "출력 파일명: 계정별원장_main2.xlsx\n",
      "계정별원장_main2.xlsx 파일 생성이 완료되었습니다.\n",
      "\n",
      "\n",
      "실행하고자 하는 항목을 선택하세요: \n",
      "1: 계정별원장 출력\n",
      "2: 거래처원장 출력\n",
      "exit: 프로그램 종료\n",
      "분개장 파일명: 분개장_샘플.xlsx\n",
      "출력 파일명: 거래처원장_main2.xlsx\n",
      "거래처원장_main2.xlsx 파일 생성이 완료되었습니다.\n",
      "\n",
      "\n",
      "실행하고자 하는 항목을 선택하세요: \n",
      "1: 계정별원장 출력\n",
      "2: 거래처원장 출력\n",
      "exit: 프로그램 종료\n",
      "프로그램 종료\n"
     ]
    }
   ],
   "source": [
    "%run main.py"
   ]
  },
  {
   "cell_type": "code",
   "execution_count": null,
   "metadata": {},
   "outputs": [],
   "source": []
  }
 ],
 "metadata": {
  "kernelspec": {
   "display_name": "Python 3",
   "language": "python",
   "name": "python3"
  },
  "language_info": {
   "codemirror_mode": {
    "name": "ipython",
    "version": 3
   },
   "file_extension": ".py",
   "mimetype": "text/x-python",
   "name": "python",
   "nbconvert_exporter": "python",
   "pygments_lexer": "ipython3",
   "version": "3.11.4"
  }
 },
 "nbformat": 4,
 "nbformat_minor": 2
}
