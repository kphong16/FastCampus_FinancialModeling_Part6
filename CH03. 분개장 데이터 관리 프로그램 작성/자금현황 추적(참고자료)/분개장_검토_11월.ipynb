{
 "cells": [
  {
   "cell_type": "code",
   "execution_count": 18,
   "outputs": [],
   "source": [
    "import pandas as pd\n",
    "from pandas import DataFrame, Series\n",
    "from load_jnl_data import Jnls\n",
    "from cafle.genfunc import showdf\n",
    "from datetime import date"
   ],
   "metadata": {
    "collapsed": false,
    "pycharm": {
     "name": "#%%\n"
    }
   }
  },
  {
   "cell_type": "code",
   "execution_count": 2,
   "outputs": [],
   "source": [
    "jnl = Jnls(\"3. 분개장_11월/분개장전체_11월.xlsx\")"
   ],
   "metadata": {
    "collapsed": false,
    "pycharm": {
     "name": "#%%\n"
    }
   }
  },
  {
   "cell_type": "code",
   "execution_count": 7,
   "outputs": [
    {
     "data": {
      "text/plain": "               일자   전표번호   계정코드      계정과목          적요             차변             대변  구분           거래처명  부서사원 부서사원명  신용카드 신용카드명  현장코드   현장명  프로젝트 프로젝트명    코드 자금항목명  관리항목      유형\n0      2022-11-01  00001  25300      미지급금     （주）제일기획  1,000,000,000              0  차변       (주) 제일기획  None  None  None  None  None  None  None  None  None  None  None    일반전표\n1      2022-11-01  00001  10300      보통예금     （주）제일기획              0  1,000,000,000  대변    기업은행(04010)  None  None  None  None  None  None  None  None  None  None  None    일반전표\n2      2022-11-01  00002  25300      미지급금     （주）제일기획    700,000,000              0  차변       (주) 제일기획  None  None  None  None  None  None  None  None  None  None  None    일반전표\n3      2022-11-01  00002  10300      보통예금     （주）제일기획              0    700,000,000  대변    기업은행(04010)  None  None  None  None  None  None  None  None  None  None  None    일반전표\n4      2022-11-01  00003  10300      보통예금     스마트스토어정        195,293              0  차변    기업은행(04010)  None  None  None  None  None  None  None  None  None  None  None    일반전표\n...           ...    ...    ...       ...         ...            ...            ...  ..            ...   ...   ...   ...   ...   ...   ...   ...   ...   ...   ...   ...     ...\n13977  2022-11-30  50019  83300  광고선전비(판)  DA(구글&CPA)     93,900,722              0  차변  주식회사 엠아이디파트너스  None  None  None  None  None  None  None  None  None  None  None  매입매출전표\n13978  2022-11-30  50019  25300      미지급금  DA(구글&CPA)              0    103,290,794  대변  주식회사 엠아이디파트너스  None  None  None  None  None  None  None  None  None  None  None  매입매출전표\n13979  2022-11-30  50020  13500    부가세대급금    푸딩 정기서비스      1,663,310              0  차변       주식회사 열두달  None  None  None  None  None  None  None  None  None  None  None  매입매출전표\n13980  2022-11-30  50020  81100  복리후생비(판)    푸딩 정기서비스     16,633,090              0  차변       주식회사 열두달  None  None  None  None  None  None  None  None  None  None  None  매입매출전표\n13981  2022-11-30  50020  25300      미지급금    푸딩 정기서비스              0     18,296,400  대변       주식회사 열두달  None  None  None  None  None  None  None  None  None  None  None  매입매출전표\n\n[13982 rows x 21 columns]",
      "text/html": "<div>\n<style scoped>\n    .dataframe tbody tr th:only-of-type {\n        vertical-align: middle;\n    }\n\n    .dataframe tbody tr th {\n        vertical-align: top;\n    }\n\n    .dataframe thead th {\n        text-align: right;\n    }\n</style>\n<table border=\"1\" class=\"dataframe\">\n  <thead>\n    <tr style=\"text-align: right;\">\n      <th></th>\n      <th>일자</th>\n      <th>전표번호</th>\n      <th>계정코드</th>\n      <th>계정과목</th>\n      <th>적요</th>\n      <th>차변</th>\n      <th>대변</th>\n      <th>구분</th>\n      <th>거래처명</th>\n      <th>부서사원</th>\n      <th>부서사원명</th>\n      <th>신용카드</th>\n      <th>신용카드명</th>\n      <th>현장코드</th>\n      <th>현장명</th>\n      <th>프로젝트</th>\n      <th>프로젝트명</th>\n      <th>코드</th>\n      <th>자금항목명</th>\n      <th>관리항목</th>\n      <th>유형</th>\n    </tr>\n  </thead>\n  <tbody>\n    <tr>\n      <th>0</th>\n      <td>2022-11-01</td>\n      <td>00001</td>\n      <td>25300</td>\n      <td>미지급금</td>\n      <td>（주）제일기획</td>\n      <td>1,000,000,000</td>\n      <td>0</td>\n      <td>차변</td>\n      <td>(주) 제일기획</td>\n      <td>None</td>\n      <td>None</td>\n      <td>None</td>\n      <td>None</td>\n      <td>None</td>\n      <td>None</td>\n      <td>None</td>\n      <td>None</td>\n      <td>None</td>\n      <td>None</td>\n      <td>None</td>\n      <td>일반전표</td>\n    </tr>\n    <tr>\n      <th>1</th>\n      <td>2022-11-01</td>\n      <td>00001</td>\n      <td>10300</td>\n      <td>보통예금</td>\n      <td>（주）제일기획</td>\n      <td>0</td>\n      <td>1,000,000,000</td>\n      <td>대변</td>\n      <td>기업은행(04010)</td>\n      <td>None</td>\n      <td>None</td>\n      <td>None</td>\n      <td>None</td>\n      <td>None</td>\n      <td>None</td>\n      <td>None</td>\n      <td>None</td>\n      <td>None</td>\n      <td>None</td>\n      <td>None</td>\n      <td>일반전표</td>\n    </tr>\n    <tr>\n      <th>2</th>\n      <td>2022-11-01</td>\n      <td>00002</td>\n      <td>25300</td>\n      <td>미지급금</td>\n      <td>（주）제일기획</td>\n      <td>700,000,000</td>\n      <td>0</td>\n      <td>차변</td>\n      <td>(주) 제일기획</td>\n      <td>None</td>\n      <td>None</td>\n      <td>None</td>\n      <td>None</td>\n      <td>None</td>\n      <td>None</td>\n      <td>None</td>\n      <td>None</td>\n      <td>None</td>\n      <td>None</td>\n      <td>None</td>\n      <td>일반전표</td>\n    </tr>\n    <tr>\n      <th>3</th>\n      <td>2022-11-01</td>\n      <td>00002</td>\n      <td>10300</td>\n      <td>보통예금</td>\n      <td>（주）제일기획</td>\n      <td>0</td>\n      <td>700,000,000</td>\n      <td>대변</td>\n      <td>기업은행(04010)</td>\n      <td>None</td>\n      <td>None</td>\n      <td>None</td>\n      <td>None</td>\n      <td>None</td>\n      <td>None</td>\n      <td>None</td>\n      <td>None</td>\n      <td>None</td>\n      <td>None</td>\n      <td>None</td>\n      <td>일반전표</td>\n    </tr>\n    <tr>\n      <th>4</th>\n      <td>2022-11-01</td>\n      <td>00003</td>\n      <td>10300</td>\n      <td>보통예금</td>\n      <td>스마트스토어정</td>\n      <td>195,293</td>\n      <td>0</td>\n      <td>차변</td>\n      <td>기업은행(04010)</td>\n      <td>None</td>\n      <td>None</td>\n      <td>None</td>\n      <td>None</td>\n      <td>None</td>\n      <td>None</td>\n      <td>None</td>\n      <td>None</td>\n      <td>None</td>\n      <td>None</td>\n      <td>None</td>\n      <td>일반전표</td>\n    </tr>\n    <tr>\n      <th>...</th>\n      <td>...</td>\n      <td>...</td>\n      <td>...</td>\n      <td>...</td>\n      <td>...</td>\n      <td>...</td>\n      <td>...</td>\n      <td>...</td>\n      <td>...</td>\n      <td>...</td>\n      <td>...</td>\n      <td>...</td>\n      <td>...</td>\n      <td>...</td>\n      <td>...</td>\n      <td>...</td>\n      <td>...</td>\n      <td>...</td>\n      <td>...</td>\n      <td>...</td>\n      <td>...</td>\n    </tr>\n    <tr>\n      <th>13977</th>\n      <td>2022-11-30</td>\n      <td>50019</td>\n      <td>83300</td>\n      <td>광고선전비(판)</td>\n      <td>DA(구글&amp;CPA)</td>\n      <td>93,900,722</td>\n      <td>0</td>\n      <td>차변</td>\n      <td>주식회사 엠아이디파트너스</td>\n      <td>None</td>\n      <td>None</td>\n      <td>None</td>\n      <td>None</td>\n      <td>None</td>\n      <td>None</td>\n      <td>None</td>\n      <td>None</td>\n      <td>None</td>\n      <td>None</td>\n      <td>None</td>\n      <td>매입매출전표</td>\n    </tr>\n    <tr>\n      <th>13978</th>\n      <td>2022-11-30</td>\n      <td>50019</td>\n      <td>25300</td>\n      <td>미지급금</td>\n      <td>DA(구글&amp;CPA)</td>\n      <td>0</td>\n      <td>103,290,794</td>\n      <td>대변</td>\n      <td>주식회사 엠아이디파트너스</td>\n      <td>None</td>\n      <td>None</td>\n      <td>None</td>\n      <td>None</td>\n      <td>None</td>\n      <td>None</td>\n      <td>None</td>\n      <td>None</td>\n      <td>None</td>\n      <td>None</td>\n      <td>None</td>\n      <td>매입매출전표</td>\n    </tr>\n    <tr>\n      <th>13979</th>\n      <td>2022-11-30</td>\n      <td>50020</td>\n      <td>13500</td>\n      <td>부가세대급금</td>\n      <td>푸딩 정기서비스</td>\n      <td>1,663,310</td>\n      <td>0</td>\n      <td>차변</td>\n      <td>주식회사 열두달</td>\n      <td>None</td>\n      <td>None</td>\n      <td>None</td>\n      <td>None</td>\n      <td>None</td>\n      <td>None</td>\n      <td>None</td>\n      <td>None</td>\n      <td>None</td>\n      <td>None</td>\n      <td>None</td>\n      <td>매입매출전표</td>\n    </tr>\n    <tr>\n      <th>13980</th>\n      <td>2022-11-30</td>\n      <td>50020</td>\n      <td>81100</td>\n      <td>복리후생비(판)</td>\n      <td>푸딩 정기서비스</td>\n      <td>16,633,090</td>\n      <td>0</td>\n      <td>차변</td>\n      <td>주식회사 열두달</td>\n      <td>None</td>\n      <td>None</td>\n      <td>None</td>\n      <td>None</td>\n      <td>None</td>\n      <td>None</td>\n      <td>None</td>\n      <td>None</td>\n      <td>None</td>\n      <td>None</td>\n      <td>None</td>\n      <td>매입매출전표</td>\n    </tr>\n    <tr>\n      <th>13981</th>\n      <td>2022-11-30</td>\n      <td>50020</td>\n      <td>25300</td>\n      <td>미지급금</td>\n      <td>푸딩 정기서비스</td>\n      <td>0</td>\n      <td>18,296,400</td>\n      <td>대변</td>\n      <td>주식회사 열두달</td>\n      <td>None</td>\n      <td>None</td>\n      <td>None</td>\n      <td>None</td>\n      <td>None</td>\n      <td>None</td>\n      <td>None</td>\n      <td>None</td>\n      <td>None</td>\n      <td>None</td>\n      <td>None</td>\n      <td>매입매출전표</td>\n    </tr>\n  </tbody>\n</table>\n<p>13982 rows × 21 columns</p>\n</div>"
     },
     "execution_count": 7,
     "metadata": {},
     "output_type": "execute_result"
    }
   ],
   "source": [
    "showdf(jnl.df)"
   ],
   "metadata": {
    "collapsed": false,
    "pycharm": {
     "name": "#%%\n"
    }
   }
  },
  {
   "cell_type": "code",
   "execution_count": 8,
   "outputs": [
    {
     "data": {
      "text/plain": "0                      미지급금\n1                      보통예금\n5                     외상매출금\n11                  소모품비(판)\n13                      미수금\n22               설명회_바우처(판)\n23                 지급수수료(판)\n27                    미지급비용\n49                 도서인쇄비(판)\n529                여비교통비(판)\n533                  통신비(판)\n535                복리후생비(판)\n547                  운반비(판)\n607                  접대비(판)\n701                  부가세대급금\n702                수도광열비(판)\n708              기프트콘판촉물(판)\n733                      현금\n1375               광고선전비(판)\n1934                   시설장치\n1975                    잡이익\n1984                    잡손실\n2244               교육훈련비(판)\n4415               교재제작비(판)\n5405          Recruiting(판)\n5414               지급임차료(판)\n5424                    예수금\n7228                   이자비용\n10528                  선납세금\n10530                  이자수익\n11345    사업소득_Influencer(판)\n11839                  선급비용\n12251                   선급금\n13664                  선수수익\n13665                  상품매출\n13939                 B2C매출\n13947                  교재매출\n13952                부가세예수금\n13953                 B2B매출\n13956                 역량지원금\nName: 계정과목, dtype: object"
     },
     "execution_count": 8,
     "metadata": {},
     "output_type": "execute_result"
    }
   ],
   "source": [
    "jnl.df.계정과목.drop_duplicates()"
   ],
   "metadata": {
    "collapsed": false,
    "pycharm": {
     "name": "#%%\n"
    }
   }
  },
  {
   "cell_type": "code",
   "execution_count": 26,
   "outputs": [
    {
     "data": {
      "text/plain": "0          100,000\n1          436,371\n2     -815,959,384\n3    2,434,437,088\n4        9,743,100\n5        6,899,200\ndtype: object"
     },
     "execution_count": 26,
     "metadata": {},
     "output_type": "execute_result"
    }
   ],
   "source": [
    "#### 수익 ####\n",
    "lst = ['잡이익', '이자수익', '상품매출', 'B2C매출', '교재매출', 'B2B매출']\n",
    "showdf(Series([jnl.계정과목(x).대변.sum() for x in lst]))"
   ],
   "metadata": {
    "collapsed": false,
    "pycharm": {
     "name": "#%%\n"
    }
   }
  },
  {
   "cell_type": "code",
   "execution_count": 28,
   "outputs": [
    {
     "name": "stdout",
     "output_type": "stream",
     "text": [
      "수익합계 : 1,635,656,375\n"
     ]
    }
   ],
   "source": [
    "print(f\"수익합계 : {sum([jnl.계정과목(x).대변.sum() for x in lst]):,.0f}\")"
   ],
   "metadata": {
    "collapsed": false,
    "pycharm": {
     "name": "#%%\n"
    }
   }
  },
  {
   "cell_type": "code",
   "execution_count": 29,
   "outputs": [],
   "source": [
    "#### 비용 ####\n",
    "cst_pan = ['소모품비(판)', '설명회_바우처(판)', '지급수수료(판)', '도서인쇄비(판)', '여비교통비(판)', '통신비(판)',\n",
    "           '복리후생비(판)', '운반비(판)', '접대비(판)', '수도광열비(판)', '기프트콘판촉물(판)', '광고선전비(판)',\n",
    "           '교육훈련비(판)', '교재제작비(판)', 'Recruiting(판)', '지급임차료(판)', '사업소득_Influencer(판)']\n",
    "cst_otr = ['잡손실', '이자비용', '역량지원금']"
   ],
   "metadata": {
    "collapsed": false,
    "pycharm": {
     "name": "#%%\n"
    }
   }
  },
  {
   "cell_type": "code",
   "execution_count": 31,
   "outputs": [
    {
     "data": {
      "text/plain": "소모품비(판)                31,622,173\n설명회_바우처(판)             62,484,000\n지급수수료(판)              313,913,911\n도서인쇄비(판)               47,232,750\n여비교통비(판)               23,160,905\n통신비(판)                  6,809,574\n복리후생비(판)               81,107,620\n운반비(판)                    614,700\n접대비(판)                  3,591,380\n수도광열비(판)              109,798,000\n기프트콘판촉물(판)                 40,867\n광고선전비(판)              297,111,312\n교육훈련비(판)                  675,800\n교재제작비(판)                  675,600\nRecruiting(판)          12,765,100\n지급임차료(판)              193,061,553\n사업소득_Influencer(판)      2,500,000\ndtype: object"
     },
     "execution_count": 31,
     "metadata": {},
     "output_type": "execute_result"
    }
   ],
   "source": [
    "srs = Series([jnl.계정과목(x).차변.sum() for x in cst_pan], index=cst_pan)\n",
    "showdf(srs)"
   ],
   "metadata": {
    "collapsed": false,
    "pycharm": {
     "name": "#%%\n"
    }
   }
  },
  {
   "cell_type": "code",
   "execution_count": 34,
   "outputs": [
    {
     "name": "stdout",
     "output_type": "stream",
     "text": [
      "판관비합계 : 1,187,165,245\n"
     ]
    }
   ],
   "source": [
    "print(f\"판관비합계 : {sum(srs):,.0f}\")"
   ],
   "metadata": {
    "collapsed": false,
    "pycharm": {
     "name": "#%%\n"
    }
   }
  },
  {
   "cell_type": "code",
   "execution_count": 50,
   "outputs": [
    {
     "data": {
      "text/plain": "잡손실      371,030,000\n이자비용       2,111,736\n역량지원금              0\ndtype: object"
     },
     "execution_count": 50,
     "metadata": {},
     "output_type": "execute_result"
    }
   ],
   "source": [
    "srs = Series([jnl.계정과목(x).차변.sum() for x in cst_otr], index=cst_otr)\n",
    "showdf(srs)"
   ],
   "metadata": {
    "collapsed": false,
    "pycharm": {
     "name": "#%%\n"
    }
   }
  },
  {
   "cell_type": "code",
   "execution_count": 51,
   "outputs": [
    {
     "name": "stdout",
     "output_type": "stream",
     "text": [
      "기타비용합계 : 373,141,736\n"
     ]
    }
   ],
   "source": [
    "print(f\"기타비용합계 : {sum(srs):,.0f}\")"
   ],
   "metadata": {
    "collapsed": false,
    "pycharm": {
     "name": "#%%\n"
    }
   }
  },
  {
   "cell_type": "markdown",
   "source": [
    "# 이하 상기 데이터를 검토하는 내용임"
   ],
   "metadata": {
    "collapsed": false,
    "pycharm": {
     "name": "#%% md\n"
    }
   }
  },
  {
   "cell_type": "code",
   "execution_count": 55,
   "outputs": [
    {
     "data": {
      "text/plain": "             일자   전표번호   계정코드      계정과목                  적요           차변 대변  구분                거래처명  부서사원 부서사원명  신용카드 신용카드명  현장코드   현장명  프로젝트 프로젝트명    코드 자금항목명  관리항목      유형\n702  2022-11-01  50001  81500  수도광열비(판)  11월 추가관리비(추가 냉방요금)    8,192,000  0  차변  와이이십이프로젝트금융투자 주식회사  None  None  None  None  None  None  None  None  None  None  None  매입매출전표\n705  2022-11-01  50002  81500  수도광열비(판)             11월 관리비  101,606,000  0  차변  와이이십이프로젝트금융투자 주식회사  None  None  None  None  None  None  None  None  None  None  None  매입매출전표",
      "text/html": "<div>\n<style scoped>\n    .dataframe tbody tr th:only-of-type {\n        vertical-align: middle;\n    }\n\n    .dataframe tbody tr th {\n        vertical-align: top;\n    }\n\n    .dataframe thead th {\n        text-align: right;\n    }\n</style>\n<table border=\"1\" class=\"dataframe\">\n  <thead>\n    <tr style=\"text-align: right;\">\n      <th></th>\n      <th>일자</th>\n      <th>전표번호</th>\n      <th>계정코드</th>\n      <th>계정과목</th>\n      <th>적요</th>\n      <th>차변</th>\n      <th>대변</th>\n      <th>구분</th>\n      <th>거래처명</th>\n      <th>부서사원</th>\n      <th>부서사원명</th>\n      <th>신용카드</th>\n      <th>신용카드명</th>\n      <th>현장코드</th>\n      <th>현장명</th>\n      <th>프로젝트</th>\n      <th>프로젝트명</th>\n      <th>코드</th>\n      <th>자금항목명</th>\n      <th>관리항목</th>\n      <th>유형</th>\n    </tr>\n  </thead>\n  <tbody>\n    <tr>\n      <th>702</th>\n      <td>2022-11-01</td>\n      <td>50001</td>\n      <td>81500</td>\n      <td>수도광열비(판)</td>\n      <td>11월 추가관리비(추가 냉방요금)</td>\n      <td>8,192,000</td>\n      <td>0</td>\n      <td>차변</td>\n      <td>와이이십이프로젝트금융투자 주식회사</td>\n      <td>None</td>\n      <td>None</td>\n      <td>None</td>\n      <td>None</td>\n      <td>None</td>\n      <td>None</td>\n      <td>None</td>\n      <td>None</td>\n      <td>None</td>\n      <td>None</td>\n      <td>None</td>\n      <td>매입매출전표</td>\n    </tr>\n    <tr>\n      <th>705</th>\n      <td>2022-11-01</td>\n      <td>50002</td>\n      <td>81500</td>\n      <td>수도광열비(판)</td>\n      <td>11월 관리비</td>\n      <td>101,606,000</td>\n      <td>0</td>\n      <td>차변</td>\n      <td>와이이십이프로젝트금융투자 주식회사</td>\n      <td>None</td>\n      <td>None</td>\n      <td>None</td>\n      <td>None</td>\n      <td>None</td>\n      <td>None</td>\n      <td>None</td>\n      <td>None</td>\n      <td>None</td>\n      <td>None</td>\n      <td>None</td>\n      <td>매입매출전표</td>\n    </tr>\n  </tbody>\n</table>\n</div>"
     },
     "execution_count": 55,
     "metadata": {},
     "output_type": "execute_result"
    }
   ],
   "source": [
    "showdf(jnl.계정과목('수도광열비(판)'))"
   ],
   "metadata": {
    "collapsed": false,
    "pycharm": {
     "name": "#%%\n"
    }
   }
  },
  {
   "cell_type": "code",
   "execution_count": 56,
   "outputs": [
    {
     "data": {
      "text/plain": "               일자   전표번호   계정코드      계정과목                 적요          차변 대변  구분                거래처명  부서사원 부서사원명  신용카드 신용카드명  현장코드   현장명  프로젝트 프로젝트명    코드 자금항목명  관리항목        유형\n5414   2022-11-09  50005  81900  지급임차료(판)          서비스 이용료 1   9,778,800  0  차변  주식회사 아라워크앤올 마포T타운점  None  None  None  None  None  None  None  None  None  None  None    매입매출전표\n9817   2022-11-18  00012  81900  지급임차료(판)                이상기   2,200,000  0  차변            당산 현대홈타운  None  None  None  None  None  None  None  None  None  None  None      일반전표\n10875  2022-11-21  50002  81900  지급임차료(판)          서비스 이용료 3   7,450,000  0  차변  주식회사 아라워크앤올 마포T타운점  None  None  None  None  None  None  None  None  None  None  None    매입매출전표\n13411  2022-11-30  00001  81900  지급임차료(판)    파크원 11월 임차료_39층  95,618,717  0  차변  와이이십이프로젝트금융투자 주식회사  None  None  None  None  None  None  None  None  None  None  None  복사전표[일반]\n13413  2022-11-30  00002  81900  지급임차료(판)  파크원 11월 임차료_38층 1   9,178,923  0  차변  와이이십이프로젝트금융투자 주식회사  None  None  None  None  None  None  None  None  None  None  None  복사전표[일반]\n13415  2022-11-30  00003  81900  지급임차료(판)  파크원 11월 임차료_38층 2  68,835,113  0  차변  와이이십이프로젝트금융투자 주식회사  None  None  None  None  None  None  None  None  None  None  None  복사전표[일반]",
      "text/html": "<div>\n<style scoped>\n    .dataframe tbody tr th:only-of-type {\n        vertical-align: middle;\n    }\n\n    .dataframe tbody tr th {\n        vertical-align: top;\n    }\n\n    .dataframe thead th {\n        text-align: right;\n    }\n</style>\n<table border=\"1\" class=\"dataframe\">\n  <thead>\n    <tr style=\"text-align: right;\">\n      <th></th>\n      <th>일자</th>\n      <th>전표번호</th>\n      <th>계정코드</th>\n      <th>계정과목</th>\n      <th>적요</th>\n      <th>차변</th>\n      <th>대변</th>\n      <th>구분</th>\n      <th>거래처명</th>\n      <th>부서사원</th>\n      <th>부서사원명</th>\n      <th>신용카드</th>\n      <th>신용카드명</th>\n      <th>현장코드</th>\n      <th>현장명</th>\n      <th>프로젝트</th>\n      <th>프로젝트명</th>\n      <th>코드</th>\n      <th>자금항목명</th>\n      <th>관리항목</th>\n      <th>유형</th>\n    </tr>\n  </thead>\n  <tbody>\n    <tr>\n      <th>5414</th>\n      <td>2022-11-09</td>\n      <td>50005</td>\n      <td>81900</td>\n      <td>지급임차료(판)</td>\n      <td>서비스 이용료 1</td>\n      <td>9,778,800</td>\n      <td>0</td>\n      <td>차변</td>\n      <td>주식회사 아라워크앤올 마포T타운점</td>\n      <td>None</td>\n      <td>None</td>\n      <td>None</td>\n      <td>None</td>\n      <td>None</td>\n      <td>None</td>\n      <td>None</td>\n      <td>None</td>\n      <td>None</td>\n      <td>None</td>\n      <td>None</td>\n      <td>매입매출전표</td>\n    </tr>\n    <tr>\n      <th>9817</th>\n      <td>2022-11-18</td>\n      <td>00012</td>\n      <td>81900</td>\n      <td>지급임차료(판)</td>\n      <td>이상기</td>\n      <td>2,200,000</td>\n      <td>0</td>\n      <td>차변</td>\n      <td>당산 현대홈타운</td>\n      <td>None</td>\n      <td>None</td>\n      <td>None</td>\n      <td>None</td>\n      <td>None</td>\n      <td>None</td>\n      <td>None</td>\n      <td>None</td>\n      <td>None</td>\n      <td>None</td>\n      <td>None</td>\n      <td>일반전표</td>\n    </tr>\n    <tr>\n      <th>10875</th>\n      <td>2022-11-21</td>\n      <td>50002</td>\n      <td>81900</td>\n      <td>지급임차료(판)</td>\n      <td>서비스 이용료 3</td>\n      <td>7,450,000</td>\n      <td>0</td>\n      <td>차변</td>\n      <td>주식회사 아라워크앤올 마포T타운점</td>\n      <td>None</td>\n      <td>None</td>\n      <td>None</td>\n      <td>None</td>\n      <td>None</td>\n      <td>None</td>\n      <td>None</td>\n      <td>None</td>\n      <td>None</td>\n      <td>None</td>\n      <td>None</td>\n      <td>매입매출전표</td>\n    </tr>\n    <tr>\n      <th>13411</th>\n      <td>2022-11-30</td>\n      <td>00001</td>\n      <td>81900</td>\n      <td>지급임차료(판)</td>\n      <td>파크원 11월 임차료_39층</td>\n      <td>95,618,717</td>\n      <td>0</td>\n      <td>차변</td>\n      <td>와이이십이프로젝트금융투자 주식회사</td>\n      <td>None</td>\n      <td>None</td>\n      <td>None</td>\n      <td>None</td>\n      <td>None</td>\n      <td>None</td>\n      <td>None</td>\n      <td>None</td>\n      <td>None</td>\n      <td>None</td>\n      <td>None</td>\n      <td>복사전표[일반]</td>\n    </tr>\n    <tr>\n      <th>13413</th>\n      <td>2022-11-30</td>\n      <td>00002</td>\n      <td>81900</td>\n      <td>지급임차료(판)</td>\n      <td>파크원 11월 임차료_38층 1</td>\n      <td>9,178,923</td>\n      <td>0</td>\n      <td>차변</td>\n      <td>와이이십이프로젝트금융투자 주식회사</td>\n      <td>None</td>\n      <td>None</td>\n      <td>None</td>\n      <td>None</td>\n      <td>None</td>\n      <td>None</td>\n      <td>None</td>\n      <td>None</td>\n      <td>None</td>\n      <td>None</td>\n      <td>None</td>\n      <td>복사전표[일반]</td>\n    </tr>\n    <tr>\n      <th>13415</th>\n      <td>2022-11-30</td>\n      <td>00003</td>\n      <td>81900</td>\n      <td>지급임차료(판)</td>\n      <td>파크원 11월 임차료_38층 2</td>\n      <td>68,835,113</td>\n      <td>0</td>\n      <td>차변</td>\n      <td>와이이십이프로젝트금융투자 주식회사</td>\n      <td>None</td>\n      <td>None</td>\n      <td>None</td>\n      <td>None</td>\n      <td>None</td>\n      <td>None</td>\n      <td>None</td>\n      <td>None</td>\n      <td>None</td>\n      <td>None</td>\n      <td>None</td>\n      <td>복사전표[일반]</td>\n    </tr>\n  </tbody>\n</table>\n</div>"
     },
     "execution_count": 56,
     "metadata": {},
     "output_type": "execute_result"
    }
   ],
   "source": [
    "showdf(jnl.계정과목('지급임차료(판)'))"
   ],
   "metadata": {
    "collapsed": false,
    "pycharm": {
     "name": "#%%\n"
    }
   }
  },
  {
   "cell_type": "code",
   "execution_count": null,
   "outputs": [],
   "source": [],
   "metadata": {
    "collapsed": false,
    "pycharm": {
     "name": "#%%\n"
    }
   }
  },
  {
   "cell_type": "code",
   "execution_count": 64,
   "outputs": [
    {
     "data": {
      "text/plain": "             일자   전표번호   계정코드      계정과목                  적요       차변       대변  구분                거래처명  부서사원 부서사원명  신용카드 신용카드명  현장코드   현장명  프로젝트 프로젝트명    코드 자금항목명  관리항목      유형\n701  2022-11-01  50001  13500    부가세대급금  11월 추가관리비(추가 냉방요금)   819200        0  차변  와이이십이프로젝트금융투자 주식회사  None  None  None  None  None  None  None  None  None  None  None  매입매출전표\n702  2022-11-01  50001  81500  수도광열비(판)  11월 추가관리비(추가 냉방요금)  8192000        0  차변  와이이십이프로젝트금융투자 주식회사  None  None  None  None  None  None  None  None  None  None  None  매입매출전표\n703  2022-11-01  50001  25300      미지급금  11월 추가관리비(추가 냉방요금)        0  9011200  대변  와이이십이프로젝트금융투자 주식회사  None  None  None  None  None  None  None  None  None  None  None  매입매출전표",
      "text/html": "<div>\n<style scoped>\n    .dataframe tbody tr th:only-of-type {\n        vertical-align: middle;\n    }\n\n    .dataframe tbody tr th {\n        vertical-align: top;\n    }\n\n    .dataframe thead th {\n        text-align: right;\n    }\n</style>\n<table border=\"1\" class=\"dataframe\">\n  <thead>\n    <tr style=\"text-align: right;\">\n      <th></th>\n      <th>일자</th>\n      <th>전표번호</th>\n      <th>계정코드</th>\n      <th>계정과목</th>\n      <th>적요</th>\n      <th>차변</th>\n      <th>대변</th>\n      <th>구분</th>\n      <th>거래처명</th>\n      <th>부서사원</th>\n      <th>부서사원명</th>\n      <th>신용카드</th>\n      <th>신용카드명</th>\n      <th>현장코드</th>\n      <th>현장명</th>\n      <th>프로젝트</th>\n      <th>프로젝트명</th>\n      <th>코드</th>\n      <th>자금항목명</th>\n      <th>관리항목</th>\n      <th>유형</th>\n    </tr>\n  </thead>\n  <tbody>\n    <tr>\n      <th>701</th>\n      <td>2022-11-01</td>\n      <td>50001</td>\n      <td>13500</td>\n      <td>부가세대급금</td>\n      <td>11월 추가관리비(추가 냉방요금)</td>\n      <td>819200</td>\n      <td>0</td>\n      <td>차변</td>\n      <td>와이이십이프로젝트금융투자 주식회사</td>\n      <td>None</td>\n      <td>None</td>\n      <td>None</td>\n      <td>None</td>\n      <td>None</td>\n      <td>None</td>\n      <td>None</td>\n      <td>None</td>\n      <td>None</td>\n      <td>None</td>\n      <td>None</td>\n      <td>매입매출전표</td>\n    </tr>\n    <tr>\n      <th>702</th>\n      <td>2022-11-01</td>\n      <td>50001</td>\n      <td>81500</td>\n      <td>수도광열비(판)</td>\n      <td>11월 추가관리비(추가 냉방요금)</td>\n      <td>8192000</td>\n      <td>0</td>\n      <td>차변</td>\n      <td>와이이십이프로젝트금융투자 주식회사</td>\n      <td>None</td>\n      <td>None</td>\n      <td>None</td>\n      <td>None</td>\n      <td>None</td>\n      <td>None</td>\n      <td>None</td>\n      <td>None</td>\n      <td>None</td>\n      <td>None</td>\n      <td>None</td>\n      <td>매입매출전표</td>\n    </tr>\n    <tr>\n      <th>703</th>\n      <td>2022-11-01</td>\n      <td>50001</td>\n      <td>25300</td>\n      <td>미지급금</td>\n      <td>11월 추가관리비(추가 냉방요금)</td>\n      <td>0</td>\n      <td>9011200</td>\n      <td>대변</td>\n      <td>와이이십이프로젝트금융투자 주식회사</td>\n      <td>None</td>\n      <td>None</td>\n      <td>None</td>\n      <td>None</td>\n      <td>None</td>\n      <td>None</td>\n      <td>None</td>\n      <td>None</td>\n      <td>None</td>\n      <td>None</td>\n      <td>None</td>\n      <td>매입매출전표</td>\n    </tr>\n  </tbody>\n</table>\n</div>"
     },
     "execution_count": 64,
     "metadata": {},
     "output_type": "execute_result"
    }
   ],
   "source": [
    "tmp = jnl.일자(date(2022, 11, 1))\n",
    "tmp[tmp.전표번호 == '50001']"
   ],
   "metadata": {
    "collapsed": false,
    "pycharm": {
     "name": "#%%\n"
    }
   }
  },
  {
   "cell_type": "code",
   "execution_count": 58,
   "outputs": [
    {
     "data": {
      "text/plain": "               일자   전표번호   계정코드           계정과목           적요       차변       대변  구분                거래처명  부서사원 부서사원명  신용카드 신용카드명  현장코드   현장명  프로젝트 프로젝트명    코드 자금항목명  관리항목      유형\n10525  2022-11-21  00001  10300           보통예금      스마트스토어정  1026714        0  차변         기업은행(04010)  None  None  None  None  None  None  None  None  None  None  None    일반전표\n10526  2022-11-21  00001  10800          외상매출금      스마트스토어정        0  1026714  대변         네이버스마트스토어교재  None  None  None  None  None  None  None  None  None  None  None    일반전표\n10527  2022-11-21  00002  10300           보통예금      2022년결산   369181        0  차변         기업은행(04010)  None  None  None  None  None  None  None  None  None  None  None    일반전표\n10528  2022-11-21  00002  13600           선납세금  이자소득 원천징수세액    61090        0  차변              영등포세무서  None  None  None  None  None  None  None  None  None  None  None    일반전표\n10529  2022-11-21  00002  13600           선납세금  이자소득 원천징수세액     6100        0  차변               영등포구청  None  None  None  None  None  None  None  None  None  None  None    일반전표\n...           ...    ...    ...            ...          ...      ...      ...  ..                 ...   ...   ...   ...   ...   ...   ...   ...   ...   ...   ...   ...     ...\n10872  2022-11-21  50001  83109  Recruiting(판)  채용플랫폼 이용수수료  2352000        0  차변           주식회사 원티드랩  None  None  None  None  None  None  None  None  None  None  None  매입매출전표\n10873  2022-11-21  50001  25300           미지급금  채용플랫폼 이용수수료        0  2587200  대변           주식회사 원티드랩  None  None  None  None  None  None  None  None  None  None  None  매입매출전표\n10874  2022-11-21  50002  13500         부가세대급금    서비스 이용료 3   745000        0  차변  주식회사 아라워크앤올 마포T타운점  None  None  None  None  None  None  None  None  None  None  None  매입매출전표\n10875  2022-11-21  50002  81900       지급임차료(판)    서비스 이용료 3  7450000        0  차변  주식회사 아라워크앤올 마포T타운점  None  None  None  None  None  None  None  None  None  None  None  매입매출전표\n10876  2022-11-21  50002  25300           미지급금    서비스 이용료 3        0  8195000  대변  주식회사 아라워크앤올 마포T타운점  None  None  None  None  None  None  None  None  None  None  None  매입매출전표\n\n[352 rows x 21 columns]",
      "text/html": "<div>\n<style scoped>\n    .dataframe tbody tr th:only-of-type {\n        vertical-align: middle;\n    }\n\n    .dataframe tbody tr th {\n        vertical-align: top;\n    }\n\n    .dataframe thead th {\n        text-align: right;\n    }\n</style>\n<table border=\"1\" class=\"dataframe\">\n  <thead>\n    <tr style=\"text-align: right;\">\n      <th></th>\n      <th>일자</th>\n      <th>전표번호</th>\n      <th>계정코드</th>\n      <th>계정과목</th>\n      <th>적요</th>\n      <th>차변</th>\n      <th>대변</th>\n      <th>구분</th>\n      <th>거래처명</th>\n      <th>부서사원</th>\n      <th>부서사원명</th>\n      <th>신용카드</th>\n      <th>신용카드명</th>\n      <th>현장코드</th>\n      <th>현장명</th>\n      <th>프로젝트</th>\n      <th>프로젝트명</th>\n      <th>코드</th>\n      <th>자금항목명</th>\n      <th>관리항목</th>\n      <th>유형</th>\n    </tr>\n  </thead>\n  <tbody>\n    <tr>\n      <th>10525</th>\n      <td>2022-11-21</td>\n      <td>00001</td>\n      <td>10300</td>\n      <td>보통예금</td>\n      <td>스마트스토어정</td>\n      <td>1026714</td>\n      <td>0</td>\n      <td>차변</td>\n      <td>기업은행(04010)</td>\n      <td>None</td>\n      <td>None</td>\n      <td>None</td>\n      <td>None</td>\n      <td>None</td>\n      <td>None</td>\n      <td>None</td>\n      <td>None</td>\n      <td>None</td>\n      <td>None</td>\n      <td>None</td>\n      <td>일반전표</td>\n    </tr>\n    <tr>\n      <th>10526</th>\n      <td>2022-11-21</td>\n      <td>00001</td>\n      <td>10800</td>\n      <td>외상매출금</td>\n      <td>스마트스토어정</td>\n      <td>0</td>\n      <td>1026714</td>\n      <td>대변</td>\n      <td>네이버스마트스토어교재</td>\n      <td>None</td>\n      <td>None</td>\n      <td>None</td>\n      <td>None</td>\n      <td>None</td>\n      <td>None</td>\n      <td>None</td>\n      <td>None</td>\n      <td>None</td>\n      <td>None</td>\n      <td>None</td>\n      <td>일반전표</td>\n    </tr>\n    <tr>\n      <th>10527</th>\n      <td>2022-11-21</td>\n      <td>00002</td>\n      <td>10300</td>\n      <td>보통예금</td>\n      <td>2022년결산</td>\n      <td>369181</td>\n      <td>0</td>\n      <td>차변</td>\n      <td>기업은행(04010)</td>\n      <td>None</td>\n      <td>None</td>\n      <td>None</td>\n      <td>None</td>\n      <td>None</td>\n      <td>None</td>\n      <td>None</td>\n      <td>None</td>\n      <td>None</td>\n      <td>None</td>\n      <td>None</td>\n      <td>일반전표</td>\n    </tr>\n    <tr>\n      <th>10528</th>\n      <td>2022-11-21</td>\n      <td>00002</td>\n      <td>13600</td>\n      <td>선납세금</td>\n      <td>이자소득 원천징수세액</td>\n      <td>61090</td>\n      <td>0</td>\n      <td>차변</td>\n      <td>영등포세무서</td>\n      <td>None</td>\n      <td>None</td>\n      <td>None</td>\n      <td>None</td>\n      <td>None</td>\n      <td>None</td>\n      <td>None</td>\n      <td>None</td>\n      <td>None</td>\n      <td>None</td>\n      <td>None</td>\n      <td>일반전표</td>\n    </tr>\n    <tr>\n      <th>10529</th>\n      <td>2022-11-21</td>\n      <td>00002</td>\n      <td>13600</td>\n      <td>선납세금</td>\n      <td>이자소득 원천징수세액</td>\n      <td>6100</td>\n      <td>0</td>\n      <td>차변</td>\n      <td>영등포구청</td>\n      <td>None</td>\n      <td>None</td>\n      <td>None</td>\n      <td>None</td>\n      <td>None</td>\n      <td>None</td>\n      <td>None</td>\n      <td>None</td>\n      <td>None</td>\n      <td>None</td>\n      <td>None</td>\n      <td>일반전표</td>\n    </tr>\n    <tr>\n      <th>...</th>\n      <td>...</td>\n      <td>...</td>\n      <td>...</td>\n      <td>...</td>\n      <td>...</td>\n      <td>...</td>\n      <td>...</td>\n      <td>...</td>\n      <td>...</td>\n      <td>...</td>\n      <td>...</td>\n      <td>...</td>\n      <td>...</td>\n      <td>...</td>\n      <td>...</td>\n      <td>...</td>\n      <td>...</td>\n      <td>...</td>\n      <td>...</td>\n      <td>...</td>\n      <td>...</td>\n    </tr>\n    <tr>\n      <th>10872</th>\n      <td>2022-11-21</td>\n      <td>50001</td>\n      <td>83109</td>\n      <td>Recruiting(판)</td>\n      <td>채용플랫폼 이용수수료</td>\n      <td>2352000</td>\n      <td>0</td>\n      <td>차변</td>\n      <td>주식회사 원티드랩</td>\n      <td>None</td>\n      <td>None</td>\n      <td>None</td>\n      <td>None</td>\n      <td>None</td>\n      <td>None</td>\n      <td>None</td>\n      <td>None</td>\n      <td>None</td>\n      <td>None</td>\n      <td>None</td>\n      <td>매입매출전표</td>\n    </tr>\n    <tr>\n      <th>10873</th>\n      <td>2022-11-21</td>\n      <td>50001</td>\n      <td>25300</td>\n      <td>미지급금</td>\n      <td>채용플랫폼 이용수수료</td>\n      <td>0</td>\n      <td>2587200</td>\n      <td>대변</td>\n      <td>주식회사 원티드랩</td>\n      <td>None</td>\n      <td>None</td>\n      <td>None</td>\n      <td>None</td>\n      <td>None</td>\n      <td>None</td>\n      <td>None</td>\n      <td>None</td>\n      <td>None</td>\n      <td>None</td>\n      <td>None</td>\n      <td>매입매출전표</td>\n    </tr>\n    <tr>\n      <th>10874</th>\n      <td>2022-11-21</td>\n      <td>50002</td>\n      <td>13500</td>\n      <td>부가세대급금</td>\n      <td>서비스 이용료 3</td>\n      <td>745000</td>\n      <td>0</td>\n      <td>차변</td>\n      <td>주식회사 아라워크앤올 마포T타운점</td>\n      <td>None</td>\n      <td>None</td>\n      <td>None</td>\n      <td>None</td>\n      <td>None</td>\n      <td>None</td>\n      <td>None</td>\n      <td>None</td>\n      <td>None</td>\n      <td>None</td>\n      <td>None</td>\n      <td>매입매출전표</td>\n    </tr>\n    <tr>\n      <th>10875</th>\n      <td>2022-11-21</td>\n      <td>50002</td>\n      <td>81900</td>\n      <td>지급임차료(판)</td>\n      <td>서비스 이용료 3</td>\n      <td>7450000</td>\n      <td>0</td>\n      <td>차변</td>\n      <td>주식회사 아라워크앤올 마포T타운점</td>\n      <td>None</td>\n      <td>None</td>\n      <td>None</td>\n      <td>None</td>\n      <td>None</td>\n      <td>None</td>\n      <td>None</td>\n      <td>None</td>\n      <td>None</td>\n      <td>None</td>\n      <td>None</td>\n      <td>매입매출전표</td>\n    </tr>\n    <tr>\n      <th>10876</th>\n      <td>2022-11-21</td>\n      <td>50002</td>\n      <td>25300</td>\n      <td>미지급금</td>\n      <td>서비스 이용료 3</td>\n      <td>0</td>\n      <td>8195000</td>\n      <td>대변</td>\n      <td>주식회사 아라워크앤올 마포T타운점</td>\n      <td>None</td>\n      <td>None</td>\n      <td>None</td>\n      <td>None</td>\n      <td>None</td>\n      <td>None</td>\n      <td>None</td>\n      <td>None</td>\n      <td>None</td>\n      <td>None</td>\n      <td>None</td>\n      <td>매입매출전표</td>\n    </tr>\n  </tbody>\n</table>\n<p>352 rows × 21 columns</p>\n</div>"
     },
     "execution_count": 58,
     "metadata": {},
     "output_type": "execute_result"
    }
   ],
   "source": [
    "jnl.일자(date(2022, 11, 21))"
   ],
   "metadata": {
    "collapsed": false,
    "pycharm": {
     "name": "#%%\n"
    }
   }
  },
  {
   "cell_type": "code",
   "execution_count": 65,
   "outputs": [],
   "source": [
    "미지급금 = jnl.계정과목('미지급금')"
   ],
   "metadata": {
    "collapsed": false,
    "pycharm": {
     "name": "#%%\n"
    }
   }
  },
  {
   "cell_type": "code",
   "execution_count": 70,
   "outputs": [
    {
     "data": {
      "text/plain": "0                          （주）제일기획\n8                             신한카드\n20                         롯데카드(주)\n25                         주식회사 루나\n50                           도서인쇄비\n                   ...            \n13969                      디지털 서비스\n13972    2022년 11월 가입비 1 X 392,727\n13975                   사무실 간식, 음료\n13978                   DA(구글&CPA)\n13981                     푸딩 정기서비스\nName: 적요, Length: 296, dtype: object"
     },
     "execution_count": 70,
     "metadata": {},
     "output_type": "execute_result"
    }
   ],
   "source": [
    "미지급금.적요.drop_duplicates()"
   ],
   "metadata": {
    "collapsed": false,
    "pycharm": {
     "name": "#%%\n"
    }
   }
  },
  {
   "cell_type": "code",
   "execution_count": null,
   "outputs": [],
   "source": [],
   "metadata": {
    "collapsed": false,
    "pycharm": {
     "name": "#%%\n"
    }
   }
  },
  {
   "cell_type": "code",
   "execution_count": null,
   "outputs": [],
   "source": [],
   "metadata": {
    "collapsed": false,
    "pycharm": {
     "name": "#%%\n"
    }
   }
  },
  {
   "cell_type": "code",
   "execution_count": null,
   "outputs": [],
   "source": [],
   "metadata": {
    "collapsed": false,
    "pycharm": {
     "name": "#%%\n"
    }
   }
  },
  {
   "cell_type": "code",
   "execution_count": null,
   "outputs": [],
   "source": [],
   "metadata": {
    "collapsed": false,
    "pycharm": {
     "name": "#%%\n"
    }
   }
  },
  {
   "cell_type": "code",
   "execution_count": 44,
   "outputs": [],
   "source": [
    "교통비 = jnl.계정과목('여비교통비(판)')\n",
    "야근교통비 = 교통비[교통비['적요'] == '야근교통비']"
   ],
   "metadata": {
    "collapsed": false,
    "pycharm": {
     "name": "#%%\n"
    }
   }
  },
  {
   "cell_type": "code",
   "execution_count": 45,
   "outputs": [
    {
     "data": {
      "text/plain": "               일자   전표번호   계정코드      계정과목     적요     차변  대변  구분          거래처명  부서사원 부서사원명  신용카드 신용카드명  현장코드   현장명  프로젝트 프로젝트명    코드 자금항목명  관리항목    유형\n537    2022-11-01  00269  81200  여비교통비(판)  야근교통비   5200   0  차변  주식회사 한국스마트카드  None  None  None  None  None  None  None  None  None  None  None  일반전표\n543    2022-11-01  00272  81200  여비교통비(판)  야근교통비  14700   0  차변  주식회사 한국사이버결제  None  None  None  None  None  None  None  None  None  None  None  일반전표\n555    2022-11-01  00278  81200  여비교통비(판)  야근교통비   9600   0  차변  주식회사 한국사이버결제  None  None  None  None  None  None  None  None  None  None  None  일반전표\n567    2022-11-01  00284  81200  여비교통비(판)  야근교통비   3000   0  차변  주식회사 한국스마트카드  None  None  None  None  None  None  None  None  None  None  None  일반전표\n569    2022-11-01  00285  81200  여비교통비(판)  야근교통비  10400   0  차변  주식회사 한국스마트카드  None  None  None  None  None  None  None  None  None  None  None  일반전표\n...           ...    ...    ...       ...    ...    ...  ..  ..           ...   ...   ...   ...   ...   ...   ...   ...   ...   ...   ...   ...   ...\n13903  2022-11-30  00234  81200  여비교통비(판)  야근교통비  13800   0  차변  주식회사 한국스마트카드  None  None  None  None  None  None  None  None  None  None  None  일반전표\n13919  2022-11-30  00242  81200  여비교통비(판)  야근교통비  17500   0  차변  주식회사 한국스마트카드  None  None  None  None  None  None  None  None  None  None  None  일반전표\n13921  2022-11-30  00243  81200  여비교통비(판)  야근교통비  27900   0  차변  주식회사 한국스마트카드  None  None  None  None  None  None  None  None  None  None  None  일반전표\n13925  2022-11-30  00245  81200  여비교통비(판)  야근교통비  23300   0  차변  주식회사 한국스마트카드  None  None  None  None  None  None  None  None  None  None  None  일반전표\n13927  2022-11-30  00246  81200  여비교통비(판)  야근교통비  31200   0  차변  주식회사 한국스마트카드  None  None  None  None  None  None  None  None  None  None  None  일반전표\n\n[1020 rows x 21 columns]",
      "text/html": "<div>\n<style scoped>\n    .dataframe tbody tr th:only-of-type {\n        vertical-align: middle;\n    }\n\n    .dataframe tbody tr th {\n        vertical-align: top;\n    }\n\n    .dataframe thead th {\n        text-align: right;\n    }\n</style>\n<table border=\"1\" class=\"dataframe\">\n  <thead>\n    <tr style=\"text-align: right;\">\n      <th></th>\n      <th>일자</th>\n      <th>전표번호</th>\n      <th>계정코드</th>\n      <th>계정과목</th>\n      <th>적요</th>\n      <th>차변</th>\n      <th>대변</th>\n      <th>구분</th>\n      <th>거래처명</th>\n      <th>부서사원</th>\n      <th>부서사원명</th>\n      <th>신용카드</th>\n      <th>신용카드명</th>\n      <th>현장코드</th>\n      <th>현장명</th>\n      <th>프로젝트</th>\n      <th>프로젝트명</th>\n      <th>코드</th>\n      <th>자금항목명</th>\n      <th>관리항목</th>\n      <th>유형</th>\n    </tr>\n  </thead>\n  <tbody>\n    <tr>\n      <th>537</th>\n      <td>2022-11-01</td>\n      <td>00269</td>\n      <td>81200</td>\n      <td>여비교통비(판)</td>\n      <td>야근교통비</td>\n      <td>5200</td>\n      <td>0</td>\n      <td>차변</td>\n      <td>주식회사 한국스마트카드</td>\n      <td>None</td>\n      <td>None</td>\n      <td>None</td>\n      <td>None</td>\n      <td>None</td>\n      <td>None</td>\n      <td>None</td>\n      <td>None</td>\n      <td>None</td>\n      <td>None</td>\n      <td>None</td>\n      <td>일반전표</td>\n    </tr>\n    <tr>\n      <th>543</th>\n      <td>2022-11-01</td>\n      <td>00272</td>\n      <td>81200</td>\n      <td>여비교통비(판)</td>\n      <td>야근교통비</td>\n      <td>14700</td>\n      <td>0</td>\n      <td>차변</td>\n      <td>주식회사 한국사이버결제</td>\n      <td>None</td>\n      <td>None</td>\n      <td>None</td>\n      <td>None</td>\n      <td>None</td>\n      <td>None</td>\n      <td>None</td>\n      <td>None</td>\n      <td>None</td>\n      <td>None</td>\n      <td>None</td>\n      <td>일반전표</td>\n    </tr>\n    <tr>\n      <th>555</th>\n      <td>2022-11-01</td>\n      <td>00278</td>\n      <td>81200</td>\n      <td>여비교통비(판)</td>\n      <td>야근교통비</td>\n      <td>9600</td>\n      <td>0</td>\n      <td>차변</td>\n      <td>주식회사 한국사이버결제</td>\n      <td>None</td>\n      <td>None</td>\n      <td>None</td>\n      <td>None</td>\n      <td>None</td>\n      <td>None</td>\n      <td>None</td>\n      <td>None</td>\n      <td>None</td>\n      <td>None</td>\n      <td>None</td>\n      <td>일반전표</td>\n    </tr>\n    <tr>\n      <th>567</th>\n      <td>2022-11-01</td>\n      <td>00284</td>\n      <td>81200</td>\n      <td>여비교통비(판)</td>\n      <td>야근교통비</td>\n      <td>3000</td>\n      <td>0</td>\n      <td>차변</td>\n      <td>주식회사 한국스마트카드</td>\n      <td>None</td>\n      <td>None</td>\n      <td>None</td>\n      <td>None</td>\n      <td>None</td>\n      <td>None</td>\n      <td>None</td>\n      <td>None</td>\n      <td>None</td>\n      <td>None</td>\n      <td>None</td>\n      <td>일반전표</td>\n    </tr>\n    <tr>\n      <th>569</th>\n      <td>2022-11-01</td>\n      <td>00285</td>\n      <td>81200</td>\n      <td>여비교통비(판)</td>\n      <td>야근교통비</td>\n      <td>10400</td>\n      <td>0</td>\n      <td>차변</td>\n      <td>주식회사 한국스마트카드</td>\n      <td>None</td>\n      <td>None</td>\n      <td>None</td>\n      <td>None</td>\n      <td>None</td>\n      <td>None</td>\n      <td>None</td>\n      <td>None</td>\n      <td>None</td>\n      <td>None</td>\n      <td>None</td>\n      <td>일반전표</td>\n    </tr>\n    <tr>\n      <th>...</th>\n      <td>...</td>\n      <td>...</td>\n      <td>...</td>\n      <td>...</td>\n      <td>...</td>\n      <td>...</td>\n      <td>...</td>\n      <td>...</td>\n      <td>...</td>\n      <td>...</td>\n      <td>...</td>\n      <td>...</td>\n      <td>...</td>\n      <td>...</td>\n      <td>...</td>\n      <td>...</td>\n      <td>...</td>\n      <td>...</td>\n      <td>...</td>\n      <td>...</td>\n      <td>...</td>\n    </tr>\n    <tr>\n      <th>13903</th>\n      <td>2022-11-30</td>\n      <td>00234</td>\n      <td>81200</td>\n      <td>여비교통비(판)</td>\n      <td>야근교통비</td>\n      <td>13800</td>\n      <td>0</td>\n      <td>차변</td>\n      <td>주식회사 한국스마트카드</td>\n      <td>None</td>\n      <td>None</td>\n      <td>None</td>\n      <td>None</td>\n      <td>None</td>\n      <td>None</td>\n      <td>None</td>\n      <td>None</td>\n      <td>None</td>\n      <td>None</td>\n      <td>None</td>\n      <td>일반전표</td>\n    </tr>\n    <tr>\n      <th>13919</th>\n      <td>2022-11-30</td>\n      <td>00242</td>\n      <td>81200</td>\n      <td>여비교통비(판)</td>\n      <td>야근교통비</td>\n      <td>17500</td>\n      <td>0</td>\n      <td>차변</td>\n      <td>주식회사 한국스마트카드</td>\n      <td>None</td>\n      <td>None</td>\n      <td>None</td>\n      <td>None</td>\n      <td>None</td>\n      <td>None</td>\n      <td>None</td>\n      <td>None</td>\n      <td>None</td>\n      <td>None</td>\n      <td>None</td>\n      <td>일반전표</td>\n    </tr>\n    <tr>\n      <th>13921</th>\n      <td>2022-11-30</td>\n      <td>00243</td>\n      <td>81200</td>\n      <td>여비교통비(판)</td>\n      <td>야근교통비</td>\n      <td>27900</td>\n      <td>0</td>\n      <td>차변</td>\n      <td>주식회사 한국스마트카드</td>\n      <td>None</td>\n      <td>None</td>\n      <td>None</td>\n      <td>None</td>\n      <td>None</td>\n      <td>None</td>\n      <td>None</td>\n      <td>None</td>\n      <td>None</td>\n      <td>None</td>\n      <td>None</td>\n      <td>일반전표</td>\n    </tr>\n    <tr>\n      <th>13925</th>\n      <td>2022-11-30</td>\n      <td>00245</td>\n      <td>81200</td>\n      <td>여비교통비(판)</td>\n      <td>야근교통비</td>\n      <td>23300</td>\n      <td>0</td>\n      <td>차변</td>\n      <td>주식회사 한국스마트카드</td>\n      <td>None</td>\n      <td>None</td>\n      <td>None</td>\n      <td>None</td>\n      <td>None</td>\n      <td>None</td>\n      <td>None</td>\n      <td>None</td>\n      <td>None</td>\n      <td>None</td>\n      <td>None</td>\n      <td>일반전표</td>\n    </tr>\n    <tr>\n      <th>13927</th>\n      <td>2022-11-30</td>\n      <td>00246</td>\n      <td>81200</td>\n      <td>여비교통비(판)</td>\n      <td>야근교통비</td>\n      <td>31200</td>\n      <td>0</td>\n      <td>차변</td>\n      <td>주식회사 한국스마트카드</td>\n      <td>None</td>\n      <td>None</td>\n      <td>None</td>\n      <td>None</td>\n      <td>None</td>\n      <td>None</td>\n      <td>None</td>\n      <td>None</td>\n      <td>None</td>\n      <td>None</td>\n      <td>None</td>\n      <td>일반전표</td>\n    </tr>\n  </tbody>\n</table>\n<p>1020 rows × 21 columns</p>\n</div>"
     },
     "execution_count": 45,
     "metadata": {},
     "output_type": "execute_result"
    }
   ],
   "source": [
    "야근교통비"
   ],
   "metadata": {
    "collapsed": false,
    "pycharm": {
     "name": "#%%\n"
    }
   }
  },
  {
   "cell_type": "code",
   "execution_count": 49,
   "outputs": [
    {
     "data": {
      "text/plain": "17462.441176470587"
     },
     "execution_count": 49,
     "metadata": {},
     "output_type": "execute_result"
    }
   ],
   "source": [
    "sum(야근교통비['차변']) / len(야근교통비)"
   ],
   "metadata": {
    "collapsed": false,
    "pycharm": {
     "name": "#%%\n"
    }
   }
  },
  {
   "cell_type": "code",
   "execution_count": null,
   "outputs": [],
   "source": [],
   "metadata": {
    "collapsed": false,
    "pycharm": {
     "name": "#%%\n"
    }
   }
  }
 ],
 "metadata": {
  "kernelspec": {
   "display_name": "Python 3",
   "language": "python",
   "name": "python3"
  },
  "language_info": {
   "codemirror_mode": {
    "name": "ipython",
    "version": 2
   },
   "file_extension": ".py",
   "mimetype": "text/x-python",
   "name": "python",
   "nbconvert_exporter": "python",
   "pygments_lexer": "ipython2",
   "version": "2.7.6"
  }
 },
 "nbformat": 4,
 "nbformat_minor": 0
}