{
 "cells": [
  {
   "cell_type": "code",
   "execution_count": 1,
   "metadata": {
    "collapsed": true,
    "pycharm": {
     "name": "#%%\n"
    }
   },
   "outputs": [],
   "source": [
    "import pandas as pd\n",
    "from pandas import DataFrame, Series\n",
    "from load_jnl_data import Jnls\n",
    "from cafle.genfunc import showdf\n",
    "from datetime import date"
   ]
  },
  {
   "cell_type": "code",
   "execution_count": 2,
   "outputs": [],
   "source": [
    "jnl = Jnls(\"3. 분개장_11월/분개장전체_2022년.xlsx\")"
   ],
   "metadata": {
    "collapsed": false,
    "pycharm": {
     "name": "#%%\n"
    }
   }
  },
  {
   "cell_type": "markdown",
   "source": [
    "# 데이터 검토"
   ],
   "metadata": {
    "collapsed": false,
    "pycharm": {
     "name": "#%% md\n"
    }
   }
  },
  {
   "cell_type": "markdown",
   "source": [
    "## 1월 ~ 10월 데이터로 한정하여 검토"
   ],
   "metadata": {
    "collapsed": false,
    "pycharm": {
     "name": "#%% md\n"
    }
   }
  },
  {
   "cell_type": "code",
   "execution_count": 11,
   "outputs": [],
   "source": [
    "jnl22 = jnl.월([1,2,3,4,5,6,7,8,9,10])\n",
    "df22 = jnl22.df"
   ],
   "metadata": {
    "collapsed": false,
    "pycharm": {
     "name": "#%%\n"
    }
   }
  },
  {
   "cell_type": "code",
   "execution_count": 35,
   "outputs": [
    {
     "data": {
      "text/plain": "               일자   전표번호   계정코드    계정과목               적요          차변          대변  구분          거래처명        유형     년   월   일   대분류        중분류     소분류\n93215  2022-10-31  50005  10800   외상매출금     KCP_신용카드_10월   180866114           0  차변  주식회사 한국사이버결제  복사전표[매출]  2022  10  31  유동자산  매출채권및기타채권   외상매출금\n93216  2022-10-31  50005  40101   B2C매출     KCP_신용카드_10월           0   180866114  대변  주식회사 한국사이버결제  복사전표[매출]  2022  10  31    매출         매출   B2C매출\n93217  2022-10-31  50006  10800   외상매출금    TOSS_신용카드_10월  1070978644           0  차변   토스페이먼츠 주식회사  복사전표[매출]  2022  10  31  유동자산  매출채권및기타채권   외상매출금\n93218  2022-10-31  50006  40101   B2C매출    TOSS_신용카드_10월           0  1070978644  대변   토스페이먼츠 주식회사  복사전표[매출]  2022  10  31    매출         매출   B2C매출\n93219  2022-10-31  50007  10800   외상매출금    TOSS_가상계좌_10월   127021000           0  차변   토스페이먼츠 주식회사  복사전표[매출]  2022  10  31  유동자산  매출채권및기타채권   외상매출금\n93220  2022-10-31  50007  40101   B2C매출    TOSS_가상계좌_10월           0   127021000  대변   토스페이먼츠 주식회사  복사전표[매출]  2022  10  31    매출         매출   B2C매출\n93221  2022-10-31  50008  10800   외상매출금  TOSS_포인트결제등_10월    -4402500           0  차변   토스페이먼츠 주식회사  복사전표[매출]  2022  10  31  유동자산  매출채권및기타채권   외상매출금\n93222  2022-10-31  50008  40101   B2C매출  TOSS_포인트결제등_10월           0    -4402500  대변   토스페이먼츠 주식회사  복사전표[매출]  2022  10  31    매출         매출   B2C매출\n93223  2022-10-31  50009  10800   외상매출금     네이버_신용카드_10월     5513774           0  차변   네이버스마트스토어교재  복사전표[매출]  2022  10  31  유동자산  매출채권및기타채권   외상매출금\n93224  2022-10-31  50009  40103    교재매출     네이버_신용카드_10월           0     5513774  대변   네이버스마트스토어교재  복사전표[매출]  2022  10  31    매출         매출    교재매출\n93225  2022-10-31  50010  10800   외상매출금     네이버_가상계좌_10월     1726650           0  차변   네이버스마트스토어교재  복사전표[매출]  2022  10  31  유동자산  매출채권및기타채권   외상매출금\n93226  2022-10-31  50010  40103    교재매출     네이버_가상계좌_10월           0     1726650  대변   네이버스마트스토어교재  복사전표[매출]  2022  10  31    매출         매출    교재매출\n93227  2022-10-31  50011  10800   외상매출금   네이버_포인트결제등_10월      646176           0  차변   네이버스마트스토어교재  복사전표[매출]  2022  10  31  유동자산  매출채권및기타채권   외상매출금\n93228  2022-10-31  50011  40103    교재매출   네이버_포인트결제등_10월           0      646176  대변   네이버스마트스토어교재  복사전표[매출]  2022  10  31    매출         매출    교재매출\n93232  2022-10-31  50013  25500  부가세예수금     10월 베이직 프로그램           0      763840  대변         영어의 꿈    매입매출전표  2022  10  31  유동부채     기타유동부채  부가세예수금\n93233  2022-10-31  50013  40102   B2B매출     10월 베이직 프로그램           0     7638400  대변         영어의 꿈    매입매출전표  2022  10  31    매출         매출   B2B매출\n93234  2022-10-31  50013  10800   외상매출금     10월 베이직 프로그램     8402240           0  차변         영어의 꿈    매입매출전표  2022  10  31  유동자산  매출채권및기타채권   외상매출금",
      "text/html": "<div>\n<style scoped>\n    .dataframe tbody tr th:only-of-type {\n        vertical-align: middle;\n    }\n\n    .dataframe tbody tr th {\n        vertical-align: top;\n    }\n\n    .dataframe thead th {\n        text-align: right;\n    }\n</style>\n<table border=\"1\" class=\"dataframe\">\n  <thead>\n    <tr style=\"text-align: right;\">\n      <th></th>\n      <th>일자</th>\n      <th>전표번호</th>\n      <th>계정코드</th>\n      <th>계정과목</th>\n      <th>적요</th>\n      <th>차변</th>\n      <th>대변</th>\n      <th>구분</th>\n      <th>거래처명</th>\n      <th>유형</th>\n      <th>년</th>\n      <th>월</th>\n      <th>일</th>\n      <th>대분류</th>\n      <th>중분류</th>\n      <th>소분류</th>\n    </tr>\n  </thead>\n  <tbody>\n    <tr>\n      <th>93215</th>\n      <td>2022-10-31</td>\n      <td>50005</td>\n      <td>10800</td>\n      <td>외상매출금</td>\n      <td>KCP_신용카드_10월</td>\n      <td>180866114</td>\n      <td>0</td>\n      <td>차변</td>\n      <td>주식회사 한국사이버결제</td>\n      <td>복사전표[매출]</td>\n      <td>2022</td>\n      <td>10</td>\n      <td>31</td>\n      <td>유동자산</td>\n      <td>매출채권및기타채권</td>\n      <td>외상매출금</td>\n    </tr>\n    <tr>\n      <th>93216</th>\n      <td>2022-10-31</td>\n      <td>50005</td>\n      <td>40101</td>\n      <td>B2C매출</td>\n      <td>KCP_신용카드_10월</td>\n      <td>0</td>\n      <td>180866114</td>\n      <td>대변</td>\n      <td>주식회사 한국사이버결제</td>\n      <td>복사전표[매출]</td>\n      <td>2022</td>\n      <td>10</td>\n      <td>31</td>\n      <td>매출</td>\n      <td>매출</td>\n      <td>B2C매출</td>\n    </tr>\n    <tr>\n      <th>93217</th>\n      <td>2022-10-31</td>\n      <td>50006</td>\n      <td>10800</td>\n      <td>외상매출금</td>\n      <td>TOSS_신용카드_10월</td>\n      <td>1070978644</td>\n      <td>0</td>\n      <td>차변</td>\n      <td>토스페이먼츠 주식회사</td>\n      <td>복사전표[매출]</td>\n      <td>2022</td>\n      <td>10</td>\n      <td>31</td>\n      <td>유동자산</td>\n      <td>매출채권및기타채권</td>\n      <td>외상매출금</td>\n    </tr>\n    <tr>\n      <th>93218</th>\n      <td>2022-10-31</td>\n      <td>50006</td>\n      <td>40101</td>\n      <td>B2C매출</td>\n      <td>TOSS_신용카드_10월</td>\n      <td>0</td>\n      <td>1070978644</td>\n      <td>대변</td>\n      <td>토스페이먼츠 주식회사</td>\n      <td>복사전표[매출]</td>\n      <td>2022</td>\n      <td>10</td>\n      <td>31</td>\n      <td>매출</td>\n      <td>매출</td>\n      <td>B2C매출</td>\n    </tr>\n    <tr>\n      <th>93219</th>\n      <td>2022-10-31</td>\n      <td>50007</td>\n      <td>10800</td>\n      <td>외상매출금</td>\n      <td>TOSS_가상계좌_10월</td>\n      <td>127021000</td>\n      <td>0</td>\n      <td>차변</td>\n      <td>토스페이먼츠 주식회사</td>\n      <td>복사전표[매출]</td>\n      <td>2022</td>\n      <td>10</td>\n      <td>31</td>\n      <td>유동자산</td>\n      <td>매출채권및기타채권</td>\n      <td>외상매출금</td>\n    </tr>\n    <tr>\n      <th>93220</th>\n      <td>2022-10-31</td>\n      <td>50007</td>\n      <td>40101</td>\n      <td>B2C매출</td>\n      <td>TOSS_가상계좌_10월</td>\n      <td>0</td>\n      <td>127021000</td>\n      <td>대변</td>\n      <td>토스페이먼츠 주식회사</td>\n      <td>복사전표[매출]</td>\n      <td>2022</td>\n      <td>10</td>\n      <td>31</td>\n      <td>매출</td>\n      <td>매출</td>\n      <td>B2C매출</td>\n    </tr>\n    <tr>\n      <th>93221</th>\n      <td>2022-10-31</td>\n      <td>50008</td>\n      <td>10800</td>\n      <td>외상매출금</td>\n      <td>TOSS_포인트결제등_10월</td>\n      <td>-4402500</td>\n      <td>0</td>\n      <td>차변</td>\n      <td>토스페이먼츠 주식회사</td>\n      <td>복사전표[매출]</td>\n      <td>2022</td>\n      <td>10</td>\n      <td>31</td>\n      <td>유동자산</td>\n      <td>매출채권및기타채권</td>\n      <td>외상매출금</td>\n    </tr>\n    <tr>\n      <th>93222</th>\n      <td>2022-10-31</td>\n      <td>50008</td>\n      <td>40101</td>\n      <td>B2C매출</td>\n      <td>TOSS_포인트결제등_10월</td>\n      <td>0</td>\n      <td>-4402500</td>\n      <td>대변</td>\n      <td>토스페이먼츠 주식회사</td>\n      <td>복사전표[매출]</td>\n      <td>2022</td>\n      <td>10</td>\n      <td>31</td>\n      <td>매출</td>\n      <td>매출</td>\n      <td>B2C매출</td>\n    </tr>\n    <tr>\n      <th>93223</th>\n      <td>2022-10-31</td>\n      <td>50009</td>\n      <td>10800</td>\n      <td>외상매출금</td>\n      <td>네이버_신용카드_10월</td>\n      <td>5513774</td>\n      <td>0</td>\n      <td>차변</td>\n      <td>네이버스마트스토어교재</td>\n      <td>복사전표[매출]</td>\n      <td>2022</td>\n      <td>10</td>\n      <td>31</td>\n      <td>유동자산</td>\n      <td>매출채권및기타채권</td>\n      <td>외상매출금</td>\n    </tr>\n    <tr>\n      <th>93224</th>\n      <td>2022-10-31</td>\n      <td>50009</td>\n      <td>40103</td>\n      <td>교재매출</td>\n      <td>네이버_신용카드_10월</td>\n      <td>0</td>\n      <td>5513774</td>\n      <td>대변</td>\n      <td>네이버스마트스토어교재</td>\n      <td>복사전표[매출]</td>\n      <td>2022</td>\n      <td>10</td>\n      <td>31</td>\n      <td>매출</td>\n      <td>매출</td>\n      <td>교재매출</td>\n    </tr>\n    <tr>\n      <th>93225</th>\n      <td>2022-10-31</td>\n      <td>50010</td>\n      <td>10800</td>\n      <td>외상매출금</td>\n      <td>네이버_가상계좌_10월</td>\n      <td>1726650</td>\n      <td>0</td>\n      <td>차변</td>\n      <td>네이버스마트스토어교재</td>\n      <td>복사전표[매출]</td>\n      <td>2022</td>\n      <td>10</td>\n      <td>31</td>\n      <td>유동자산</td>\n      <td>매출채권및기타채권</td>\n      <td>외상매출금</td>\n    </tr>\n    <tr>\n      <th>93226</th>\n      <td>2022-10-31</td>\n      <td>50010</td>\n      <td>40103</td>\n      <td>교재매출</td>\n      <td>네이버_가상계좌_10월</td>\n      <td>0</td>\n      <td>1726650</td>\n      <td>대변</td>\n      <td>네이버스마트스토어교재</td>\n      <td>복사전표[매출]</td>\n      <td>2022</td>\n      <td>10</td>\n      <td>31</td>\n      <td>매출</td>\n      <td>매출</td>\n      <td>교재매출</td>\n    </tr>\n    <tr>\n      <th>93227</th>\n      <td>2022-10-31</td>\n      <td>50011</td>\n      <td>10800</td>\n      <td>외상매출금</td>\n      <td>네이버_포인트결제등_10월</td>\n      <td>646176</td>\n      <td>0</td>\n      <td>차변</td>\n      <td>네이버스마트스토어교재</td>\n      <td>복사전표[매출]</td>\n      <td>2022</td>\n      <td>10</td>\n      <td>31</td>\n      <td>유동자산</td>\n      <td>매출채권및기타채권</td>\n      <td>외상매출금</td>\n    </tr>\n    <tr>\n      <th>93228</th>\n      <td>2022-10-31</td>\n      <td>50011</td>\n      <td>40103</td>\n      <td>교재매출</td>\n      <td>네이버_포인트결제등_10월</td>\n      <td>0</td>\n      <td>646176</td>\n      <td>대변</td>\n      <td>네이버스마트스토어교재</td>\n      <td>복사전표[매출]</td>\n      <td>2022</td>\n      <td>10</td>\n      <td>31</td>\n      <td>매출</td>\n      <td>매출</td>\n      <td>교재매출</td>\n    </tr>\n    <tr>\n      <th>93232</th>\n      <td>2022-10-31</td>\n      <td>50013</td>\n      <td>25500</td>\n      <td>부가세예수금</td>\n      <td>10월 베이직 프로그램</td>\n      <td>0</td>\n      <td>763840</td>\n      <td>대변</td>\n      <td>영어의 꿈</td>\n      <td>매입매출전표</td>\n      <td>2022</td>\n      <td>10</td>\n      <td>31</td>\n      <td>유동부채</td>\n      <td>기타유동부채</td>\n      <td>부가세예수금</td>\n    </tr>\n    <tr>\n      <th>93233</th>\n      <td>2022-10-31</td>\n      <td>50013</td>\n      <td>40102</td>\n      <td>B2B매출</td>\n      <td>10월 베이직 프로그램</td>\n      <td>0</td>\n      <td>7638400</td>\n      <td>대변</td>\n      <td>영어의 꿈</td>\n      <td>매입매출전표</td>\n      <td>2022</td>\n      <td>10</td>\n      <td>31</td>\n      <td>매출</td>\n      <td>매출</td>\n      <td>B2B매출</td>\n    </tr>\n    <tr>\n      <th>93234</th>\n      <td>2022-10-31</td>\n      <td>50013</td>\n      <td>10800</td>\n      <td>외상매출금</td>\n      <td>10월 베이직 프로그램</td>\n      <td>8402240</td>\n      <td>0</td>\n      <td>차변</td>\n      <td>영어의 꿈</td>\n      <td>매입매출전표</td>\n      <td>2022</td>\n      <td>10</td>\n      <td>31</td>\n      <td>유동자산</td>\n      <td>매출채권및기타채권</td>\n      <td>외상매출금</td>\n    </tr>\n  </tbody>\n</table>\n</div>"
     },
     "execution_count": 35,
     "metadata": {},
     "output_type": "execute_result"
    }
   ],
   "source": [
    "jnl22.일자(date(2022, 10, 31)).전표번호(['50005', '50006', '50007', '50008', '50009', '50010', '50011', '50013']).df"
   ],
   "metadata": {
    "collapsed": false,
    "pycharm": {
     "name": "#%%\n"
    }
   }
  },
  {
   "cell_type": "code",
   "execution_count": 65,
   "outputs": [
    {
     "data": {
      "text/plain": "               일자   전표번호   계정코드              계정과목                                적요        차변         대변  구분             거래처명      유형     년  월   일      대분류        중분류    소분류\n68362  2022-09-01  00003  10800             외상매출금                           스마트스토어정         0     214076  대변      네이버스마트스토어교재    일반전표  2022  9   1     유동자산  매출채권및기타채권  외상매출금\n68364  2022-09-01  00004  10800             외상매출금                        tosspaymen         0  162389672  대변      토스페이먼츠 주식회사    일반전표  2022  9   1     유동자산  매출채권및기타채권  외상매출금\n68365  2022-09-01  00005  83000           소모품비(판)                               상비약    155000          0  차변         파크원온누리약국    일반전표  2022  9   1  판매비와관리비      기타판관비   소모품비\n68367  2022-09-01  00006  83000           소모품비(판)                         밀당스퀘어 플래그    262500          0  차변     네이버파이낸셜 주식회사    일반전표  2022  9   1  판매비와관리비      기타판관비   소모품비\n68369  2022-09-01  00007  83000           소모품비(판)                     밀당스퀘어 포스트잇 태그     95000          0  차변        십일번가 주식회사    일반전표  2022  9   1  판매비와관리비      기타판관비   소모품비\n...           ...    ...    ...               ...                               ...       ...        ...  ..              ...     ...   ... ..  ..      ...        ...    ...\n83284  2022-09-30  50038  83100          지급수수료(판)                           09월 물류비   1530342          0  차변          위킵 주식회사  매입매출전표  2022  9  30  판매비와관리비      기타판관비  지급수수료\n83288  2022-09-30  50040  83100          지급수수료(판)  매출(외상)_NCP-민간_아이헤이트플라잉버그스_후불결제수단    250470          0  차변  네이버비즈니스플랫폼 주식회사  매입매출전표  2022  9  30  판매비와관리비      기타판관비  지급수수료\n83290  2022-09-30  50041  83104  판매수수료(KCP,토스)(판)                         네이버페이 수수료    297195          0  차변     네이버파이낸셜 주식회사  매입매출전표  2022  9  30  판매비와관리비      기타판관비  지급수수료\n83294  2022-09-30  50043  83104  판매수수료(KCP,토스)(판)      전자상거래수수료(카드결제) 1 X 6,121,261   6733611          0  차변     주식회사 한국사이버결제  매입매출전표  2022  9  30  판매비와관리비      기타판관비  지급수수료\n83296  2022-09-30  50044  83104  판매수수료(KCP,토스)(판)    전자지불수수료(im_mildang8wv 2022/09)  48854194          0  차변      토스페이먼츠 주식회사  매입매출전표  2022  9  30  판매비와관리비      기타판관비  지급수수료\n\n[6018 rows x 16 columns]",
      "text/html": "<div>\n<style scoped>\n    .dataframe tbody tr th:only-of-type {\n        vertical-align: middle;\n    }\n\n    .dataframe tbody tr th {\n        vertical-align: top;\n    }\n\n    .dataframe thead th {\n        text-align: right;\n    }\n</style>\n<table border=\"1\" class=\"dataframe\">\n  <thead>\n    <tr style=\"text-align: right;\">\n      <th></th>\n      <th>일자</th>\n      <th>전표번호</th>\n      <th>계정코드</th>\n      <th>계정과목</th>\n      <th>적요</th>\n      <th>차변</th>\n      <th>대변</th>\n      <th>구분</th>\n      <th>거래처명</th>\n      <th>유형</th>\n      <th>년</th>\n      <th>월</th>\n      <th>일</th>\n      <th>대분류</th>\n      <th>중분류</th>\n      <th>소분류</th>\n    </tr>\n  </thead>\n  <tbody>\n    <tr>\n      <th>68362</th>\n      <td>2022-09-01</td>\n      <td>00003</td>\n      <td>10800</td>\n      <td>외상매출금</td>\n      <td>스마트스토어정</td>\n      <td>0</td>\n      <td>214076</td>\n      <td>대변</td>\n      <td>네이버스마트스토어교재</td>\n      <td>일반전표</td>\n      <td>2022</td>\n      <td>9</td>\n      <td>1</td>\n      <td>유동자산</td>\n      <td>매출채권및기타채권</td>\n      <td>외상매출금</td>\n    </tr>\n    <tr>\n      <th>68364</th>\n      <td>2022-09-01</td>\n      <td>00004</td>\n      <td>10800</td>\n      <td>외상매출금</td>\n      <td>tosspaymen</td>\n      <td>0</td>\n      <td>162389672</td>\n      <td>대변</td>\n      <td>토스페이먼츠 주식회사</td>\n      <td>일반전표</td>\n      <td>2022</td>\n      <td>9</td>\n      <td>1</td>\n      <td>유동자산</td>\n      <td>매출채권및기타채권</td>\n      <td>외상매출금</td>\n    </tr>\n    <tr>\n      <th>68365</th>\n      <td>2022-09-01</td>\n      <td>00005</td>\n      <td>83000</td>\n      <td>소모품비(판)</td>\n      <td>상비약</td>\n      <td>155000</td>\n      <td>0</td>\n      <td>차변</td>\n      <td>파크원온누리약국</td>\n      <td>일반전표</td>\n      <td>2022</td>\n      <td>9</td>\n      <td>1</td>\n      <td>판매비와관리비</td>\n      <td>기타판관비</td>\n      <td>소모품비</td>\n    </tr>\n    <tr>\n      <th>68367</th>\n      <td>2022-09-01</td>\n      <td>00006</td>\n      <td>83000</td>\n      <td>소모품비(판)</td>\n      <td>밀당스퀘어 플래그</td>\n      <td>262500</td>\n      <td>0</td>\n      <td>차변</td>\n      <td>네이버파이낸셜 주식회사</td>\n      <td>일반전표</td>\n      <td>2022</td>\n      <td>9</td>\n      <td>1</td>\n      <td>판매비와관리비</td>\n      <td>기타판관비</td>\n      <td>소모품비</td>\n    </tr>\n    <tr>\n      <th>68369</th>\n      <td>2022-09-01</td>\n      <td>00007</td>\n      <td>83000</td>\n      <td>소모품비(판)</td>\n      <td>밀당스퀘어 포스트잇 태그</td>\n      <td>95000</td>\n      <td>0</td>\n      <td>차변</td>\n      <td>십일번가 주식회사</td>\n      <td>일반전표</td>\n      <td>2022</td>\n      <td>9</td>\n      <td>1</td>\n      <td>판매비와관리비</td>\n      <td>기타판관비</td>\n      <td>소모품비</td>\n    </tr>\n    <tr>\n      <th>...</th>\n      <td>...</td>\n      <td>...</td>\n      <td>...</td>\n      <td>...</td>\n      <td>...</td>\n      <td>...</td>\n      <td>...</td>\n      <td>...</td>\n      <td>...</td>\n      <td>...</td>\n      <td>...</td>\n      <td>...</td>\n      <td>...</td>\n      <td>...</td>\n      <td>...</td>\n      <td>...</td>\n    </tr>\n    <tr>\n      <th>83284</th>\n      <td>2022-09-30</td>\n      <td>50038</td>\n      <td>83100</td>\n      <td>지급수수료(판)</td>\n      <td>09월 물류비</td>\n      <td>1530342</td>\n      <td>0</td>\n      <td>차변</td>\n      <td>위킵 주식회사</td>\n      <td>매입매출전표</td>\n      <td>2022</td>\n      <td>9</td>\n      <td>30</td>\n      <td>판매비와관리비</td>\n      <td>기타판관비</td>\n      <td>지급수수료</td>\n    </tr>\n    <tr>\n      <th>83288</th>\n      <td>2022-09-30</td>\n      <td>50040</td>\n      <td>83100</td>\n      <td>지급수수료(판)</td>\n      <td>매출(외상)_NCP-민간_아이헤이트플라잉버그스_후불결제수단</td>\n      <td>250470</td>\n      <td>0</td>\n      <td>차변</td>\n      <td>네이버비즈니스플랫폼 주식회사</td>\n      <td>매입매출전표</td>\n      <td>2022</td>\n      <td>9</td>\n      <td>30</td>\n      <td>판매비와관리비</td>\n      <td>기타판관비</td>\n      <td>지급수수료</td>\n    </tr>\n    <tr>\n      <th>83290</th>\n      <td>2022-09-30</td>\n      <td>50041</td>\n      <td>83104</td>\n      <td>판매수수료(KCP,토스)(판)</td>\n      <td>네이버페이 수수료</td>\n      <td>297195</td>\n      <td>0</td>\n      <td>차변</td>\n      <td>네이버파이낸셜 주식회사</td>\n      <td>매입매출전표</td>\n      <td>2022</td>\n      <td>9</td>\n      <td>30</td>\n      <td>판매비와관리비</td>\n      <td>기타판관비</td>\n      <td>지급수수료</td>\n    </tr>\n    <tr>\n      <th>83294</th>\n      <td>2022-09-30</td>\n      <td>50043</td>\n      <td>83104</td>\n      <td>판매수수료(KCP,토스)(판)</td>\n      <td>전자상거래수수료(카드결제) 1 X 6,121,261</td>\n      <td>6733611</td>\n      <td>0</td>\n      <td>차변</td>\n      <td>주식회사 한국사이버결제</td>\n      <td>매입매출전표</td>\n      <td>2022</td>\n      <td>9</td>\n      <td>30</td>\n      <td>판매비와관리비</td>\n      <td>기타판관비</td>\n      <td>지급수수료</td>\n    </tr>\n    <tr>\n      <th>83296</th>\n      <td>2022-09-30</td>\n      <td>50044</td>\n      <td>83104</td>\n      <td>판매수수료(KCP,토스)(판)</td>\n      <td>전자지불수수료(im_mildang8wv 2022/09)</td>\n      <td>48854194</td>\n      <td>0</td>\n      <td>차변</td>\n      <td>토스페이먼츠 주식회사</td>\n      <td>매입매출전표</td>\n      <td>2022</td>\n      <td>9</td>\n      <td>30</td>\n      <td>판매비와관리비</td>\n      <td>기타판관비</td>\n      <td>지급수수료</td>\n    </tr>\n  </tbody>\n</table>\n<p>6018 rows × 16 columns</p>\n</div>"
     },
     "execution_count": 65,
     "metadata": {},
     "output_type": "execute_result"
    }
   ],
   "source": [
    "jnl22.중분류(['기타판관비', '매출채권및기타채권']).월(9).df"
   ],
   "metadata": {
    "collapsed": false,
    "pycharm": {
     "name": "#%%\n"
    }
   }
  },
  {
   "cell_type": "code",
   "execution_count": 66,
   "outputs": [
    {
     "data": {
      "text/plain": "               일자   전표번호   계정코드  계정과목    적요         차변         대변  구분  거래처명        유형     년   월   일   대분류   중분류   소분류\n23     2022-01-01  00000  26300  선수수익  전기이월          0  969526083  대변  None      None  2022   1   1  유동부채  선수수익  선수수익\n5085   2022-01-31  00054  26300  선수수익  None  -85439408          0  차변  None  복사전표[일반]  2022   1  31  유동부채  선수수익  선수수익\n9661   2022-02-28  00100  26300  선수수익  None -145333024          0  차변  None  복사전표[일반]  2022   2  28  유동부채  선수수익  선수수익\n17668  2022-03-31  00287  26300  선수수익  None -401917034          0  차변  None  복사전표[일반]  2022   3  31  유동부채  선수수익  선수수익\n28098  2022-04-30  00080  26300  선수수익  None -179632319          0  차변  None  복사전표[일반]  2022   4  30  유동부채  선수수익  선수수익\n37394  2022-05-31  00393  26300  선수수익  None   95992912          0  차변  None  복사전표[일반]  2022   5  31  유동부채  선수수익  선수수익\n50538  2022-06-30  00197  26300  선수수익  None  106196890          0  차변  None      일반전표  2022   6  30  유동부채  선수수익  선수수익\n57372  2022-07-31  00044  26300  선수수익  None  -11717005          0  차변  None      일반전표  2022   7  31  유동부채  선수수익  선수수익\n67465  2022-08-31  00081  26300  선수수익  None -703612654          0  차변  None      일반전표  2022   8  31  유동부채  선수수익  선수수익\n82604  2022-09-30  00017  26300  선수수익  None -243383373          0  차변  None      일반전표  2022   9  30  유동부채  선수수익  선수수익\n93205  2022-10-31  00301  26300  선수수익  None  274667353          0  차변  None      일반전표  2022  10  31  유동부채  선수수익  선수수익",
      "text/html": "<div>\n<style scoped>\n    .dataframe tbody tr th:only-of-type {\n        vertical-align: middle;\n    }\n\n    .dataframe tbody tr th {\n        vertical-align: top;\n    }\n\n    .dataframe thead th {\n        text-align: right;\n    }\n</style>\n<table border=\"1\" class=\"dataframe\">\n  <thead>\n    <tr style=\"text-align: right;\">\n      <th></th>\n      <th>일자</th>\n      <th>전표번호</th>\n      <th>계정코드</th>\n      <th>계정과목</th>\n      <th>적요</th>\n      <th>차변</th>\n      <th>대변</th>\n      <th>구분</th>\n      <th>거래처명</th>\n      <th>유형</th>\n      <th>년</th>\n      <th>월</th>\n      <th>일</th>\n      <th>대분류</th>\n      <th>중분류</th>\n      <th>소분류</th>\n    </tr>\n  </thead>\n  <tbody>\n    <tr>\n      <th>23</th>\n      <td>2022-01-01</td>\n      <td>00000</td>\n      <td>26300</td>\n      <td>선수수익</td>\n      <td>전기이월</td>\n      <td>0</td>\n      <td>969526083</td>\n      <td>대변</td>\n      <td>None</td>\n      <td>None</td>\n      <td>2022</td>\n      <td>1</td>\n      <td>1</td>\n      <td>유동부채</td>\n      <td>선수수익</td>\n      <td>선수수익</td>\n    </tr>\n    <tr>\n      <th>5085</th>\n      <td>2022-01-31</td>\n      <td>00054</td>\n      <td>26300</td>\n      <td>선수수익</td>\n      <td>None</td>\n      <td>-85439408</td>\n      <td>0</td>\n      <td>차변</td>\n      <td>None</td>\n      <td>복사전표[일반]</td>\n      <td>2022</td>\n      <td>1</td>\n      <td>31</td>\n      <td>유동부채</td>\n      <td>선수수익</td>\n      <td>선수수익</td>\n    </tr>\n    <tr>\n      <th>9661</th>\n      <td>2022-02-28</td>\n      <td>00100</td>\n      <td>26300</td>\n      <td>선수수익</td>\n      <td>None</td>\n      <td>-145333024</td>\n      <td>0</td>\n      <td>차변</td>\n      <td>None</td>\n      <td>복사전표[일반]</td>\n      <td>2022</td>\n      <td>2</td>\n      <td>28</td>\n      <td>유동부채</td>\n      <td>선수수익</td>\n      <td>선수수익</td>\n    </tr>\n    <tr>\n      <th>17668</th>\n      <td>2022-03-31</td>\n      <td>00287</td>\n      <td>26300</td>\n      <td>선수수익</td>\n      <td>None</td>\n      <td>-401917034</td>\n      <td>0</td>\n      <td>차변</td>\n      <td>None</td>\n      <td>복사전표[일반]</td>\n      <td>2022</td>\n      <td>3</td>\n      <td>31</td>\n      <td>유동부채</td>\n      <td>선수수익</td>\n      <td>선수수익</td>\n    </tr>\n    <tr>\n      <th>28098</th>\n      <td>2022-04-30</td>\n      <td>00080</td>\n      <td>26300</td>\n      <td>선수수익</td>\n      <td>None</td>\n      <td>-179632319</td>\n      <td>0</td>\n      <td>차변</td>\n      <td>None</td>\n      <td>복사전표[일반]</td>\n      <td>2022</td>\n      <td>4</td>\n      <td>30</td>\n      <td>유동부채</td>\n      <td>선수수익</td>\n      <td>선수수익</td>\n    </tr>\n    <tr>\n      <th>37394</th>\n      <td>2022-05-31</td>\n      <td>00393</td>\n      <td>26300</td>\n      <td>선수수익</td>\n      <td>None</td>\n      <td>95992912</td>\n      <td>0</td>\n      <td>차변</td>\n      <td>None</td>\n      <td>복사전표[일반]</td>\n      <td>2022</td>\n      <td>5</td>\n      <td>31</td>\n      <td>유동부채</td>\n      <td>선수수익</td>\n      <td>선수수익</td>\n    </tr>\n    <tr>\n      <th>50538</th>\n      <td>2022-06-30</td>\n      <td>00197</td>\n      <td>26300</td>\n      <td>선수수익</td>\n      <td>None</td>\n      <td>106196890</td>\n      <td>0</td>\n      <td>차변</td>\n      <td>None</td>\n      <td>일반전표</td>\n      <td>2022</td>\n      <td>6</td>\n      <td>30</td>\n      <td>유동부채</td>\n      <td>선수수익</td>\n      <td>선수수익</td>\n    </tr>\n    <tr>\n      <th>57372</th>\n      <td>2022-07-31</td>\n      <td>00044</td>\n      <td>26300</td>\n      <td>선수수익</td>\n      <td>None</td>\n      <td>-11717005</td>\n      <td>0</td>\n      <td>차변</td>\n      <td>None</td>\n      <td>일반전표</td>\n      <td>2022</td>\n      <td>7</td>\n      <td>31</td>\n      <td>유동부채</td>\n      <td>선수수익</td>\n      <td>선수수익</td>\n    </tr>\n    <tr>\n      <th>67465</th>\n      <td>2022-08-31</td>\n      <td>00081</td>\n      <td>26300</td>\n      <td>선수수익</td>\n      <td>None</td>\n      <td>-703612654</td>\n      <td>0</td>\n      <td>차변</td>\n      <td>None</td>\n      <td>일반전표</td>\n      <td>2022</td>\n      <td>8</td>\n      <td>31</td>\n      <td>유동부채</td>\n      <td>선수수익</td>\n      <td>선수수익</td>\n    </tr>\n    <tr>\n      <th>82604</th>\n      <td>2022-09-30</td>\n      <td>00017</td>\n      <td>26300</td>\n      <td>선수수익</td>\n      <td>None</td>\n      <td>-243383373</td>\n      <td>0</td>\n      <td>차변</td>\n      <td>None</td>\n      <td>일반전표</td>\n      <td>2022</td>\n      <td>9</td>\n      <td>30</td>\n      <td>유동부채</td>\n      <td>선수수익</td>\n      <td>선수수익</td>\n    </tr>\n    <tr>\n      <th>93205</th>\n      <td>2022-10-31</td>\n      <td>00301</td>\n      <td>26300</td>\n      <td>선수수익</td>\n      <td>None</td>\n      <td>274667353</td>\n      <td>0</td>\n      <td>차변</td>\n      <td>None</td>\n      <td>일반전표</td>\n      <td>2022</td>\n      <td>10</td>\n      <td>31</td>\n      <td>유동부채</td>\n      <td>선수수익</td>\n      <td>선수수익</td>\n    </tr>\n  </tbody>\n</table>\n</div>"
     },
     "execution_count": 66,
     "metadata": {},
     "output_type": "execute_result"
    }
   ],
   "source": [
    "jnl22.계정과목('선수수익').df"
   ],
   "metadata": {
    "collapsed": false,
    "pycharm": {
     "name": "#%%\n"
    }
   }
  },
  {
   "cell_type": "code",
   "execution_count": 54,
   "outputs": [
    {
     "data": {
      "text/plain": "             일자   전표번호   계정코드   계정과목    적요        차변        대변  구분          거래처명    유형     년  월  일   대분류        중분류    소분류\n245  2022-01-03  00020  10300   보통예금  케이씨피  10746420         0  차변  우리은행(320981)  일반전표  2022  1  3  유동자산   현금및현금성자산   보통예금\n246  2022-01-03  00020  10800  외상매출금  케이씨피         0  10746420  대변  주식회사 한국사이버결제  일반전표  2022  1  3  유동자산  매출채권및기타채권  외상매출금",
      "text/html": "<div>\n<style scoped>\n    .dataframe tbody tr th:only-of-type {\n        vertical-align: middle;\n    }\n\n    .dataframe tbody tr th {\n        vertical-align: top;\n    }\n\n    .dataframe thead th {\n        text-align: right;\n    }\n</style>\n<table border=\"1\" class=\"dataframe\">\n  <thead>\n    <tr style=\"text-align: right;\">\n      <th></th>\n      <th>일자</th>\n      <th>전표번호</th>\n      <th>계정코드</th>\n      <th>계정과목</th>\n      <th>적요</th>\n      <th>차변</th>\n      <th>대변</th>\n      <th>구분</th>\n      <th>거래처명</th>\n      <th>유형</th>\n      <th>년</th>\n      <th>월</th>\n      <th>일</th>\n      <th>대분류</th>\n      <th>중분류</th>\n      <th>소분류</th>\n    </tr>\n  </thead>\n  <tbody>\n    <tr>\n      <th>245</th>\n      <td>2022-01-03</td>\n      <td>00020</td>\n      <td>10300</td>\n      <td>보통예금</td>\n      <td>케이씨피</td>\n      <td>10746420</td>\n      <td>0</td>\n      <td>차변</td>\n      <td>우리은행(320981)</td>\n      <td>일반전표</td>\n      <td>2022</td>\n      <td>1</td>\n      <td>3</td>\n      <td>유동자산</td>\n      <td>현금및현금성자산</td>\n      <td>보통예금</td>\n    </tr>\n    <tr>\n      <th>246</th>\n      <td>2022-01-03</td>\n      <td>00020</td>\n      <td>10800</td>\n      <td>외상매출금</td>\n      <td>케이씨피</td>\n      <td>0</td>\n      <td>10746420</td>\n      <td>대변</td>\n      <td>주식회사 한국사이버결제</td>\n      <td>일반전표</td>\n      <td>2022</td>\n      <td>1</td>\n      <td>3</td>\n      <td>유동자산</td>\n      <td>매출채권및기타채권</td>\n      <td>외상매출금</td>\n    </tr>\n  </tbody>\n</table>\n</div>"
     },
     "execution_count": 54,
     "metadata": {},
     "output_type": "execute_result"
    }
   ],
   "source": [
    "jnl22.일자(date(2022, 1, 3)).전표번호(['00020']).df"
   ],
   "metadata": {
    "collapsed": false,
    "pycharm": {
     "name": "#%%\n"
    }
   }
  },
  {
   "cell_type": "code",
   "execution_count": 69,
   "outputs": [
    {
     "data": {
      "text/plain": "               일자   전표번호   계정코드   계정과목              적요          차변          대변  구분          거래처명        유형     년  월   일   대분류        중분류    소분류\n82600  2022-09-30  00015  10300   보통예금         스마트스토어정      155153           0  차변   기업은행(04010)      일반전표  2022  9  30  유동자산   현금및현금성자산   보통예금\n82601  2022-09-30  00015  10800  외상매출금         스마트스토어정           0      155153  대변   네이버스마트스토어교재      일반전표  2022  9  30  유동자산  매출채권및기타채권  외상매출금\n82602  2022-09-30  00016  10300   보통예금      tosspaymen    77930211           0  차변   기업은행(04010)      일반전표  2022  9  30  유동자산   현금및현금성자산   보통예금\n82603  2022-09-30  00016  10800  외상매출금      tosspaymen           0    77930211  대변   토스페이먼츠 주식회사      일반전표  2022  9  30  유동자산  매출채권및기타채권  외상매출금\n82604  2022-09-30  00017  26300   선수수익            None  -243383373           0  차변          None      일반전표  2022  9  30  유동부채       선수수익   선수수익\n82605  2022-09-30  00017  40100   상품매출            None           0  -243383373  대변          None      일반전표  2022  9  30    매출         매출  B2C매출\n83156  2022-09-30  00265  25100  외상매입금        판매수수료 대체      297195           0  차변  네이버파이낸셜 주식회사      일반전표  2022  9  30  유동부채  매입채무및기타채무  외상매입금\n83157  2022-09-30  00265  10800  외상매출금        판매수수료 대체           0      297195  대변   네이버스마트스토어교재      일반전표  2022  9  30  유동자산  매출채권및기타채권  외상매출금\n83158  2022-09-30  00266  25100  외상매입금        판매수수료 대체     6733611           0  차변  주식회사 한국사이버결제      일반전표  2022  9  30  유동부채  매입채무및기타채무  외상매입금\n83159  2022-09-30  00266  10800  외상매출금        판매수수료 대체           0     6733611  대변  주식회사 한국사이버결제      일반전표  2022  9  30  유동자산  매출채권및기타채권  외상매출금\n83160  2022-09-30  00267  25100  외상매입금        판매수수료 대체    48854194           0  차변   토스페이먼츠 주식회사      일반전표  2022  9  30  유동부채  매입채무및기타채무  외상매입금\n83161  2022-09-30  00267  10800  외상매출금        판매수수료 대체           0    48854194  대변   토스페이먼츠 주식회사      일반전표  2022  9  30  유동자산  매출채권및기타채권  외상매출금\n83210  2022-09-30  50002  10800  외상매출금     KCP_신용카드_9월   203289500           0  차변  주식회사 한국사이버결제  복사전표[매출]  2022  9  30  유동자산  매출채권및기타채권  외상매출금\n83211  2022-09-30  50002  40101  B2C매출     KCP_신용카드_9월           0   203289500  대변  주식회사 한국사이버결제  복사전표[매출]  2022  9  30    매출         매출  B2C매출\n83212  2022-09-30  50003  10800  외상매출금    TOSS_신용카드_9월  1454521595           0  차변   토스페이먼츠 주식회사  복사전표[매출]  2022  9  30  유동자산  매출채권및기타채권  외상매출금\n83213  2022-09-30  50003  40101  B2C매출    TOSS_신용카드_9월           0  1454521595  대변   토스페이먼츠 주식회사  복사전표[매출]  2022  9  30    매출         매출  B2C매출\n83214  2022-09-30  50004  10800  외상매출금    TOSS_가상계좌_9월   131525000           0  차변   토스페이먼츠 주식회사  복사전표[매출]  2022  9  30  유동자산  매출채권및기타채권  외상매출금\n83215  2022-09-30  50004  40101  B2C매출    TOSS_가상계좌_9월           0   131525000  대변   토스페이먼츠 주식회사  복사전표[매출]  2022  9  30    매출         매출  B2C매출\n83216  2022-09-30  50005  10800  외상매출금  TOSS_포인트결제등_9월     5777000           0  차변   토스페이먼츠 주식회사  복사전표[매출]  2022  9  30  유동자산  매출채권및기타채권  외상매출금\n83217  2022-09-30  50005  40101  B2C매출  TOSS_포인트결제등_9월           0     5777000  대변   토스페이먼츠 주식회사  복사전표[매출]  2022  9  30    매출         매출  B2C매출\n83218  2022-09-30  50006  10800  외상매출금     네이버_신용카드_9월     5488231           0  차변   네이버스마트스토어교재  복사전표[매출]  2022  9  30  유동자산  매출채권및기타채권  외상매출금\n83219  2022-09-30  50006  40103   교재매출     네이버_신용카드_9월           0     5488231  대변   네이버스마트스토어교재  복사전표[매출]  2022  9  30    매출         매출   교재매출\n83220  2022-09-30  50007  10800  외상매출금     네이버_가상계좌_9월     1531973           0  차변   네이버스마트스토어교재  복사전표[매출]  2022  9  30  유동자산  매출채권및기타채권  외상매출금\n83221  2022-09-30  50007  40103   교재매출     네이버_가상계좌_9월           0     1531973  대변   네이버스마트스토어교재  복사전표[매출]  2022  9  30    매출         매출   교재매출",
      "text/html": "<div>\n<style scoped>\n    .dataframe tbody tr th:only-of-type {\n        vertical-align: middle;\n    }\n\n    .dataframe tbody tr th {\n        vertical-align: top;\n    }\n\n    .dataframe thead th {\n        text-align: right;\n    }\n</style>\n<table border=\"1\" class=\"dataframe\">\n  <thead>\n    <tr style=\"text-align: right;\">\n      <th></th>\n      <th>일자</th>\n      <th>전표번호</th>\n      <th>계정코드</th>\n      <th>계정과목</th>\n      <th>적요</th>\n      <th>차변</th>\n      <th>대변</th>\n      <th>구분</th>\n      <th>거래처명</th>\n      <th>유형</th>\n      <th>년</th>\n      <th>월</th>\n      <th>일</th>\n      <th>대분류</th>\n      <th>중분류</th>\n      <th>소분류</th>\n    </tr>\n  </thead>\n  <tbody>\n    <tr>\n      <th>82600</th>\n      <td>2022-09-30</td>\n      <td>00015</td>\n      <td>10300</td>\n      <td>보통예금</td>\n      <td>스마트스토어정</td>\n      <td>155153</td>\n      <td>0</td>\n      <td>차변</td>\n      <td>기업은행(04010)</td>\n      <td>일반전표</td>\n      <td>2022</td>\n      <td>9</td>\n      <td>30</td>\n      <td>유동자산</td>\n      <td>현금및현금성자산</td>\n      <td>보통예금</td>\n    </tr>\n    <tr>\n      <th>82601</th>\n      <td>2022-09-30</td>\n      <td>00015</td>\n      <td>10800</td>\n      <td>외상매출금</td>\n      <td>스마트스토어정</td>\n      <td>0</td>\n      <td>155153</td>\n      <td>대변</td>\n      <td>네이버스마트스토어교재</td>\n      <td>일반전표</td>\n      <td>2022</td>\n      <td>9</td>\n      <td>30</td>\n      <td>유동자산</td>\n      <td>매출채권및기타채권</td>\n      <td>외상매출금</td>\n    </tr>\n    <tr>\n      <th>82602</th>\n      <td>2022-09-30</td>\n      <td>00016</td>\n      <td>10300</td>\n      <td>보통예금</td>\n      <td>tosspaymen</td>\n      <td>77930211</td>\n      <td>0</td>\n      <td>차변</td>\n      <td>기업은행(04010)</td>\n      <td>일반전표</td>\n      <td>2022</td>\n      <td>9</td>\n      <td>30</td>\n      <td>유동자산</td>\n      <td>현금및현금성자산</td>\n      <td>보통예금</td>\n    </tr>\n    <tr>\n      <th>82603</th>\n      <td>2022-09-30</td>\n      <td>00016</td>\n      <td>10800</td>\n      <td>외상매출금</td>\n      <td>tosspaymen</td>\n      <td>0</td>\n      <td>77930211</td>\n      <td>대변</td>\n      <td>토스페이먼츠 주식회사</td>\n      <td>일반전표</td>\n      <td>2022</td>\n      <td>9</td>\n      <td>30</td>\n      <td>유동자산</td>\n      <td>매출채권및기타채권</td>\n      <td>외상매출금</td>\n    </tr>\n    <tr>\n      <th>82604</th>\n      <td>2022-09-30</td>\n      <td>00017</td>\n      <td>26300</td>\n      <td>선수수익</td>\n      <td>None</td>\n      <td>-243383373</td>\n      <td>0</td>\n      <td>차변</td>\n      <td>None</td>\n      <td>일반전표</td>\n      <td>2022</td>\n      <td>9</td>\n      <td>30</td>\n      <td>유동부채</td>\n      <td>선수수익</td>\n      <td>선수수익</td>\n    </tr>\n    <tr>\n      <th>82605</th>\n      <td>2022-09-30</td>\n      <td>00017</td>\n      <td>40100</td>\n      <td>상품매출</td>\n      <td>None</td>\n      <td>0</td>\n      <td>-243383373</td>\n      <td>대변</td>\n      <td>None</td>\n      <td>일반전표</td>\n      <td>2022</td>\n      <td>9</td>\n      <td>30</td>\n      <td>매출</td>\n      <td>매출</td>\n      <td>B2C매출</td>\n    </tr>\n    <tr>\n      <th>83156</th>\n      <td>2022-09-30</td>\n      <td>00265</td>\n      <td>25100</td>\n      <td>외상매입금</td>\n      <td>판매수수료 대체</td>\n      <td>297195</td>\n      <td>0</td>\n      <td>차변</td>\n      <td>네이버파이낸셜 주식회사</td>\n      <td>일반전표</td>\n      <td>2022</td>\n      <td>9</td>\n      <td>30</td>\n      <td>유동부채</td>\n      <td>매입채무및기타채무</td>\n      <td>외상매입금</td>\n    </tr>\n    <tr>\n      <th>83157</th>\n      <td>2022-09-30</td>\n      <td>00265</td>\n      <td>10800</td>\n      <td>외상매출금</td>\n      <td>판매수수료 대체</td>\n      <td>0</td>\n      <td>297195</td>\n      <td>대변</td>\n      <td>네이버스마트스토어교재</td>\n      <td>일반전표</td>\n      <td>2022</td>\n      <td>9</td>\n      <td>30</td>\n      <td>유동자산</td>\n      <td>매출채권및기타채권</td>\n      <td>외상매출금</td>\n    </tr>\n    <tr>\n      <th>83158</th>\n      <td>2022-09-30</td>\n      <td>00266</td>\n      <td>25100</td>\n      <td>외상매입금</td>\n      <td>판매수수료 대체</td>\n      <td>6733611</td>\n      <td>0</td>\n      <td>차변</td>\n      <td>주식회사 한국사이버결제</td>\n      <td>일반전표</td>\n      <td>2022</td>\n      <td>9</td>\n      <td>30</td>\n      <td>유동부채</td>\n      <td>매입채무및기타채무</td>\n      <td>외상매입금</td>\n    </tr>\n    <tr>\n      <th>83159</th>\n      <td>2022-09-30</td>\n      <td>00266</td>\n      <td>10800</td>\n      <td>외상매출금</td>\n      <td>판매수수료 대체</td>\n      <td>0</td>\n      <td>6733611</td>\n      <td>대변</td>\n      <td>주식회사 한국사이버결제</td>\n      <td>일반전표</td>\n      <td>2022</td>\n      <td>9</td>\n      <td>30</td>\n      <td>유동자산</td>\n      <td>매출채권및기타채권</td>\n      <td>외상매출금</td>\n    </tr>\n    <tr>\n      <th>83160</th>\n      <td>2022-09-30</td>\n      <td>00267</td>\n      <td>25100</td>\n      <td>외상매입금</td>\n      <td>판매수수료 대체</td>\n      <td>48854194</td>\n      <td>0</td>\n      <td>차변</td>\n      <td>토스페이먼츠 주식회사</td>\n      <td>일반전표</td>\n      <td>2022</td>\n      <td>9</td>\n      <td>30</td>\n      <td>유동부채</td>\n      <td>매입채무및기타채무</td>\n      <td>외상매입금</td>\n    </tr>\n    <tr>\n      <th>83161</th>\n      <td>2022-09-30</td>\n      <td>00267</td>\n      <td>10800</td>\n      <td>외상매출금</td>\n      <td>판매수수료 대체</td>\n      <td>0</td>\n      <td>48854194</td>\n      <td>대변</td>\n      <td>토스페이먼츠 주식회사</td>\n      <td>일반전표</td>\n      <td>2022</td>\n      <td>9</td>\n      <td>30</td>\n      <td>유동자산</td>\n      <td>매출채권및기타채권</td>\n      <td>외상매출금</td>\n    </tr>\n    <tr>\n      <th>83210</th>\n      <td>2022-09-30</td>\n      <td>50002</td>\n      <td>10800</td>\n      <td>외상매출금</td>\n      <td>KCP_신용카드_9월</td>\n      <td>203289500</td>\n      <td>0</td>\n      <td>차변</td>\n      <td>주식회사 한국사이버결제</td>\n      <td>복사전표[매출]</td>\n      <td>2022</td>\n      <td>9</td>\n      <td>30</td>\n      <td>유동자산</td>\n      <td>매출채권및기타채권</td>\n      <td>외상매출금</td>\n    </tr>\n    <tr>\n      <th>83211</th>\n      <td>2022-09-30</td>\n      <td>50002</td>\n      <td>40101</td>\n      <td>B2C매출</td>\n      <td>KCP_신용카드_9월</td>\n      <td>0</td>\n      <td>203289500</td>\n      <td>대변</td>\n      <td>주식회사 한국사이버결제</td>\n      <td>복사전표[매출]</td>\n      <td>2022</td>\n      <td>9</td>\n      <td>30</td>\n      <td>매출</td>\n      <td>매출</td>\n      <td>B2C매출</td>\n    </tr>\n    <tr>\n      <th>83212</th>\n      <td>2022-09-30</td>\n      <td>50003</td>\n      <td>10800</td>\n      <td>외상매출금</td>\n      <td>TOSS_신용카드_9월</td>\n      <td>1454521595</td>\n      <td>0</td>\n      <td>차변</td>\n      <td>토스페이먼츠 주식회사</td>\n      <td>복사전표[매출]</td>\n      <td>2022</td>\n      <td>9</td>\n      <td>30</td>\n      <td>유동자산</td>\n      <td>매출채권및기타채권</td>\n      <td>외상매출금</td>\n    </tr>\n    <tr>\n      <th>83213</th>\n      <td>2022-09-30</td>\n      <td>50003</td>\n      <td>40101</td>\n      <td>B2C매출</td>\n      <td>TOSS_신용카드_9월</td>\n      <td>0</td>\n      <td>1454521595</td>\n      <td>대변</td>\n      <td>토스페이먼츠 주식회사</td>\n      <td>복사전표[매출]</td>\n      <td>2022</td>\n      <td>9</td>\n      <td>30</td>\n      <td>매출</td>\n      <td>매출</td>\n      <td>B2C매출</td>\n    </tr>\n    <tr>\n      <th>83214</th>\n      <td>2022-09-30</td>\n      <td>50004</td>\n      <td>10800</td>\n      <td>외상매출금</td>\n      <td>TOSS_가상계좌_9월</td>\n      <td>131525000</td>\n      <td>0</td>\n      <td>차변</td>\n      <td>토스페이먼츠 주식회사</td>\n      <td>복사전표[매출]</td>\n      <td>2022</td>\n      <td>9</td>\n      <td>30</td>\n      <td>유동자산</td>\n      <td>매출채권및기타채권</td>\n      <td>외상매출금</td>\n    </tr>\n    <tr>\n      <th>83215</th>\n      <td>2022-09-30</td>\n      <td>50004</td>\n      <td>40101</td>\n      <td>B2C매출</td>\n      <td>TOSS_가상계좌_9월</td>\n      <td>0</td>\n      <td>131525000</td>\n      <td>대변</td>\n      <td>토스페이먼츠 주식회사</td>\n      <td>복사전표[매출]</td>\n      <td>2022</td>\n      <td>9</td>\n      <td>30</td>\n      <td>매출</td>\n      <td>매출</td>\n      <td>B2C매출</td>\n    </tr>\n    <tr>\n      <th>83216</th>\n      <td>2022-09-30</td>\n      <td>50005</td>\n      <td>10800</td>\n      <td>외상매출금</td>\n      <td>TOSS_포인트결제등_9월</td>\n      <td>5777000</td>\n      <td>0</td>\n      <td>차변</td>\n      <td>토스페이먼츠 주식회사</td>\n      <td>복사전표[매출]</td>\n      <td>2022</td>\n      <td>9</td>\n      <td>30</td>\n      <td>유동자산</td>\n      <td>매출채권및기타채권</td>\n      <td>외상매출금</td>\n    </tr>\n    <tr>\n      <th>83217</th>\n      <td>2022-09-30</td>\n      <td>50005</td>\n      <td>40101</td>\n      <td>B2C매출</td>\n      <td>TOSS_포인트결제등_9월</td>\n      <td>0</td>\n      <td>5777000</td>\n      <td>대변</td>\n      <td>토스페이먼츠 주식회사</td>\n      <td>복사전표[매출]</td>\n      <td>2022</td>\n      <td>9</td>\n      <td>30</td>\n      <td>매출</td>\n      <td>매출</td>\n      <td>B2C매출</td>\n    </tr>\n    <tr>\n      <th>83218</th>\n      <td>2022-09-30</td>\n      <td>50006</td>\n      <td>10800</td>\n      <td>외상매출금</td>\n      <td>네이버_신용카드_9월</td>\n      <td>5488231</td>\n      <td>0</td>\n      <td>차변</td>\n      <td>네이버스마트스토어교재</td>\n      <td>복사전표[매출]</td>\n      <td>2022</td>\n      <td>9</td>\n      <td>30</td>\n      <td>유동자산</td>\n      <td>매출채권및기타채권</td>\n      <td>외상매출금</td>\n    </tr>\n    <tr>\n      <th>83219</th>\n      <td>2022-09-30</td>\n      <td>50006</td>\n      <td>40103</td>\n      <td>교재매출</td>\n      <td>네이버_신용카드_9월</td>\n      <td>0</td>\n      <td>5488231</td>\n      <td>대변</td>\n      <td>네이버스마트스토어교재</td>\n      <td>복사전표[매출]</td>\n      <td>2022</td>\n      <td>9</td>\n      <td>30</td>\n      <td>매출</td>\n      <td>매출</td>\n      <td>교재매출</td>\n    </tr>\n    <tr>\n      <th>83220</th>\n      <td>2022-09-30</td>\n      <td>50007</td>\n      <td>10800</td>\n      <td>외상매출금</td>\n      <td>네이버_가상계좌_9월</td>\n      <td>1531973</td>\n      <td>0</td>\n      <td>차변</td>\n      <td>네이버스마트스토어교재</td>\n      <td>복사전표[매출]</td>\n      <td>2022</td>\n      <td>9</td>\n      <td>30</td>\n      <td>유동자산</td>\n      <td>매출채권및기타채권</td>\n      <td>외상매출금</td>\n    </tr>\n    <tr>\n      <th>83221</th>\n      <td>2022-09-30</td>\n      <td>50007</td>\n      <td>40103</td>\n      <td>교재매출</td>\n      <td>네이버_가상계좌_9월</td>\n      <td>0</td>\n      <td>1531973</td>\n      <td>대변</td>\n      <td>네이버스마트스토어교재</td>\n      <td>복사전표[매출]</td>\n      <td>2022</td>\n      <td>9</td>\n      <td>30</td>\n      <td>매출</td>\n      <td>매출</td>\n      <td>교재매출</td>\n    </tr>\n  </tbody>\n</table>\n</div>"
     },
     "execution_count": 69,
     "metadata": {},
     "output_type": "execute_result"
    }
   ],
   "source": [
    "jnl09 = jnl22.일자(date(2022,9,30)).전표번호(['00015', '00016', '00017', '00265', '00266', '00267', '50002', '50003', '50004','50005', '50006', '50007'])\n",
    "jnl09.df"
   ],
   "metadata": {
    "collapsed": false,
    "pycharm": {
     "name": "#%%\n"
    }
   }
  },
  {
   "cell_type": "code",
   "execution_count": 74,
   "outputs": [
    {
     "data": {
      "text/plain": "1795113095"
     },
     "execution_count": 74,
     "metadata": {},
     "output_type": "execute_result"
    }
   ],
   "source": [
    "B2C매출 = jnl09.계정과목('B2C매출').df['대변'].sum()\n",
    "B2C매출"
   ],
   "metadata": {
    "collapsed": false,
    "pycharm": {
     "name": "#%%\n"
    }
   }
  },
  {
   "cell_type": "code",
   "execution_count": 75,
   "outputs": [
    {
     "data": {
      "text/plain": "-243383373"
     },
     "execution_count": 75,
     "metadata": {},
     "output_type": "execute_result"
    }
   ],
   "source": [
    "상품매출 = jnl09.계정과목('상품매출').df['대변'].sum()\n",
    "상품매출"
   ],
   "metadata": {
    "collapsed": false,
    "pycharm": {
     "name": "#%%\n"
    }
   }
  },
  {
   "cell_type": "code",
   "execution_count": 76,
   "outputs": [
    {
     "data": {
      "text/plain": "1551729722"
     },
     "execution_count": 76,
     "metadata": {},
     "output_type": "execute_result"
    }
   ],
   "source": [
    "B2C매출 + 상품매출"
   ],
   "metadata": {
    "collapsed": false,
    "pycharm": {
     "name": "#%%\n"
    }
   }
  },
  {
   "cell_type": "code",
   "execution_count": null,
   "outputs": [],
   "source": [],
   "metadata": {
    "collapsed": false,
    "pycharm": {
     "name": "#%%\n"
    }
   }
  }
 ],
 "metadata": {
  "kernelspec": {
   "display_name": "Python 3",
   "language": "python",
   "name": "python3"
  },
  "language_info": {
   "codemirror_mode": {
    "name": "ipython",
    "version": 2
   },
   "file_extension": ".py",
   "mimetype": "text/x-python",
   "name": "python",
   "nbconvert_exporter": "python",
   "pygments_lexer": "ipython2",
   "version": "2.7.6"
  }
 },
 "nbformat": 4,
 "nbformat_minor": 0
}