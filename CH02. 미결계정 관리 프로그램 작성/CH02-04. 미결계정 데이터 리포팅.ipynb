{
 "cells": [
  {
   "cell_type": "markdown",
   "metadata": {},
   "source": [
    "# [ 2-4. 미결계정 데이터 리포팅 ]"
   ]
  },
  {
   "cell_type": "markdown",
   "metadata": {},
   "source": [
    "## 1. 샘플 데이터 추가"
   ]
  },
  {
   "cell_type": "code",
   "execution_count": 4,
   "metadata": {},
   "outputs": [],
   "source": [
    "import pandas as pd\n",
    "\n",
    "from pending_account import TransactionManager, CashflowManager"
   ]
  },
  {
   "cell_type": "code",
   "execution_count": 5,
   "metadata": {},
   "outputs": [],
   "source": [
    "tm = TransactionManager()\n",
    "cm = CashflowManager()"
   ]
  },
  {
   "cell_type": "code",
   "execution_count": 84,
   "metadata": {},
   "outputs": [
    {
     "data": {
      "text/plain": [
       "4"
      ]
     },
     "execution_count": 84,
     "metadata": {},
     "output_type": "execute_result"
    }
   ],
   "source": [
    "tm.create(\n",
    "    account_name = \"미지급금\", \n",
    "    client_name = \"AA사\", \n",
    "    transaction_date = \"2024-01-05\", \n",
    "    amount_receivable = 0, \n",
    "    amount_payable = 2_000_000, \n",
    "    settlement_status = None, \n",
    "    notes = None\n",
    ")\n",
    "tm.create(\n",
    "    account_name = \"미지급금\", \n",
    "    client_name = \"BB사\", \n",
    "    transaction_date = \"2024-01-25\", \n",
    "    amount_receivable = 0, \n",
    "    amount_payable = 1_000_000, \n",
    "    settlement_status = None, \n",
    "    notes = None\n",
    ")"
   ]
  },
  {
   "cell_type": "code",
   "execution_count": 86,
   "metadata": {},
   "outputs": [
    {
     "data": {
      "text/plain": [
       "8"
      ]
     },
     "execution_count": 86,
     "metadata": {},
     "output_type": "execute_result"
    }
   ],
   "source": [
    "cm.create(\n",
    "    transaction_id = 3, \n",
    "    dw_date = \"2024-01-20\", \n",
    "    deposit_amount = 0, \n",
    "    withdrawal_amount = 1_000_000, \n",
    "    notes = None\n",
    ")\n",
    "cm.create(\n",
    "    transaction_id = 3, \n",
    "    dw_date = \"2024-01-30\", \n",
    "    deposit_amount = 0, \n",
    "    withdrawal_amount = 500_000, \n",
    "    notes = None\n",
    ")"
   ]
  },
  {
   "cell_type": "code",
   "execution_count": 87,
   "metadata": {},
   "outputs": [
    {
     "data": {
      "text/plain": [
       "9"
      ]
     },
     "execution_count": 87,
     "metadata": {},
     "output_type": "execute_result"
    }
   ],
   "source": [
    "cm.create(\n",
    "    transaction_id = 4, \n",
    "    dw_date = \"2024-01-30\", \n",
    "    deposit_amount = 0, \n",
    "    withdrawal_amount = 300_000, \n",
    "    notes = None\n",
    ")"
   ]
  },
  {
   "cell_type": "markdown",
   "metadata": {},
   "source": [
    "## 2. 미결계정 잔액 계산\n",
    "### 2-1. 데이터 로딩"
   ]
  },
  {
   "cell_type": "code",
   "execution_count": 88,
   "metadata": {},
   "outputs": [],
   "source": [
    "tmdf = pd.DataFrame(tm.read_all())\n",
    "cmdf = pd.DataFrame(cm.read_all())"
   ]
  },
  {
   "cell_type": "markdown",
   "metadata": {},
   "source": [
    "#### 2-1-1. Transaction records table"
   ]
  },
  {
   "cell_type": "code",
   "execution_count": 89,
   "metadata": {},
   "outputs": [
    {
     "name": "stdout",
     "output_type": "stream",
     "text": [
      "   id account_name client_name transaction_date  amount_receivable  \\\n",
      "0   1        외상매출금       ABC전자       2024-01-10            1000000   \n",
      "1   2        외상매출금        AG상사       2024-01-10            2000000   \n",
      "2   3         미지급금         AA사       2024-01-05                  0   \n",
      "3   4         미지급금         BB사       2024-01-25                  0   \n",
      "\n",
      "   amount_payable settlement_status notes  \n",
      "0               0              None  None  \n",
      "1               0              None  None  \n",
      "2         2000000              None  None  \n",
      "3         1000000              None  None  \n"
     ]
    }
   ],
   "source": [
    "print(tmdf)"
   ]
  },
  {
   "cell_type": "markdown",
   "metadata": {},
   "source": [
    "#### 2-1-2. Cashflow records table"
   ]
  },
  {
   "cell_type": "code",
   "execution_count": 90,
   "metadata": {},
   "outputs": [
    {
     "name": "stdout",
     "output_type": "stream",
     "text": [
      "   id  transaction_id     dw_date  deposit_amount  withdrawal_amount notes\n",
      "0   1               1  2024-01-20          500000                  0  None\n",
      "1   2               1  2024-01-30          500000                  0  None\n",
      "2   3               2  2024-01-15         1000000                  0  None\n",
      "3   4               2  2024-01-25          500000                  0  None\n",
      "4   7               3  2024-01-20               0            1000000  None\n",
      "5   8               3  2024-01-30               0             500000  None\n",
      "6   9               4  2024-01-30               0             300000  None\n"
     ]
    }
   ],
   "source": [
    "print(cmdf)"
   ]
  },
  {
   "cell_type": "markdown",
   "metadata": {},
   "source": [
    "### 2-2. 미결잔액 조회 코드 작성"
   ]
  },
  {
   "cell_type": "markdown",
   "metadata": {},
   "source": [
    "#### 2-2-1. 프롬프트 작성\n",
    "![프롬프트 작성](image/CH02-04-01.png)"
   ]
  },
  {
   "cell_type": "markdown",
   "metadata": {},
   "source": [
    "#### 2-2-2. ChatGPT 답변\n",
    "![ChatGPT 답변](image/CH02-04-02.png)\n",
    "![ChatGPT 답변](image/CH02-04-03.png)"
   ]
  },
  {
   "cell_type": "markdown",
   "metadata": {},
   "source": [
    "#### 2-2-3. ChatGPT 코드\n",
    "```\n",
    "import pandas as pd\n",
    "\n",
    "# 초기 데이터\n",
    "tmdf = pd.DataFrame({\n",
    "    'id': [1, 2],\n",
    "    'account_name': ['외상매출금', '외상매출금'],\n",
    "    'client_name': ['ABC전자', 'AG상사'],\n",
    "    'transaction_date': ['2024-01-10', '2024-01-10'],\n",
    "    'amount_receivable': [1000000, 2000000],\n",
    "    'amount_payable': [0, 0],\n",
    "    'settlement_status': [None, None],\n",
    "    'notes': [None, None]\n",
    "})\n",
    "\n",
    "cmdf = pd.DataFrame({\n",
    "    'id': [1, 2, 3, 4],\n",
    "    'transaction_id': [1, 1, 2, 2],\n",
    "    'dw_date': [\n",
    "        '2024-01-20', '2024-01-30', '2024-01-15', '2024-01-25'\n",
    "    ],\n",
    "    'deposit_amount': [500000, 500000, 1000000, 500000],\n",
    "    'withdrawal_amount': [0, 0, 0, 0],\n",
    "    'notes': [None, None, None, None]\n",
    "})\n",
    "\n",
    "# 받은 금액을 계산\n",
    "amount_received = cmdf.groupby('transaction_id')[\n",
    "        'deposit_amount'\n",
    "    ].sum().reset_index()\n",
    "amount_received.columns = ['id', 'amount_received']\n",
    "\n",
    "# 거래 DataFrame에 받은 금액을 병합\n",
    "result_df = tmdf.merge(amount_received, on='id', how='left')\n",
    "\n",
    "# 지급된 금액을 계산\n",
    "amount_paid = cmdf.groupby('transaction_id')[\n",
    "        'withdrawal_amount'\n",
    "    ].sum().reset_index()\n",
    "amount_paid.columns = ['id', 'amount_paid']\n",
    "\n",
    "# 거래 DataFrame에 지급된 금액을 병합\n",
    "result_df = result_df.merge(amount_paid, on='id', how='left')\n",
    "\n",
    "# 결산된 금액 계산\n",
    "result_df['amount_received'] = result_df[\n",
    "        'amount_received'\n",
    "    ].fillna(0).astype(int)\n",
    "result_df['amount_paid'] = result_df[\n",
    "        'amount_paid'\n",
    "    ].fillna(0).astype(int)\n",
    "\n",
    "# 미수/미지급 잔액 계산\n",
    "result_df['receivable_remained'] = (\n",
    "        result_df['amount_receivable'] - result_df['amount_received']\n",
    "    )\n",
    "result_df['payable_remained'] = (\n",
    "        result_df['amount_payable'] - result_df['amount_paid']\n",
    "    )\n",
    "\n",
    "# 원하는 컬럼 순서로 재배열\n",
    "result_df = result_df[[\n",
    "        'id', 'account_name', 'client_name', 'transaction_date', \n",
    "        'amount_receivable', 'amount_received', 'receivable_remained', \n",
    "        'amount_payable', 'amount_paid', 'payable_remained', \n",
    "        'settlement_status', 'notes'\n",
    "    ]]\n",
    "\n",
    "print(result_df)\n",
    "```"
   ]
  },
  {
   "cell_type": "code",
   "execution_count": 91,
   "metadata": {},
   "outputs": [
    {
     "name": "stdout",
     "output_type": "stream",
     "text": [
      "   id account_name client_name transaction_date  amount_receivable  \\\n",
      "0   1        외상매출금       ABC전자       2024-01-10            1000000   \n",
      "1   2        외상매출금        AG상사       2024-01-10            2000000   \n",
      "2   3         미지급금         AA사       2024-01-05                  0   \n",
      "3   4         미지급금         BB사       2024-01-25                  0   \n",
      "\n",
      "   amount_received  receivable_remained  amount_payable  amount_paid  \\\n",
      "0          1000000                    0               0            0   \n",
      "1          1500000               500000               0            0   \n",
      "2                0                    0         2000000      1500000   \n",
      "3                0                    0         1000000       300000   \n",
      "\n",
      "   payable_remained settlement_status notes  \n",
      "0                 0              None  None  \n",
      "1                 0              None  None  \n",
      "2            500000              None  None  \n",
      "3            700000              None  None  \n"
     ]
    }
   ],
   "source": [
    "# 받은 금액을 계산\n",
    "amount_received = cmdf.groupby('transaction_id')[\n",
    "        'deposit_amount'\n",
    "    ].sum().reset_index()\n",
    "amount_received.columns = ['id', 'amount_received']\n",
    "\n",
    "# 거래 DataFrame에 받은 금액을 병합\n",
    "result_df = tmdf.merge(amount_received, on='id', how='left')\n",
    "\n",
    "# 지급된 금액을 계산\n",
    "amount_paid = cmdf.groupby('transaction_id')[\n",
    "        'withdrawal_amount'\n",
    "    ].sum().reset_index()\n",
    "amount_paid.columns = ['id', 'amount_paid']\n",
    "\n",
    "# 거래 DataFrame에 지급된 금액을 병합\n",
    "result_df = result_df.merge(amount_paid, on='id', how='left')\n",
    "\n",
    "# 결산된 금액 계산\n",
    "result_df['amount_received'] = result_df[\n",
    "        'amount_received'\n",
    "    ].fillna(0).astype(int)\n",
    "result_df['amount_paid'] = result_df[\n",
    "        'amount_paid'\n",
    "    ].fillna(0).astype(int)\n",
    "\n",
    "# 미수/미지급 잔액 계산\n",
    "result_df['receivable_remained'] = (\n",
    "        result_df['amount_receivable'] - result_df['amount_received']\n",
    "    )\n",
    "result_df['payable_remained'] = (\n",
    "        result_df['amount_payable'] - result_df['amount_paid']\n",
    "    )\n",
    "\n",
    "# 원하는 컬럼 순서로 재배열\n",
    "result_df = result_df[[\n",
    "        'id', 'account_name', 'client_name', 'transaction_date', \n",
    "        'amount_receivable', 'amount_received', 'receivable_remained', \n",
    "        'amount_payable', 'amount_paid', 'payable_remained', \n",
    "        'settlement_status', 'notes'\n",
    "    ]]\n",
    "\n",
    "print(result_df)"
   ]
  },
  {
   "cell_type": "code",
   "execution_count": 92,
   "metadata": {},
   "outputs": [],
   "source": [
    "result_df.to_excel(\"미결계정 잔액.xlsx\")"
   ]
  },
  {
   "cell_type": "markdown",
   "metadata": {},
   "source": [
    "## 3. 데이터 리포팅 모듈 작성"
   ]
  },
  {
   "cell_type": "markdown",
   "metadata": {},
   "source": [
    "### 3-1. 데이터 로딩 및 미결잔액 계산 함수 작성"
   ]
  },
  {
   "cell_type": "code",
   "execution_count": 93,
   "metadata": {},
   "outputs": [],
   "source": [
    "import pandas as pd\n",
    "from connector import Connector\n",
    "\n",
    "with Connector() as db:\n",
    "    query = \"SELECT * FROM transaction_records\"\n",
    "    db.cursor.execute(query)\n",
    "    tmdf = pd.DataFrame(db.cursor.fetchall())\n",
    "\n",
    "    query = \"SELECT * FROM cashflow_records\"\n",
    "    db.cursor.execute(query)\n",
    "    cmdf = pd.DataFrame(db.cursor.fetchall())\n",
    "\n",
    "# 받은 금액을 계산\n",
    "amount_received = cmdf.groupby('transaction_id')[\n",
    "        'deposit_amount'\n",
    "    ].sum().reset_index()\n",
    "amount_received.columns = ['id', 'amount_received']\n",
    "\n",
    "# 거래 DataFrame에 받은 금액을 병합\n",
    "result_df = tmdf.merge(amount_received, on='id', how='left')\n",
    "\n",
    "# 지급된 금액을 계산\n",
    "amount_paid = cmdf.groupby('transaction_id')[\n",
    "        'withdrawal_amount'\n",
    "    ].sum().reset_index()\n",
    "amount_paid.columns = ['id', 'amount_paid']\n",
    "\n",
    "# 거래 DataFrame에 지급된 금액을 병합\n",
    "result_df = result_df.merge(amount_paid, on='id', how='left')\n",
    "\n",
    "# 결산된 금액 계산\n",
    "result_df['amount_received'] = result_df[\n",
    "        'amount_received'\n",
    "    ].fillna(0).astype(int)\n",
    "result_df['amount_paid'] = result_df[\n",
    "        'amount_paid'\n",
    "    ].fillna(0).astype(int)\n",
    "\n",
    "# 미수/미지급 잔액 계산\n",
    "result_df['receivable_remained'] = (\n",
    "        result_df['amount_receivable'] - result_df['amount_received']\n",
    "    )\n",
    "result_df['payable_remained'] = (\n",
    "        result_df['amount_payable'] - result_df['amount_paid']\n",
    "    )\n",
    "\n",
    "# 원하는 컬럼 순서로 재배열\n",
    "result_df = result_df[[\n",
    "        'id', 'account_name', 'client_name', 'transaction_date', \n",
    "        'amount_receivable', 'amount_received', 'receivable_remained', \n",
    "        'amount_payable', 'amount_paid', 'payable_remained', \n",
    "        'settlement_status', 'notes'\n",
    "    ]]"
   ]
  },
  {
   "cell_type": "markdown",
   "metadata": {},
   "source": [
    "### 3-2. \"status\" 설정 코드 작성"
   ]
  },
  {
   "cell_type": "code",
   "execution_count": 94,
   "metadata": {},
   "outputs": [],
   "source": [
    "for idx in result_df.index:\n",
    "    if result_df.loc[idx, 'receivable_remained'] > 0:\n",
    "        result_df.loc[idx, 'settlement_status'] = '미수'\n",
    "    elif result_df.loc[idx, 'payable_remained'] > 0:\n",
    "        result_df.loc[idx, 'settlement_status'] = '미지급'\n",
    "    else:\n",
    "        result_df.loc[idx, 'settlement_status'] = '완료'"
   ]
  },
  {
   "cell_type": "code",
   "execution_count": 95,
   "metadata": {},
   "outputs": [
    {
     "data": {
      "text/html": [
       "<div>\n",
       "<style scoped>\n",
       "    .dataframe tbody tr th:only-of-type {\n",
       "        vertical-align: middle;\n",
       "    }\n",
       "\n",
       "    .dataframe tbody tr th {\n",
       "        vertical-align: top;\n",
       "    }\n",
       "\n",
       "    .dataframe thead th {\n",
       "        text-align: right;\n",
       "    }\n",
       "</style>\n",
       "<table border=\"1\" class=\"dataframe\">\n",
       "  <thead>\n",
       "    <tr style=\"text-align: right;\">\n",
       "      <th></th>\n",
       "      <th>id</th>\n",
       "      <th>account_name</th>\n",
       "      <th>client_name</th>\n",
       "      <th>transaction_date</th>\n",
       "      <th>amount_receivable</th>\n",
       "      <th>amount_received</th>\n",
       "      <th>receivable_remained</th>\n",
       "      <th>amount_payable</th>\n",
       "      <th>amount_paid</th>\n",
       "      <th>payable_remained</th>\n",
       "      <th>settlement_status</th>\n",
       "      <th>notes</th>\n",
       "    </tr>\n",
       "  </thead>\n",
       "  <tbody>\n",
       "    <tr>\n",
       "      <th>0</th>\n",
       "      <td>1</td>\n",
       "      <td>외상매출금</td>\n",
       "      <td>ABC전자</td>\n",
       "      <td>2024-01-10</td>\n",
       "      <td>1000000</td>\n",
       "      <td>1000000</td>\n",
       "      <td>0</td>\n",
       "      <td>0</td>\n",
       "      <td>0</td>\n",
       "      <td>0</td>\n",
       "      <td>완료</td>\n",
       "      <td>None</td>\n",
       "    </tr>\n",
       "    <tr>\n",
       "      <th>1</th>\n",
       "      <td>2</td>\n",
       "      <td>외상매출금</td>\n",
       "      <td>AG상사</td>\n",
       "      <td>2024-01-10</td>\n",
       "      <td>2000000</td>\n",
       "      <td>1500000</td>\n",
       "      <td>500000</td>\n",
       "      <td>0</td>\n",
       "      <td>0</td>\n",
       "      <td>0</td>\n",
       "      <td>미수</td>\n",
       "      <td>None</td>\n",
       "    </tr>\n",
       "    <tr>\n",
       "      <th>2</th>\n",
       "      <td>3</td>\n",
       "      <td>미지급금</td>\n",
       "      <td>AA사</td>\n",
       "      <td>2024-01-05</td>\n",
       "      <td>0</td>\n",
       "      <td>0</td>\n",
       "      <td>0</td>\n",
       "      <td>2000000</td>\n",
       "      <td>1500000</td>\n",
       "      <td>500000</td>\n",
       "      <td>미지급</td>\n",
       "      <td>None</td>\n",
       "    </tr>\n",
       "    <tr>\n",
       "      <th>3</th>\n",
       "      <td>4</td>\n",
       "      <td>미지급금</td>\n",
       "      <td>BB사</td>\n",
       "      <td>2024-01-25</td>\n",
       "      <td>0</td>\n",
       "      <td>0</td>\n",
       "      <td>0</td>\n",
       "      <td>1000000</td>\n",
       "      <td>300000</td>\n",
       "      <td>700000</td>\n",
       "      <td>미지급</td>\n",
       "      <td>None</td>\n",
       "    </tr>\n",
       "  </tbody>\n",
       "</table>\n",
       "</div>"
      ],
      "text/plain": [
       "   id account_name client_name transaction_date  amount_receivable  \\\n",
       "0   1        외상매출금       ABC전자       2024-01-10            1000000   \n",
       "1   2        외상매출금        AG상사       2024-01-10            2000000   \n",
       "2   3         미지급금         AA사       2024-01-05                  0   \n",
       "3   4         미지급금         BB사       2024-01-25                  0   \n",
       "\n",
       "   amount_received  receivable_remained  amount_payable  amount_paid  \\\n",
       "0          1000000                    0               0            0   \n",
       "1          1500000               500000               0            0   \n",
       "2                0                    0         2000000      1500000   \n",
       "3                0                    0         1000000       300000   \n",
       "\n",
       "   payable_remained settlement_status notes  \n",
       "0                 0                완료  None  \n",
       "1                 0                미수  None  \n",
       "2            500000               미지급  None  \n",
       "3            700000               미지급  None  "
      ]
     },
     "execution_count": 95,
     "metadata": {},
     "output_type": "execute_result"
    }
   ],
   "source": [
    "result_df"
   ]
  },
  {
   "cell_type": "markdown",
   "metadata": {},
   "source": [
    "### 3-3. 클래스 작성"
   ]
  },
  {
   "cell_type": "code",
   "execution_count": 99,
   "metadata": {},
   "outputs": [],
   "source": [
    "import pandas as pd\n",
    "from connector import Connector\n",
    "\n",
    "class ReportingManager:\n",
    "    def pending_report(self):\n",
    "        with Connector() as db:\n",
    "            query = \"SELECT * FROM transaction_records\"\n",
    "            db.cursor.execute(query)\n",
    "            tmdf = pd.DataFrame(db.cursor.fetchall())\n",
    "\n",
    "            query = \"SELECT * FROM cashflow_records\"\n",
    "            db.cursor.execute(query)\n",
    "            cmdf = pd.DataFrame(db.cursor.fetchall())\n",
    "\n",
    "        # 받은 금액을 계산\n",
    "        amount_received = cmdf.groupby('transaction_id')[\n",
    "                'deposit_amount'\n",
    "            ].sum().reset_index()\n",
    "        amount_received.columns = ['id', 'amount_received']\n",
    "\n",
    "        # 거래 DataFrame에 받은 금액을 병합\n",
    "        result_df = tmdf.merge(amount_received, on='id', how='left')\n",
    "\n",
    "        # 지급된 금액을 계산\n",
    "        amount_paid = cmdf.groupby('transaction_id')[\n",
    "                'withdrawal_amount'\n",
    "            ].sum().reset_index()\n",
    "        amount_paid.columns = ['id', 'amount_paid']\n",
    "\n",
    "        # 거래 DataFrame에 지급된 금액을 병합\n",
    "        result_df = result_df.merge(amount_paid, on='id', how='left')\n",
    "\n",
    "        # 결산된 금액 계산\n",
    "        result_df['amount_received'] = result_df[\n",
    "                'amount_received'\n",
    "            ].fillna(0).astype(int)\n",
    "        result_df['amount_paid'] = result_df[\n",
    "                'amount_paid'\n",
    "            ].fillna(0).astype(int)\n",
    "\n",
    "        # 미수/미지급 잔액 계산\n",
    "        result_df['receivable_remained'] = (\n",
    "                result_df['amount_receivable'] - result_df['amount_received']\n",
    "            )\n",
    "        result_df['payable_remained'] = (\n",
    "                result_df['amount_payable'] - result_df['amount_paid']\n",
    "            )\n",
    "\n",
    "        # 원하는 컬럼 순서로 재배열\n",
    "        result_df = result_df[[\n",
    "                'id', 'account_name', 'client_name', 'transaction_date', \n",
    "                'amount_receivable', 'amount_received', 'receivable_remained', \n",
    "                'amount_payable', 'amount_paid', 'payable_remained', \n",
    "                'settlement_status', 'notes'\n",
    "            ]]\n",
    "\n",
    "        # settlement_status 설정\n",
    "        for idx in result_df.index:\n",
    "            if result_df.loc[idx, 'receivable_remained'] > 0:\n",
    "                result_df.loc[idx, 'settlement_status'] = '미수'\n",
    "            elif result_df.loc[idx, 'payable_remained'] > 0:\n",
    "                result_df.loc[idx, 'settlement_status'] = '미지급'\n",
    "            else:\n",
    "                result_df.loc[idx, 'settlement_status'] = '완료'\n",
    "\n",
    "        return result_df"
   ]
  },
  {
   "cell_type": "code",
   "execution_count": 100,
   "metadata": {},
   "outputs": [],
   "source": [
    "rm = ReportingManager()"
   ]
  },
  {
   "cell_type": "code",
   "execution_count": 101,
   "metadata": {},
   "outputs": [
    {
     "data": {
      "text/html": [
       "<div>\n",
       "<style scoped>\n",
       "    .dataframe tbody tr th:only-of-type {\n",
       "        vertical-align: middle;\n",
       "    }\n",
       "\n",
       "    .dataframe tbody tr th {\n",
       "        vertical-align: top;\n",
       "    }\n",
       "\n",
       "    .dataframe thead th {\n",
       "        text-align: right;\n",
       "    }\n",
       "</style>\n",
       "<table border=\"1\" class=\"dataframe\">\n",
       "  <thead>\n",
       "    <tr style=\"text-align: right;\">\n",
       "      <th></th>\n",
       "      <th>id</th>\n",
       "      <th>account_name</th>\n",
       "      <th>client_name</th>\n",
       "      <th>transaction_date</th>\n",
       "      <th>amount_receivable</th>\n",
       "      <th>amount_received</th>\n",
       "      <th>receivable_remained</th>\n",
       "      <th>amount_payable</th>\n",
       "      <th>amount_paid</th>\n",
       "      <th>payable_remained</th>\n",
       "      <th>settlement_status</th>\n",
       "      <th>notes</th>\n",
       "    </tr>\n",
       "  </thead>\n",
       "  <tbody>\n",
       "    <tr>\n",
       "      <th>0</th>\n",
       "      <td>1</td>\n",
       "      <td>외상매출금</td>\n",
       "      <td>ABC전자</td>\n",
       "      <td>2024-01-10</td>\n",
       "      <td>1000000</td>\n",
       "      <td>1000000</td>\n",
       "      <td>0</td>\n",
       "      <td>0</td>\n",
       "      <td>0</td>\n",
       "      <td>0</td>\n",
       "      <td>완료</td>\n",
       "      <td>None</td>\n",
       "    </tr>\n",
       "    <tr>\n",
       "      <th>1</th>\n",
       "      <td>2</td>\n",
       "      <td>외상매출금</td>\n",
       "      <td>AG상사</td>\n",
       "      <td>2024-01-10</td>\n",
       "      <td>2000000</td>\n",
       "      <td>1500000</td>\n",
       "      <td>500000</td>\n",
       "      <td>0</td>\n",
       "      <td>0</td>\n",
       "      <td>0</td>\n",
       "      <td>미수</td>\n",
       "      <td>None</td>\n",
       "    </tr>\n",
       "    <tr>\n",
       "      <th>2</th>\n",
       "      <td>3</td>\n",
       "      <td>미지급금</td>\n",
       "      <td>AA사</td>\n",
       "      <td>2024-01-05</td>\n",
       "      <td>0</td>\n",
       "      <td>0</td>\n",
       "      <td>0</td>\n",
       "      <td>2000000</td>\n",
       "      <td>1500000</td>\n",
       "      <td>500000</td>\n",
       "      <td>미지급</td>\n",
       "      <td>None</td>\n",
       "    </tr>\n",
       "    <tr>\n",
       "      <th>3</th>\n",
       "      <td>4</td>\n",
       "      <td>미지급금</td>\n",
       "      <td>BB사</td>\n",
       "      <td>2024-01-25</td>\n",
       "      <td>0</td>\n",
       "      <td>0</td>\n",
       "      <td>0</td>\n",
       "      <td>1000000</td>\n",
       "      <td>300000</td>\n",
       "      <td>700000</td>\n",
       "      <td>미지급</td>\n",
       "      <td>None</td>\n",
       "    </tr>\n",
       "  </tbody>\n",
       "</table>\n",
       "</div>"
      ],
      "text/plain": [
       "   id account_name client_name transaction_date  amount_receivable  \\\n",
       "0   1        외상매출금       ABC전자       2024-01-10            1000000   \n",
       "1   2        외상매출금        AG상사       2024-01-10            2000000   \n",
       "2   3         미지급금         AA사       2024-01-05                  0   \n",
       "3   4         미지급금         BB사       2024-01-25                  0   \n",
       "\n",
       "   amount_received  receivable_remained  amount_payable  amount_paid  \\\n",
       "0          1000000                    0               0            0   \n",
       "1          1500000               500000               0            0   \n",
       "2                0                    0         2000000      1500000   \n",
       "3                0                    0         1000000       300000   \n",
       "\n",
       "   payable_remained settlement_status notes  \n",
       "0                 0                완료  None  \n",
       "1                 0                미수  None  \n",
       "2            500000               미지급  None  \n",
       "3            700000               미지급  None  "
      ]
     },
     "execution_count": 101,
     "metadata": {},
     "output_type": "execute_result"
    }
   ],
   "source": [
    "rm.pending_report()"
   ]
  },
  {
   "cell_type": "markdown",
   "metadata": {},
   "source": [
    "### 3-4. 모듈에 클래스 추가\n",
    "* pending_account 모듈에 ReportingManager 클래스 추가\n",
    "\n",
    "* pending_account2.py 생성 후 위에서 작성한 코드 추가"
   ]
  },
  {
   "cell_type": "code",
   "execution_count": 1,
   "metadata": {},
   "outputs": [],
   "source": [
    "from pending_account2 import ReportingManager as RM\n",
    "rm2 = RM()"
   ]
  },
  {
   "cell_type": "markdown",
   "metadata": {},
   "source": [
    "### 3-4. 결과데이터 엑셀 출력"
   ]
  },
  {
   "cell_type": "code",
   "execution_count": 2,
   "metadata": {},
   "outputs": [
    {
     "data": {
      "text/html": [
       "<div>\n",
       "<style scoped>\n",
       "    .dataframe tbody tr th:only-of-type {\n",
       "        vertical-align: middle;\n",
       "    }\n",
       "\n",
       "    .dataframe tbody tr th {\n",
       "        vertical-align: top;\n",
       "    }\n",
       "\n",
       "    .dataframe thead th {\n",
       "        text-align: right;\n",
       "    }\n",
       "</style>\n",
       "<table border=\"1\" class=\"dataframe\">\n",
       "  <thead>\n",
       "    <tr style=\"text-align: right;\">\n",
       "      <th></th>\n",
       "      <th>id</th>\n",
       "      <th>account_name</th>\n",
       "      <th>client_name</th>\n",
       "      <th>transaction_date</th>\n",
       "      <th>amount_receivable</th>\n",
       "      <th>amount_received</th>\n",
       "      <th>receivable_remained</th>\n",
       "      <th>amount_payable</th>\n",
       "      <th>amount_paid</th>\n",
       "      <th>payable_remained</th>\n",
       "      <th>settlement_status</th>\n",
       "      <th>notes</th>\n",
       "    </tr>\n",
       "  </thead>\n",
       "  <tbody>\n",
       "    <tr>\n",
       "      <th>0</th>\n",
       "      <td>1</td>\n",
       "      <td>외상매출금</td>\n",
       "      <td>ABC전자</td>\n",
       "      <td>2024-01-10</td>\n",
       "      <td>1000000</td>\n",
       "      <td>1000000</td>\n",
       "      <td>0</td>\n",
       "      <td>0</td>\n",
       "      <td>0</td>\n",
       "      <td>0</td>\n",
       "      <td>완료</td>\n",
       "      <td>None</td>\n",
       "    </tr>\n",
       "    <tr>\n",
       "      <th>1</th>\n",
       "      <td>2</td>\n",
       "      <td>외상매출금</td>\n",
       "      <td>AG상사</td>\n",
       "      <td>2024-01-10</td>\n",
       "      <td>2000000</td>\n",
       "      <td>1500000</td>\n",
       "      <td>500000</td>\n",
       "      <td>0</td>\n",
       "      <td>0</td>\n",
       "      <td>0</td>\n",
       "      <td>미수</td>\n",
       "      <td>None</td>\n",
       "    </tr>\n",
       "    <tr>\n",
       "      <th>2</th>\n",
       "      <td>3</td>\n",
       "      <td>미지급금</td>\n",
       "      <td>AA사</td>\n",
       "      <td>2024-01-05</td>\n",
       "      <td>0</td>\n",
       "      <td>0</td>\n",
       "      <td>0</td>\n",
       "      <td>2000000</td>\n",
       "      <td>1500000</td>\n",
       "      <td>500000</td>\n",
       "      <td>미지급</td>\n",
       "      <td>None</td>\n",
       "    </tr>\n",
       "    <tr>\n",
       "      <th>3</th>\n",
       "      <td>4</td>\n",
       "      <td>미지급금</td>\n",
       "      <td>BB사</td>\n",
       "      <td>2024-01-25</td>\n",
       "      <td>0</td>\n",
       "      <td>0</td>\n",
       "      <td>0</td>\n",
       "      <td>1000000</td>\n",
       "      <td>300000</td>\n",
       "      <td>700000</td>\n",
       "      <td>미지급</td>\n",
       "      <td>None</td>\n",
       "    </tr>\n",
       "  </tbody>\n",
       "</table>\n",
       "</div>"
      ],
      "text/plain": [
       "   id account_name client_name transaction_date  amount_receivable  \\\n",
       "0   1        외상매출금       ABC전자       2024-01-10            1000000   \n",
       "1   2        외상매출금        AG상사       2024-01-10            2000000   \n",
       "2   3         미지급금         AA사       2024-01-05                  0   \n",
       "3   4         미지급금         BB사       2024-01-25                  0   \n",
       "\n",
       "   amount_received  receivable_remained  amount_payable  amount_paid  \\\n",
       "0          1000000                    0               0            0   \n",
       "1          1500000               500000               0            0   \n",
       "2                0                    0         2000000      1500000   \n",
       "3                0                    0         1000000       300000   \n",
       "\n",
       "   payable_remained settlement_status notes  \n",
       "0                 0                완료  None  \n",
       "1                 0                미수  None  \n",
       "2            500000               미지급  None  \n",
       "3            700000               미지급  None  "
      ]
     },
     "execution_count": 2,
     "metadata": {},
     "output_type": "execute_result"
    }
   ],
   "source": [
    "rm2.pending_report()"
   ]
  },
  {
   "cell_type": "code",
   "execution_count": 3,
   "metadata": {},
   "outputs": [],
   "source": [
    "rm2.pending_report().to_excel(\"미결계정 잔액2.xlsx\")"
   ]
  },
  {
   "cell_type": "code",
   "execution_count": null,
   "metadata": {},
   "outputs": [],
   "source": []
  }
 ],
 "metadata": {
  "kernelspec": {
   "display_name": "fastcampus",
   "language": "python",
   "name": "python3"
  },
  "language_info": {
   "codemirror_mode": {
    "name": "ipython",
    "version": 3
   },
   "file_extension": ".py",
   "mimetype": "text/x-python",
   "name": "python",
   "nbconvert_exporter": "python",
   "pygments_lexer": "ipython3",
   "version": "3.11.7"
  }
 },
 "nbformat": 4,
 "nbformat_minor": 2
}
