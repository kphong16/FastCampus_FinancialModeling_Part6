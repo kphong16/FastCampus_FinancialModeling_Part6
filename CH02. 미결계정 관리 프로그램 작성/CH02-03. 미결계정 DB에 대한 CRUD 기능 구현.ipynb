{
 "cells": [
  {
   "cell_type": "markdown",
   "metadata": {},
   "source": [
    "# [ 2-3. 미결계정 DB에 대한 CRUD 기능 구현 ]"
   ]
  },
  {
   "cell_type": "markdown",
   "metadata": {},
   "source": [
    "## 1. CRUD 기능 구현 모듈 작성\n",
    "### 1-1. 프롬프트 작성\n",
    "![프롬프트](image/CH02-03-01.png)"
   ]
  },
  {
   "cell_type": "markdown",
   "metadata": {},
   "source": [
    "### 1-2. ChatGPT 답변"
   ]
  },
  {
   "cell_type": "markdown",
   "metadata": {},
   "source": [
    "![ChatGPT 답변](image/CH02-03-02.png)\n",
    "![ChatGPT 답변](image/CH02-03-03.png)\n",
    "![ChatGPT 답변](image/CH02-03-04.png)\n",
    "![ChatGPT 답변](image/CH02-03-05.png)"
   ]
  },
  {
   "cell_type": "markdown",
   "metadata": {},
   "source": [
    "### 1-3. ChatGPT 작성 코드\n",
    "\n",
    "```\n",
    "# transaction_manager.py\n",
    "from connector import Connector\n",
    "\n",
    "class TransactionManager:\n",
    "    def create_transaction(\n",
    "            self, account_name, client_name, \n",
    "            transaction_date, amount_receivable,\n",
    "            amount_payable, settlement_status, notes\n",
    "        ):\n",
    "        with Connector() as db:\n",
    "            query = \"\"\"\n",
    "                INSERT INTO transaction_records \n",
    "                    (account_name, client_name, \n",
    "                    transaction_date, amount_receivable,\n",
    "                    amount_payable, settlement_status, \n",
    "                    notes) \n",
    "                VALUES (%s, %s, %s, %s, %s, %s, %s)\n",
    "            \"\"\"\n",
    "            db.cursor.execute(\n",
    "                query, \n",
    "                (account_name, client_name, \n",
    "                transaction_date, amount_receivable,\n",
    "                amount_payable, settlement_status, notes)\n",
    "            )\n",
    "            db.connection.commit()\n",
    "            return db.cursor.lastrowid\n",
    "\n",
    "    def read_transaction(self, transaction_id):\n",
    "        with Connector() as db:\n",
    "            query = \"\"\"\n",
    "                SELECT * \n",
    "                FROM transaction_records \n",
    "                WHERE id = %s\n",
    "            \"\"\"\n",
    "            db.cursor.execute(query, (transaction_id,))\n",
    "            return db.cursor.fetchone()\n",
    "\n",
    "    def update_transaction(\n",
    "            self, transaction_id, account_name, \n",
    "            client_name, transaction_date, \n",
    "            amount_receivable, amount_payable,\n",
    "            settlement_status, notes\n",
    "        ):\n",
    "        with Connector() as db:\n",
    "            query = \"\"\"\n",
    "                UPDATE transaction_records \n",
    "                SET \n",
    "                    account_name = %s, \n",
    "                    client_name = %s, \n",
    "                    transaction_date = %s,\n",
    "                    amount_receivable = %s, \n",
    "                    amount_payable = %s, \n",
    "                    settlement_status = %s, \n",
    "                    notes = %s \n",
    "                WHERE id = %s\n",
    "            \"\"\"\n",
    "            db.cursor.execute(\n",
    "                query, \n",
    "                (account_name, client_name, \n",
    "                transaction_date, amount_receivable,\n",
    "                amount_payable, settlement_status, \n",
    "                notes, transaction_id)\n",
    "            )\n",
    "            db.connection.commit()\n",
    "\n",
    "    def delete_transaction(self, transaction_id):\n",
    "        with Connector() as db:\n",
    "            query = \"\"\"\n",
    "                DELETE \n",
    "                FROM transaction_records \n",
    "                WHERE id = %s\n",
    "            \"\"\"\n",
    "            db.cursor.execute(query, (transaction_id,))\n",
    "            db.connection.commit()\n",
    "\n",
    "# cashflow_manager.py\n",
    "from connector import Connector\n",
    "\n",
    "class CashflowManager:\n",
    "    def create_cashflow(\n",
    "            self, transaction_id, dw_date, deposit_amount, \n",
    "            withdrawal_amount, notes\n",
    "        ):\n",
    "        with Connector() as db:\n",
    "            query = \"\"\"\n",
    "                INSERT INTO cashflow_records \n",
    "                    (transaction_id, dw_date, \n",
    "                    deposit_amount, \n",
    "                    withdrawal_amount, notes) \n",
    "                VALUES (%s, %s, %s, %s, %s)\n",
    "            \"\"\"\n",
    "            db.cursor.execute(\n",
    "                query, \n",
    "                (transaction_id, dw_date, deposit_amount, \n",
    "                withdrawal_amount, notes)\n",
    "            )\n",
    "            db.connection.commit()\n",
    "            return db.cursor.lastrowid\n",
    "\n",
    "    def read_cashflow(self, cashflow_id):\n",
    "        with Connector() as db:\n",
    "            query = \"\"\"\n",
    "                SELECT * \n",
    "                FROM cashflow_records \n",
    "                WHERE id = %s\n",
    "            \"\"\"\n",
    "            db.cursor.execute(query, (cashflow_id,))\n",
    "            return db.cursor.fetchone()\n",
    "\n",
    "    def update_cashflow(\n",
    "            self, cashflow_id, transaction_id, \n",
    "            dw_date, deposit_amount,\n",
    "            withdrawal_amount, notes\n",
    "        ):\n",
    "        with Connector() as db:\n",
    "            query = \"\"\"\n",
    "                UPDATE cashflow_records \n",
    "                SET \n",
    "                    transaction_id = %s, \n",
    "                    dw_date = %s, \n",
    "                    deposit_amount = %s,\n",
    "                    withdrawal_amount = %s, \n",
    "                    notes = %s \n",
    "                WHERE id = %s\n",
    "            \"\"\"\n",
    "            db.cursor.execute(\n",
    "                query, \n",
    "                (transaction_id, dw_date, deposit_amount, \n",
    "                withdrawal_amount, notes, cashflow_id)\n",
    "            )\n",
    "            db.connection.commit()\n",
    "\n",
    "    def delete_cashflow(self, cashflow_id):\n",
    "        with Connector() as db:\n",
    "            query = \"\"\"\n",
    "                DELETE FROM cashflow_records \n",
    "                WHERE id = %s\n",
    "            \"\"\"\n",
    "            db.cursor.execute(query, (cashflow_id,))\n",
    "            db.connection.commit()\n",
    "\n",
    "```"
   ]
  },
  {
   "cell_type": "markdown",
   "metadata": {},
   "source": [
    "### 1-4. 코드 수정 반영\n",
    "* 함수 이름 축약\n",
    "* read_all 함수 작성"
   ]
  },
  {
   "cell_type": "code",
   "execution_count": 2,
   "metadata": {},
   "outputs": [],
   "source": [
    "# transaction_manager\n",
    "from connector import Connector\n",
    "\n",
    "class TransactionManager:\n",
    "    def create(\n",
    "            self, account_name, client_name, transaction_date, \n",
    "            amount_receivable, amount_payable, settlement_status, \n",
    "            notes\n",
    "        ):\n",
    "        with Connector() as db:\n",
    "            query = \"\"\"\n",
    "                INSERT INTO transaction_records \n",
    "                    (account_name, client_name, transaction_date, \n",
    "                    amount_receivable, amount_payable, \n",
    "                    settlement_status, notes) \n",
    "                VALUES (%s, %s, %s, %s, %s, %s, %s)\n",
    "            \"\"\"\n",
    "            db.cursor.execute(\n",
    "                query, \n",
    "                (account_name, client_name, transaction_date, \n",
    "                    amount_receivable, amount_payable, \n",
    "                    settlement_status, notes\n",
    "                )\n",
    "            )\n",
    "            db.connection.commit()\n",
    "            return db.cursor.lastrowid\n",
    "\n",
    "    def read_all(self):\n",
    "        with Connector() as db:\n",
    "            query = \"SELECT * FROM transaction_records\"\n",
    "            db.cursor.execute(query)\n",
    "            return db.cursor.fetchall()\n",
    "\n",
    "    def read(self, transaction_id):\n",
    "        with Connector() as db:\n",
    "            query = \"SELECT * FROM transaction_records WHERE id = %s\"\n",
    "            db.cursor.execute(query, (transaction_id,))\n",
    "            return db.cursor.fetchone()\n",
    "\n",
    "    def update(\n",
    "            self, transaction_id, account_name, client_name, \n",
    "            transaction_date, amount_receivable, \n",
    "            amount_payable, settlement_status, notes\n",
    "        ):\n",
    "        with Connector() as db:\n",
    "            query = \"\"\"\n",
    "                UPDATE transaction_records \n",
    "                SET account_name = %s, client_name = %s, \n",
    "                    transaction_date = %s, amount_receivable = %s,\n",
    "                    amount_payable = %s, settlement_status = %s,\n",
    "                    notes = %s \n",
    "                WHERE id = %s\n",
    "            \"\"\"\n",
    "            db.cursor.execute(\n",
    "                query, \n",
    "                (account_name, client_name, transaction_date, \n",
    "                    amount_receivable, amount_payable, \n",
    "                    settlement_status, notes, transaction_id\n",
    "                )\n",
    "            )\n",
    "            db.connection.commit()\n",
    "\n",
    "    def delete(self, transaction_id):\n",
    "        with Connector() as db:\n",
    "            query = \"DELETE FROM transaction_records WHERE id = %s\"\n",
    "            db.cursor.execute(query, (transaction_id,))\n",
    "            db.connection.commit()\n",
    "\n",
    "# cashflow_manager\n",
    "from connector import Connector\n",
    "\n",
    "class CashflowManager:\n",
    "    def create(\n",
    "            self, transaction_id, dw_date, deposit_amount, \n",
    "            withdrawal_amount, notes\n",
    "        ):\n",
    "        with Connector() as db:\n",
    "            query = \"\"\"\n",
    "                INSERT INTO cashflow_records \n",
    "                    (transaction_id, dw_date, deposit_amount, \n",
    "                    withdrawal_amount, notes) \n",
    "                VALUES (%s, %s, %s, %s, %s)\n",
    "            \"\"\"\n",
    "            db.cursor.execute(\n",
    "                query, \n",
    "                (transaction_id, dw_date, deposit_amount, \n",
    "                withdrawal_amount, notes)\n",
    "            )\n",
    "            db.connection.commit()\n",
    "            return db.cursor.lastrowid\n",
    "\n",
    "    def read_all(self):\n",
    "        with Connector() as db:\n",
    "            query = \"SELECT * FROM cashflow_records\"\n",
    "            db.cursor.execute(query)\n",
    "            return db.cursor.fetchall()\n",
    "\n",
    "    def read(self, cashflow_id):\n",
    "        with Connector() as db:\n",
    "            query = \"SELECT * FROM cashflow_records WHERE id = %s\"\n",
    "            db.cursor.execute(query, (cashflow_id,))\n",
    "            return db.cursor.fetchone()\n",
    "\n",
    "    def update(\n",
    "            self, cashflow_id, transaction_id, dw_date, \n",
    "            deposit_amount, withdrawal_amount, notes\n",
    "        ):\n",
    "        with Connector() as db:\n",
    "            query = \"\"\"\n",
    "                UPDATE cashflow_records \n",
    "                SET transaction_id = %s, dw_date = %s, \n",
    "                    deposit_amount = %s, withdrawal_amount = %s, \n",
    "                    notes = %s \n",
    "                WHERE id = %s\n",
    "            \"\"\"\n",
    "            db.cursor.execute(\n",
    "                query, \n",
    "                (transaction_id, dw_date, deposit_amount, \n",
    "                withdrawal_amount, notes, cashflow_id)\n",
    "            )\n",
    "            db.connection.commit()\n",
    "\n",
    "    def delete(self, cashflow_id):\n",
    "        with Connector() as db:\n",
    "            query = \"DELETE FROM cashflow_records WHERE id = %s\"\n",
    "            db.cursor.execute(query, (cashflow_id,))\n",
    "            db.connection.commit()\n"
   ]
  },
  {
   "cell_type": "markdown",
   "metadata": {},
   "source": [
    "## 2. CRUD 기능을 이용하여 데이터 입력 및 출력 하기\n",
    "### 2-1. 클래스 인스턴스 선언"
   ]
  },
  {
   "cell_type": "code",
   "execution_count": 3,
   "metadata": {},
   "outputs": [],
   "source": [
    "tm = TransactionManager()\n",
    "cm = CashflowManager()"
   ]
  },
  {
   "cell_type": "markdown",
   "metadata": {},
   "source": [
    "### 2-2. 샘플 데이터 생성"
   ]
  },
  {
   "cell_type": "code",
   "execution_count": 6,
   "metadata": {},
   "outputs": [
    {
     "data": {
      "text/plain": [
       "1"
      ]
     },
     "execution_count": 6,
     "metadata": {},
     "output_type": "execute_result"
    }
   ],
   "source": [
    "tm.create(\n",
    "    account_name = \"외상매출금\", \n",
    "    client_name = \"ABC전자\", \n",
    "    transaction_date = \"2024-01-10\", \n",
    "    amount_receivable = 1_000_000, \n",
    "    amount_payable = 0, \n",
    "    settlement_status = None, \n",
    "    notes = None\n",
    ")"
   ]
  },
  {
   "cell_type": "code",
   "execution_count": 9,
   "metadata": {},
   "outputs": [
    {
     "data": {
      "text/plain": [
       "[{'id': 1,\n",
       "  'account_name': '외상매출금',\n",
       "  'client_name': 'ABC전자',\n",
       "  'transaction_date': datetime.date(2024, 1, 10),\n",
       "  'amount_receivable': 1000000,\n",
       "  'amount_payable': 0,\n",
       "  'settlement_status': None,\n",
       "  'notes': None}]"
      ]
     },
     "execution_count": 9,
     "metadata": {},
     "output_type": "execute_result"
    }
   ],
   "source": [
    "tm.read_all()"
   ]
  },
  {
   "cell_type": "code",
   "execution_count": 10,
   "metadata": {},
   "outputs": [
    {
     "data": {
      "text/plain": [
       "2"
      ]
     },
     "execution_count": 10,
     "metadata": {},
     "output_type": "execute_result"
    }
   ],
   "source": [
    "tm.create(\n",
    "    account_name = \"외상매출금\", \n",
    "    client_name = \"AG상사\", \n",
    "    transaction_date = \"2024-01-10\", \n",
    "    amount_receivable = 2_000_000, \n",
    "    amount_payable = 0, \n",
    "    settlement_status = None, \n",
    "    notes = None\n",
    ")"
   ]
  },
  {
   "cell_type": "code",
   "execution_count": 11,
   "metadata": {},
   "outputs": [
    {
     "data": {
      "text/plain": [
       "[{'id': 1,\n",
       "  'account_name': '외상매출금',\n",
       "  'client_name': 'ABC전자',\n",
       "  'transaction_date': datetime.date(2024, 1, 10),\n",
       "  'amount_receivable': 1000000,\n",
       "  'amount_payable': 0,\n",
       "  'settlement_status': None,\n",
       "  'notes': None},\n",
       " {'id': 2,\n",
       "  'account_name': '외상매출금',\n",
       "  'client_name': 'AG상사',\n",
       "  'transaction_date': datetime.date(2024, 1, 10),\n",
       "  'amount_receivable': 2000000,\n",
       "  'amount_payable': 0,\n",
       "  'settlement_status': None,\n",
       "  'notes': None}]"
      ]
     },
     "execution_count": 11,
     "metadata": {},
     "output_type": "execute_result"
    }
   ],
   "source": [
    "tm.read_all()"
   ]
  },
  {
   "cell_type": "markdown",
   "metadata": {},
   "source": [
    "### 2-3. 데이터 조회 및 DataFrame으로 변환"
   ]
  },
  {
   "cell_type": "code",
   "execution_count": 16,
   "metadata": {},
   "outputs": [],
   "source": [
    "import pandas as pd\n",
    "tmdf = pd.DataFrame(tm.read_all())"
   ]
  },
  {
   "cell_type": "code",
   "execution_count": 5,
   "metadata": {},
   "outputs": [
    {
     "data": {
      "text/html": [
       "<div>\n",
       "<style scoped>\n",
       "    .dataframe tbody tr th:only-of-type {\n",
       "        vertical-align: middle;\n",
       "    }\n",
       "\n",
       "    .dataframe tbody tr th {\n",
       "        vertical-align: top;\n",
       "    }\n",
       "\n",
       "    .dataframe thead th {\n",
       "        text-align: right;\n",
       "    }\n",
       "</style>\n",
       "<table border=\"1\" class=\"dataframe\">\n",
       "  <thead>\n",
       "    <tr style=\"text-align: right;\">\n",
       "      <th></th>\n",
       "      <th>id</th>\n",
       "      <th>account_name</th>\n",
       "      <th>client_name</th>\n",
       "      <th>transaction_date</th>\n",
       "      <th>amount_receivable</th>\n",
       "      <th>amount_payable</th>\n",
       "      <th>settlement_status</th>\n",
       "      <th>notes</th>\n",
       "    </tr>\n",
       "  </thead>\n",
       "  <tbody>\n",
       "    <tr>\n",
       "      <th>0</th>\n",
       "      <td>1</td>\n",
       "      <td>외상매출금</td>\n",
       "      <td>ABC전자</td>\n",
       "      <td>2024-01-10</td>\n",
       "      <td>1000000</td>\n",
       "      <td>0</td>\n",
       "      <td>None</td>\n",
       "      <td>None</td>\n",
       "    </tr>\n",
       "    <tr>\n",
       "      <th>1</th>\n",
       "      <td>2</td>\n",
       "      <td>외상매출금</td>\n",
       "      <td>AG상사</td>\n",
       "      <td>2024-01-10</td>\n",
       "      <td>2000000</td>\n",
       "      <td>0</td>\n",
       "      <td>None</td>\n",
       "      <td>None</td>\n",
       "    </tr>\n",
       "  </tbody>\n",
       "</table>\n",
       "</div>"
      ],
      "text/plain": [
       "   id account_name client_name transaction_date  amount_receivable  \\\n",
       "0   1        외상매출금       ABC전자       2024-01-10            1000000   \n",
       "1   2        외상매출금        AG상사       2024-01-10            2000000   \n",
       "\n",
       "   amount_payable settlement_status notes  \n",
       "0               0              None  None  \n",
       "1               0              None  None  "
      ]
     },
     "execution_count": 5,
     "metadata": {},
     "output_type": "execute_result"
    }
   ],
   "source": [
    "tmdf"
   ]
  },
  {
   "cell_type": "markdown",
   "metadata": {},
   "source": [
    "### 2-4. Cashflow 데이터 입력"
   ]
  },
  {
   "cell_type": "code",
   "execution_count": 30,
   "metadata": {},
   "outputs": [
    {
     "data": {
      "text/plain": [
       "2"
      ]
     },
     "execution_count": 30,
     "metadata": {},
     "output_type": "execute_result"
    }
   ],
   "source": [
    "cm.create(\n",
    "    transaction_id = 1, \n",
    "    dw_date = \"2024-01-20\", \n",
    "    deposit_amount = 500_000, \n",
    "    withdrawal_amount = 0, \n",
    "    notes = None\n",
    ")\n",
    "cm.create(\n",
    "    transaction_id = 1, \n",
    "    dw_date = \"2024-01-30\", \n",
    "    deposit_amount = 500_000, \n",
    "    withdrawal_amount = 0, \n",
    "    notes = None\n",
    ")"
   ]
  },
  {
   "cell_type": "code",
   "execution_count": 6,
   "metadata": {},
   "outputs": [
    {
     "data": {
      "text/plain": [
       "[{'id': 1,\n",
       "  'transaction_id': 1,\n",
       "  'dw_date': datetime.date(2024, 1, 20),\n",
       "  'deposit_amount': 500000,\n",
       "  'withdrawal_amount': 0,\n",
       "  'notes': None},\n",
       " {'id': 2,\n",
       "  'transaction_id': 1,\n",
       "  'dw_date': datetime.date(2024, 1, 30),\n",
       "  'deposit_amount': 500000,\n",
       "  'withdrawal_amount': 0,\n",
       "  'notes': None},\n",
       " {'id': 3,\n",
       "  'transaction_id': 2,\n",
       "  'dw_date': datetime.date(2024, 1, 15),\n",
       "  'deposit_amount': 1000000,\n",
       "  'withdrawal_amount': 0,\n",
       "  'notes': None},\n",
       " {'id': 4,\n",
       "  'transaction_id': 2,\n",
       "  'dw_date': datetime.date(2024, 1, 25),\n",
       "  'deposit_amount': 500000,\n",
       "  'withdrawal_amount': 0,\n",
       "  'notes': None}]"
      ]
     },
     "execution_count": 6,
     "metadata": {},
     "output_type": "execute_result"
    }
   ],
   "source": [
    "cm.read_all()"
   ]
  },
  {
   "cell_type": "code",
   "execution_count": 7,
   "metadata": {},
   "outputs": [
    {
     "data": {
      "text/plain": [
       "6"
      ]
     },
     "execution_count": 7,
     "metadata": {},
     "output_type": "execute_result"
    }
   ],
   "source": [
    "cm.create(\n",
    "    transaction_id = 2, \n",
    "    dw_date = \"2024-01-15\", \n",
    "    deposit_amount = 1_000_000, \n",
    "    withdrawal_amount = 0, \n",
    "    notes = None\n",
    ")\n",
    "cm.create(\n",
    "    transaction_id = 2, \n",
    "    dw_date = \"2024-01-25\", \n",
    "    deposit_amount = 500_000, \n",
    "    withdrawal_amount = 0, \n",
    "    notes = None\n",
    ")"
   ]
  },
  {
   "cell_type": "code",
   "execution_count": 17,
   "metadata": {},
   "outputs": [],
   "source": [
    "cmdf = pd.DataFrame(cm.read_all())"
   ]
  },
  {
   "cell_type": "code",
   "execution_count": 18,
   "metadata": {},
   "outputs": [
    {
     "data": {
      "text/html": [
       "<div>\n",
       "<style scoped>\n",
       "    .dataframe tbody tr th:only-of-type {\n",
       "        vertical-align: middle;\n",
       "    }\n",
       "\n",
       "    .dataframe tbody tr th {\n",
       "        vertical-align: top;\n",
       "    }\n",
       "\n",
       "    .dataframe thead th {\n",
       "        text-align: right;\n",
       "    }\n",
       "</style>\n",
       "<table border=\"1\" class=\"dataframe\">\n",
       "  <thead>\n",
       "    <tr style=\"text-align: right;\">\n",
       "      <th></th>\n",
       "      <th>id</th>\n",
       "      <th>transaction_id</th>\n",
       "      <th>dw_date</th>\n",
       "      <th>deposit_amount</th>\n",
       "      <th>withdrawal_amount</th>\n",
       "      <th>notes</th>\n",
       "    </tr>\n",
       "  </thead>\n",
       "  <tbody>\n",
       "    <tr>\n",
       "      <th>0</th>\n",
       "      <td>1</td>\n",
       "      <td>1</td>\n",
       "      <td>2024-01-20</td>\n",
       "      <td>500000</td>\n",
       "      <td>0</td>\n",
       "      <td>None</td>\n",
       "    </tr>\n",
       "    <tr>\n",
       "      <th>1</th>\n",
       "      <td>2</td>\n",
       "      <td>1</td>\n",
       "      <td>2024-01-30</td>\n",
       "      <td>500000</td>\n",
       "      <td>0</td>\n",
       "      <td>None</td>\n",
       "    </tr>\n",
       "    <tr>\n",
       "      <th>2</th>\n",
       "      <td>3</td>\n",
       "      <td>2</td>\n",
       "      <td>2024-01-15</td>\n",
       "      <td>1000000</td>\n",
       "      <td>0</td>\n",
       "      <td>None</td>\n",
       "    </tr>\n",
       "    <tr>\n",
       "      <th>3</th>\n",
       "      <td>4</td>\n",
       "      <td>2</td>\n",
       "      <td>2024-01-25</td>\n",
       "      <td>500000</td>\n",
       "      <td>0</td>\n",
       "      <td>None</td>\n",
       "    </tr>\n",
       "  </tbody>\n",
       "</table>\n",
       "</div>"
      ],
      "text/plain": [
       "   id  transaction_id     dw_date  deposit_amount  withdrawal_amount notes\n",
       "0   1               1  2024-01-20          500000                  0  None\n",
       "1   2               1  2024-01-30          500000                  0  None\n",
       "2   3               2  2024-01-15         1000000                  0  None\n",
       "3   4               2  2024-01-25          500000                  0  None"
      ]
     },
     "execution_count": 18,
     "metadata": {},
     "output_type": "execute_result"
    }
   ],
   "source": [
    "cmdf"
   ]
  },
  {
   "cell_type": "markdown",
   "metadata": {},
   "source": [
    "### 2-5. pending_account 모듈 작성"
   ]
  },
  {
   "cell_type": "markdown",
   "metadata": {},
   "source": [
    "* pending_account.py 파일 생성\n",
    "* TranasctionManager 클래스와 CashflowManager 클래스 복사"
   ]
  },
  {
   "cell_type": "code",
   "execution_count": 22,
   "metadata": {},
   "outputs": [],
   "source": [
    "from pending_account import (\n",
    "    TransactionManager as TM, \n",
    "    CashflowManager as CM\n",
    ")\n",
    "\n",
    "tm = TM()\n",
    "cm = CM()"
   ]
  },
  {
   "cell_type": "code",
   "execution_count": 23,
   "metadata": {},
   "outputs": [
    {
     "data": {
      "text/plain": [
       "[{'id': 1,\n",
       "  'account_name': '외상매출금',\n",
       "  'client_name': 'ABC전자',\n",
       "  'transaction_date': datetime.date(2024, 1, 10),\n",
       "  'amount_receivable': 1000000,\n",
       "  'amount_payable': 0,\n",
       "  'settlement_status': None,\n",
       "  'notes': None},\n",
       " {'id': 2,\n",
       "  'account_name': '외상매출금',\n",
       "  'client_name': 'AG상사',\n",
       "  'transaction_date': datetime.date(2024, 1, 10),\n",
       "  'amount_receivable': 2000000,\n",
       "  'amount_payable': 0,\n",
       "  'settlement_status': None,\n",
       "  'notes': None}]"
      ]
     },
     "execution_count": 23,
     "metadata": {},
     "output_type": "execute_result"
    }
   ],
   "source": [
    "tm.read_all()"
   ]
  },
  {
   "cell_type": "code",
   "execution_count": 24,
   "metadata": {},
   "outputs": [
    {
     "data": {
      "text/plain": [
       "[{'id': 1,\n",
       "  'transaction_id': 1,\n",
       "  'dw_date': datetime.date(2024, 1, 20),\n",
       "  'deposit_amount': 500000,\n",
       "  'withdrawal_amount': 0,\n",
       "  'notes': None},\n",
       " {'id': 2,\n",
       "  'transaction_id': 1,\n",
       "  'dw_date': datetime.date(2024, 1, 30),\n",
       "  'deposit_amount': 500000,\n",
       "  'withdrawal_amount': 0,\n",
       "  'notes': None},\n",
       " {'id': 3,\n",
       "  'transaction_id': 2,\n",
       "  'dw_date': datetime.date(2024, 1, 15),\n",
       "  'deposit_amount': 1000000,\n",
       "  'withdrawal_amount': 0,\n",
       "  'notes': None},\n",
       " {'id': 4,\n",
       "  'transaction_id': 2,\n",
       "  'dw_date': datetime.date(2024, 1, 25),\n",
       "  'deposit_amount': 500000,\n",
       "  'withdrawal_amount': 0,\n",
       "  'notes': None}]"
      ]
     },
     "execution_count": 24,
     "metadata": {},
     "output_type": "execute_result"
    }
   ],
   "source": [
    "cm.read_all()"
   ]
  }
 ],
 "metadata": {
  "kernelspec": {
   "display_name": "fastcampus",
   "language": "python",
   "name": "python3"
  },
  "language_info": {
   "codemirror_mode": {
    "name": "ipython",
    "version": 3
   },
   "file_extension": ".py",
   "mimetype": "text/x-python",
   "name": "python",
   "nbconvert_exporter": "python",
   "pygments_lexer": "ipython3",
   "version": "3.11.7"
  }
 },
 "nbformat": 4,
 "nbformat_minor": 2
}
