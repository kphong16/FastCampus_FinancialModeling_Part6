{
 "cells": [
  {
   "cell_type": "markdown",
   "metadata": {},
   "source": [
    "# [ 2-2. 데이터베이스 테이블 생성 ]"
   ]
  },
  {
   "cell_type": "markdown",
   "metadata": {},
   "source": [
    "## 1. DB 스키마 작성\n",
    "* transaction_records 테이블 : 거래 건별로 거래내역을 기록하기 위한 테이블\n",
    "* cashflow_records 테이블 : 각 거래건에 대하여 실제 유입 또는 유출된 현금의 내역을 기록하기 위한 테이블\n",
    "![DB 스키마](image/CH02-02-01.png)"
   ]
  },
  {
   "cell_type": "markdown",
   "metadata": {},
   "source": [
    "## 2. 데이터베이스 및 테이블 생성 쿼리문 작성\n",
    "### 2-1. 프롬프트 작성\n",
    "![프롬프트](image/CH02-02-02.png)"
   ]
  },
  {
   "cell_type": "markdown",
   "metadata": {},
   "source": [
    "### 2-2. ChatGPT 작성 쿼리문 확인\n",
    "![ChatGPT 작성 쿼리문](image/CH02-02-03.png)\n",
    "![ChatGPT 작성 쿼리문](image/CH02-02-04.png)"
   ]
  },
  {
   "cell_type": "markdown",
   "metadata": {},
   "source": [
    "**[ChatGPT 작성 쿼리문 내용]**\n",
    "```\n",
    "-- 데이터베이스 생성\n",
    "CREATE DATABASE pending_account;\n",
    "\n",
    "-- 데이터베이스 사용\n",
    "USE pending_account;\n",
    "\n",
    "-- transaction_records 테이블 생성\n",
    "CREATE TABLE transaction_records (\n",
    "    id BIGINT UNSIGNED NOT NULL AUTO_INCREMENT PRIMARY KEY,\n",
    "    account_name CHAR(20) NOT NULL,\n",
    "    client_name CHAR(20) NOT NULL,\n",
    "    transaction_date DATE NOT NULL,\n",
    "    amount_receivable BIGINT UNSIGNED NOT NULL DEFAULT 0,\n",
    "    amount_payable BIGINT UNSIGNED NOT NULL DEFAULT 0,\n",
    "    settlement_status CHAR(20) NULL DEFAULT NULL,\n",
    "    notes VARCHAR(255) NULL DEFAULT NULL\n",
    ");\n",
    "\n",
    "-- cashflow_records 테이블 생성\n",
    "CREATE TABLE cashflow_records (\n",
    "    id BIGINT UNSIGNED NOT NULL AUTO_INCREMENT PRIMARY KEY,\n",
    "    transaction_id BIGINT UNSIGNED NOT NULL,\n",
    "    dw_date DATE NOT NULL,\n",
    "    deposit_amount BIGINT UNSIGNED NOT NULL DEFAULT 0,\n",
    "    withdrawal_amount BIGINT UNSIGNED NOT NULL DEFAULT 0,\n",
    "    notes VARCHAR(255) NULL DEFAULT NULL,\n",
    "    FOREIGN KEY (transaction_id) REFERENCES transaction_records(id)\n",
    ");\n",
    "```"
   ]
  },
  {
   "cell_type": "markdown",
   "metadata": {},
   "source": [
    "### 2-3. 워크벤치에서 쿼리문 실행\n",
    "![워크벤치에서 실행](image/CH02-02-05.png)"
   ]
  },
  {
   "cell_type": "markdown",
   "metadata": {},
   "source": []
  }
 ],
 "metadata": {
  "language_info": {
   "name": "python"
  }
 },
 "nbformat": 4,
 "nbformat_minor": 2
}
