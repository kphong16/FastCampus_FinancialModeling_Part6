{
 "cells": [
  {
   "cell_type": "markdown",
   "metadata": {},
   "source": [
    "# [ 1-2. 데이터베이스 매출 테이블 생성 ]"
   ]
  },
  {
   "cell_type": "markdown",
   "metadata": {},
   "source": [
    "## 1. DB 스키마 작성\n",
    "### 1-1. 데이터 구조 파악하기\n",
    "**[daily_sales_raw 데이터 구조]**\n",
    "![daily_sales_raw 데이터 구조1](image/CH01-01-01.png)\n",
    "\n",
    "**[original price 데이터 구조]**\n",
    "![daily_sales_raw 데이터 구조2](image/CH01-01-02.png)"
   ]
  },
  {
   "cell_type": "markdown",
   "metadata": {},
   "source": [
    "### 1-2. DB 스키마 작성하기"
   ]
  },
  {
   "cell_type": "markdown",
   "metadata": {},
   "source": [
    "**[DB 스키마]**\n",
    "![daily_sales_raw 데이터 구조2](image/CH01-02-01.png)"
   ]
  },
  {
   "cell_type": "markdown",
   "metadata": {},
   "source": [
    "## 2. 데이터베이스 및 테이블 생성 쿼리문 작성\n",
    "\n",
    "### 2-1. ChatGPT를 이용하여 데이터베이스 및 테이블 생성 쿼리문 작성\n",
    "\n",
    "* 아래와 같이 프롬프트 작성 후 엑셀에 작성한 스키마 내용을 붙여 넣어서 요청.\n",
    "\n",
    "### ![daily_sales_raw 데이터 구조5](image/CH01-02-02.png)"
   ]
  },
  {
   "cell_type": "markdown",
   "metadata": {},
   "source": [
    "* 아래와 같이 ChatGPT에서 작성된 쿼리문 내용 확인\n",
    "\n",
    "### ![daily_sales_raw 데이터 구조6](image/CH01-02-03.png)\n",
    "### ![daily_sales_raw 데이터 구조7](image/CH01-02-04.png)"
   ]
  },
  {
   "cell_type": "markdown",
   "metadata": {},
   "source": [
    "* 최종 작성된 쿼리문\n",
    "\n",
    "```\n",
    "-- 데이터베이스 생성\n",
    "CREATE DATABASE IF NOT EXISTS daily_sales;\n",
    "USE daily_sales;\n",
    "\n",
    "-- 테이블 daily_sales_raw 생성\n",
    "CREATE TABLE IF NOT EXISTS daily_sales_raw (\n",
    "    id BIGINT UNSIGNED NOT NULL AUTO_INCREMENT,\n",
    "    payment_date DATE NOT NULL,\n",
    "    stay_days TINYINT UNSIGNED NOT NULL,\n",
    "    checkin_date DATE NOT NULL,\n",
    "    checkout_date DATE NOT NULL,\n",
    "    original_price BIGINT UNSIGNED NOT NULL,\n",
    "    payment_amount BIGINT UNSIGNED NOT NULL,\n",
    "    PRIMARY KEY (id)\n",
    ");\n",
    "\n",
    "-- 테이블 original_price 생성\n",
    "CREATE TABLE IF NOT EXISTS original_price (\n",
    "    date DATE NOT NULL,\n",
    "    weekday TINYINT UNSIGNED NOT NULL,\n",
    "    original_price BIGINT UNSIGNED NOT NULL,\n",
    "    PRIMARY KEY (date)\n",
    ");\n",
    "```"
   ]
  },
  {
   "cell_type": "markdown",
   "metadata": {},
   "source": [
    "## 3. 워크벤치에서 쿼리문 실행"
   ]
  },
  {
   "cell_type": "markdown",
   "metadata": {},
   "source": [
    "### ![daily_sales_raw 데이터 구조8](image/CH01-02-05.png)"
   ]
  },
  {
   "cell_type": "markdown",
   "metadata": {},
   "source": []
  }
 ],
 "metadata": {
  "language_info": {
   "name": "python"
  }
 },
 "nbformat": 4,
 "nbformat_minor": 2
}
