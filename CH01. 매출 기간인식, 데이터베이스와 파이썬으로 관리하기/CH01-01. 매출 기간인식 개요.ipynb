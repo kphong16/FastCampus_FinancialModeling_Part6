{
 "cells": [
  {
   "cell_type": "markdown",
   "metadata": {},
   "source": [
    "# [ 1-1. 매출 기간인식 개요 ]"
   ]
  },
  {
   "cell_type": "markdown",
   "metadata": {},
   "source": [
    "## 1. 분석 대상 데이터 소개\n",
    "\n",
    "* daily_sales_raw sheet : \n",
    "\n",
    "    - 매일 매일의 결제 데이터(5개월)\n",
    "\n",
    "    - 결제일, 숙박일수, 체크인 날짜, 체크아웃 날짜, 판매정가, 실제 결제 금액\n",
    "\n",
    "* original_price sheet :\n",
    "\n",
    "    - 날짜별로 판매 정가 명시\n",
    "    \n",
    "    - 날짜, 요일번호, 판매정가\n",
    "\n",
    "**[daily_sales_raw sheet]**\n",
    "![sales_raw_data 예시](./image/CH01-01-01.png)\n",
    "\n",
    "**[original_price sheet]**\n",
    "![sales_raw_data 예시](./image/CH01-01-02.png)"
   ]
  },
  {
   "cell_type": "markdown",
   "metadata": {},
   "source": [
    "## 2. 분석 방향 설명\n",
    "\n",
    "### 2-1. 분석 목적\n",
    "* 날짜별로 구분하여 일자별 매출액 계산\n",
    "\n",
    "* 수익과 비용의 대응 분석, 마케팅 효과 분석 등의 목적\n",
    "\n",
    "### 2-2. 분석 방법\n",
    "* 결제금액을 각 숙박일자별로 배분하되,\n",
    "\n",
    "* 날짜별로 배분시 판매정가의 비율을 적용하여 배분\n",
    "\n",
    "* 구체적인 일자별 매출액 계산 설명\n",
    "\n",
    "    - 숙박기간에 대하여 아래와 같이 계산\n",
    "\n",
    "    - 해당일 판매정가 / 숙박기간 판매정가 합계 x 결제금액\n",
    "\n",
    "    - 마지막 숙박일에는 결제금액에서 기 계산된 매출액을 빼는 방식으로 계산\n",
    "      (원단위 매칭)\n",
    "\n",
    "**[분석 예시]**\n",
    "![sales_raw_data 분석예시](./image/CH01-01-03.png)"
   ]
  },
  {
   "cell_type": "markdown",
   "metadata": {},
   "source": [
    "## 3. 강의 설명\n",
    "\n",
    "### 3-1. 주요 강의 포인트\n",
    "* 분석 대상이 되는 데이터를 데이터베이스에 저장하고, 로딩할 수 있다.\n",
    "\n",
    "* 로딩된 데이터를 파이썬, 판다스 등을 이용하여 분석할 수 있다.\n",
    "\n",
    "\n",
    "### 3-2. 강의 진행 순서\n",
    "\n",
    "1. 데이터 개요 및 분석 방법 설명\n",
    "\n",
    "2. 데이터베이스 매출 테이블 생성 및 raw data를 INSERT\n",
    "\n",
    "3. 데이터베이스로부터 데이터를 가져오는 파이썬 코딩\n",
    "\n",
    "4. 데이터 분석 코딩 작성"
   ]
  },
  {
   "cell_type": "markdown",
   "metadata": {},
   "source": []
  }
 ],
 "metadata": {
  "language_info": {
   "name": "python"
  }
 },
 "nbformat": 4,
 "nbformat_minor": 2
}
