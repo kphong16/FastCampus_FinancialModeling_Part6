{
 "cells": [
  {
   "cell_type": "markdown",
   "metadata": {},
   "source": [
    "# [ 1-3. 데이터 입출력 및 기간인식 코딩 ]\n",
    "\n",
    "## 1. 데이터베이스 연결 모듈 작성\n",
    "\n",
    "### 1-1. ChatGPT 질의"
   ]
  },
  {
   "cell_type": "markdown",
   "metadata": {},
   "source": [
    "#### 1-1-1. 프롬프트 작성\n",
    "![daily_sales_raw 데이터 구조9](image/CH01-03-01.png)"
   ]
  },
  {
   "cell_type": "markdown",
   "metadata": {},
   "source": [
    "#### 1-1-2. 작성 내용 확인"
   ]
  },
  {
   "cell_type": "markdown",
   "metadata": {},
   "source": [
    "![daily_sales_raw 데이터 구조10](image/CH01-03-02.png)\n",
    "![daily_sales_raw 데이터 구조11](image/CH01-03-03.png)\n",
    "![daily_sales_raw 데이터 구조12](image/CH01-03-04.png)"
   ]
  },
  {
   "cell_type": "markdown",
   "metadata": {},
   "source": [
    "### 1-2. 상황에 맞게 파이썬 파일 작성\n",
    "\n",
    "``` connector.py\n",
    "# connecor.py\n",
    "\n",
    "import mysql.connector\n",
    "\n",
    "class Connector:\n",
    "    def __enter__(self):\n",
    "        self.connection = mysql.connector.connect(\n",
    "            host=\"localhost\",\n",
    "            user=\"root\",\n",
    "            port=\"3306\",\n",
    "            password=\"fastcampus1!\",\n",
    "            database=\"daily_sales\"\n",
    "        )\n",
    "        self.cursor = self.connection.cursor(dictionary=True)\n",
    "        return self\n",
    "\n",
    "    def __exit__(self, exc_type, exc_val, exc_tb):\n",
    "        self.cursor.close()\n",
    "        self.connection.close()\n",
    "```"
   ]
  },
  {
   "cell_type": "markdown",
   "metadata": {},
   "source": [
    "## 2. raw data 데이터베이스에 입력"
   ]
  },
  {
   "cell_type": "markdown",
   "metadata": {},
   "source": [
    "### 2-1. 엑셀파일에서 raw data 읽어오기"
   ]
  },
  {
   "cell_type": "markdown",
   "metadata": {},
   "source": [
    "![daily_sales_raw 데이터 구조13](image/CH01-03-05.png)"
   ]
  },
  {
   "cell_type": "code",
   "execution_count": 1,
   "metadata": {},
   "outputs": [],
   "source": [
    "import pandas as pd\n",
    "\n",
    "file_path = 'daily_sales_raw_data.xlsx'\n",
    "\n",
    "daily_sales_raw_df = pd.read_excel(file_path, sheet_name='daily_sales_raw')\n",
    "original_price_df = pd.read_excel(file_path, sheet_name='original_price')"
   ]
  },
  {
   "cell_type": "code",
   "execution_count": 3,
   "metadata": {},
   "outputs": [
    {
     "data": {
      "text/html": [
       "<div>\n",
       "<style scoped>\n",
       "    .dataframe tbody tr th:only-of-type {\n",
       "        vertical-align: middle;\n",
       "    }\n",
       "\n",
       "    .dataframe tbody tr th {\n",
       "        vertical-align: top;\n",
       "    }\n",
       "\n",
       "    .dataframe thead th {\n",
       "        text-align: right;\n",
       "    }\n",
       "</style>\n",
       "<table border=\"1\" class=\"dataframe\">\n",
       "  <thead>\n",
       "    <tr style=\"text-align: right;\">\n",
       "      <th></th>\n",
       "      <th>no</th>\n",
       "      <th>payment_date</th>\n",
       "      <th>stay_days</th>\n",
       "      <th>checkin_date</th>\n",
       "      <th>checkout_date</th>\n",
       "      <th>original_price</th>\n",
       "      <th>payment_amount</th>\n",
       "    </tr>\n",
       "  </thead>\n",
       "  <tbody>\n",
       "    <tr>\n",
       "      <th>0</th>\n",
       "      <td>0</td>\n",
       "      <td>2024-01-03</td>\n",
       "      <td>1</td>\n",
       "      <td>2024-01-13</td>\n",
       "      <td>2024-01-14</td>\n",
       "      <td>700000</td>\n",
       "      <td>770000</td>\n",
       "    </tr>\n",
       "    <tr>\n",
       "      <th>1</th>\n",
       "      <td>1</td>\n",
       "      <td>2024-01-03</td>\n",
       "      <td>2</td>\n",
       "      <td>2024-01-10</td>\n",
       "      <td>2024-01-12</td>\n",
       "      <td>1000000</td>\n",
       "      <td>980000</td>\n",
       "    </tr>\n",
       "    <tr>\n",
       "      <th>2</th>\n",
       "      <td>2</td>\n",
       "      <td>2024-01-03</td>\n",
       "      <td>1</td>\n",
       "      <td>2024-01-03</td>\n",
       "      <td>2024-01-04</td>\n",
       "      <td>500000</td>\n",
       "      <td>540000</td>\n",
       "    </tr>\n",
       "    <tr>\n",
       "      <th>3</th>\n",
       "      <td>3</td>\n",
       "      <td>2024-01-03</td>\n",
       "      <td>5</td>\n",
       "      <td>2024-01-07</td>\n",
       "      <td>2024-01-12</td>\n",
       "      <td>2700000</td>\n",
       "      <td>2280000</td>\n",
       "    </tr>\n",
       "    <tr>\n",
       "      <th>4</th>\n",
       "      <td>4</td>\n",
       "      <td>2024-01-03</td>\n",
       "      <td>4</td>\n",
       "      <td>2024-01-09</td>\n",
       "      <td>2024-01-13</td>\n",
       "      <td>2200000</td>\n",
       "      <td>2210000</td>\n",
       "    </tr>\n",
       "    <tr>\n",
       "      <th>...</th>\n",
       "      <td>...</td>\n",
       "      <td>...</td>\n",
       "      <td>...</td>\n",
       "      <td>...</td>\n",
       "      <td>...</td>\n",
       "      <td>...</td>\n",
       "      <td>...</td>\n",
       "    </tr>\n",
       "    <tr>\n",
       "      <th>2227</th>\n",
       "      <td>2227</td>\n",
       "      <td>2024-05-30</td>\n",
       "      <td>1</td>\n",
       "      <td>2024-05-31</td>\n",
       "      <td>2024-06-01</td>\n",
       "      <td>700000</td>\n",
       "      <td>730000</td>\n",
       "    </tr>\n",
       "    <tr>\n",
       "      <th>2228</th>\n",
       "      <td>2228</td>\n",
       "      <td>2024-05-30</td>\n",
       "      <td>6</td>\n",
       "      <td>2024-06-01</td>\n",
       "      <td>2024-06-07</td>\n",
       "      <td>3400000</td>\n",
       "      <td>3010000</td>\n",
       "    </tr>\n",
       "    <tr>\n",
       "      <th>2229</th>\n",
       "      <td>2229</td>\n",
       "      <td>2024-05-30</td>\n",
       "      <td>2</td>\n",
       "      <td>2024-06-01</td>\n",
       "      <td>2024-06-03</td>\n",
       "      <td>1400000</td>\n",
       "      <td>1490000</td>\n",
       "    </tr>\n",
       "    <tr>\n",
       "      <th>2230</th>\n",
       "      <td>2230</td>\n",
       "      <td>2024-05-30</td>\n",
       "      <td>6</td>\n",
       "      <td>2024-06-03</td>\n",
       "      <td>2024-06-09</td>\n",
       "      <td>3400000</td>\n",
       "      <td>3110000</td>\n",
       "    </tr>\n",
       "    <tr>\n",
       "      <th>2231</th>\n",
       "      <td>2231</td>\n",
       "      <td>2024-05-30</td>\n",
       "      <td>1</td>\n",
       "      <td>2024-06-08</td>\n",
       "      <td>2024-06-09</td>\n",
       "      <td>700000</td>\n",
       "      <td>750000</td>\n",
       "    </tr>\n",
       "  </tbody>\n",
       "</table>\n",
       "<p>2232 rows × 7 columns</p>\n",
       "</div>"
      ],
      "text/plain": [
       "        no payment_date  stay_days checkin_date checkout_date  original_price  \\\n",
       "0        0   2024-01-03          1   2024-01-13    2024-01-14          700000   \n",
       "1        1   2024-01-03          2   2024-01-10    2024-01-12         1000000   \n",
       "2        2   2024-01-03          1   2024-01-03    2024-01-04          500000   \n",
       "3        3   2024-01-03          5   2024-01-07    2024-01-12         2700000   \n",
       "4        4   2024-01-03          4   2024-01-09    2024-01-13         2200000   \n",
       "...    ...          ...        ...          ...           ...             ...   \n",
       "2227  2227   2024-05-30          1   2024-05-31    2024-06-01          700000   \n",
       "2228  2228   2024-05-30          6   2024-06-01    2024-06-07         3400000   \n",
       "2229  2229   2024-05-30          2   2024-06-01    2024-06-03         1400000   \n",
       "2230  2230   2024-05-30          6   2024-06-03    2024-06-09         3400000   \n",
       "2231  2231   2024-05-30          1   2024-06-08    2024-06-09          700000   \n",
       "\n",
       "      payment_amount  \n",
       "0             770000  \n",
       "1             980000  \n",
       "2             540000  \n",
       "3            2280000  \n",
       "4            2210000  \n",
       "...              ...  \n",
       "2227          730000  \n",
       "2228         3010000  \n",
       "2229         1490000  \n",
       "2230         3110000  \n",
       "2231          750000  \n",
       "\n",
       "[2232 rows x 7 columns]"
      ]
     },
     "execution_count": 3,
     "metadata": {},
     "output_type": "execute_result"
    }
   ],
   "source": [
    "daily_sales_raw_df"
   ]
  },
  {
   "cell_type": "code",
   "execution_count": 4,
   "metadata": {},
   "outputs": [
    {
     "data": {
      "text/html": [
       "<div>\n",
       "<style scoped>\n",
       "    .dataframe tbody tr th:only-of-type {\n",
       "        vertical-align: middle;\n",
       "    }\n",
       "\n",
       "    .dataframe tbody tr th {\n",
       "        vertical-align: top;\n",
       "    }\n",
       "\n",
       "    .dataframe thead th {\n",
       "        text-align: right;\n",
       "    }\n",
       "</style>\n",
       "<table border=\"1\" class=\"dataframe\">\n",
       "  <thead>\n",
       "    <tr style=\"text-align: right;\">\n",
       "      <th></th>\n",
       "      <th>date</th>\n",
       "      <th>weekday</th>\n",
       "      <th>original_price</th>\n",
       "    </tr>\n",
       "  </thead>\n",
       "  <tbody>\n",
       "    <tr>\n",
       "      <th>0</th>\n",
       "      <td>2024-01-01</td>\n",
       "      <td>1</td>\n",
       "      <td>500000</td>\n",
       "    </tr>\n",
       "    <tr>\n",
       "      <th>1</th>\n",
       "      <td>2024-01-02</td>\n",
       "      <td>2</td>\n",
       "      <td>500000</td>\n",
       "    </tr>\n",
       "    <tr>\n",
       "      <th>2</th>\n",
       "      <td>2024-01-03</td>\n",
       "      <td>3</td>\n",
       "      <td>500000</td>\n",
       "    </tr>\n",
       "    <tr>\n",
       "      <th>3</th>\n",
       "      <td>2024-01-04</td>\n",
       "      <td>4</td>\n",
       "      <td>500000</td>\n",
       "    </tr>\n",
       "    <tr>\n",
       "      <th>4</th>\n",
       "      <td>2024-01-05</td>\n",
       "      <td>5</td>\n",
       "      <td>700000</td>\n",
       "    </tr>\n",
       "    <tr>\n",
       "      <th>...</th>\n",
       "      <td>...</td>\n",
       "      <td>...</td>\n",
       "      <td>...</td>\n",
       "    </tr>\n",
       "    <tr>\n",
       "      <th>177</th>\n",
       "      <td>2024-06-26</td>\n",
       "      <td>3</td>\n",
       "      <td>500000</td>\n",
       "    </tr>\n",
       "    <tr>\n",
       "      <th>178</th>\n",
       "      <td>2024-06-27</td>\n",
       "      <td>4</td>\n",
       "      <td>500000</td>\n",
       "    </tr>\n",
       "    <tr>\n",
       "      <th>179</th>\n",
       "      <td>2024-06-28</td>\n",
       "      <td>5</td>\n",
       "      <td>700000</td>\n",
       "    </tr>\n",
       "    <tr>\n",
       "      <th>180</th>\n",
       "      <td>2024-06-29</td>\n",
       "      <td>6</td>\n",
       "      <td>700000</td>\n",
       "    </tr>\n",
       "    <tr>\n",
       "      <th>181</th>\n",
       "      <td>2024-06-30</td>\n",
       "      <td>7</td>\n",
       "      <td>700000</td>\n",
       "    </tr>\n",
       "  </tbody>\n",
       "</table>\n",
       "<p>182 rows × 3 columns</p>\n",
       "</div>"
      ],
      "text/plain": [
       "          date  weekday  original_price\n",
       "0   2024-01-01        1          500000\n",
       "1   2024-01-02        2          500000\n",
       "2   2024-01-03        3          500000\n",
       "3   2024-01-04        4          500000\n",
       "4   2024-01-05        5          700000\n",
       "..         ...      ...             ...\n",
       "177 2024-06-26        3          500000\n",
       "178 2024-06-27        4          500000\n",
       "179 2024-06-28        5          700000\n",
       "180 2024-06-29        6          700000\n",
       "181 2024-06-30        7          700000\n",
       "\n",
       "[182 rows x 3 columns]"
      ]
     },
     "execution_count": 4,
     "metadata": {},
     "output_type": "execute_result"
    }
   ],
   "source": [
    "original_price_df"
   ]
  },
  {
   "cell_type": "markdown",
   "metadata": {},
   "source": [
    "### 2-2. 읽어온 데이터, 데이터베이스에 INSERT\n",
    "\n",
    "#### 2-2-1. 프롬프트 작성\n",
    "![daily_sales_raw 데이터 구조14](image/CH01-03-06.png)"
   ]
  },
  {
   "cell_type": "markdown",
   "metadata": {},
   "source": [
    "#### 2-2-2. ChatGPT 답변 1\n",
    "![daily_sales_raw 데이터 구조15](image/CH01-03-07.png)"
   ]
  },
  {
   "cell_type": "markdown",
   "metadata": {},
   "source": [
    "#### 2-2-3. ChatGPT 답변 2\n",
    "![daily_sales_raw 데이터 구조16](image/CH01-03-08.png)\n",
    "![daily_sales_raw 데이터 구조17](image/CH01-03-09.png)"
   ]
  },
  {
   "cell_type": "markdown",
   "metadata": {},
   "source": [
    "#### 2-2-4. 코드 실행"
   ]
  },
  {
   "cell_type": "code",
   "execution_count": 6,
   "metadata": {},
   "outputs": [
    {
     "name": "stdout",
     "output_type": "stream",
     "text": [
      "Data has been inserted successfully\n"
     ]
    }
   ],
   "source": [
    "import pandas as pd\n",
    "from connector2 import Connector\n",
    "\n",
    "# 엑셀 파일 경로\n",
    "file_path = 'daily_sales_raw_data.xlsx'\n",
    "\n",
    "# 각 시트를 읽어서 DataFrame으로 저장\n",
    "daily_sales_raw_df = pd.read_excel(file_path, sheet_name='daily_sales_raw')\n",
    "original_price_df = pd.read_excel(file_path, sheet_name='original_price')\n",
    "\n",
    "# daily_sales_raw 테이블에 데이터 삽입\n",
    "daily_sales_raw_query = \"\"\"\n",
    "INSERT INTO daily_sales_raw (\n",
    "    payment_date, stay_days, checkin_date, checkout_date, \n",
    "    original_price, payment_amount\n",
    ") VALUES (%s, %s, %s, %s, %s, %s)\n",
    "\"\"\"\n",
    "\n",
    "daily_sales_raw_data = daily_sales_raw_df[\n",
    "        ['payment_date', 'stay_days', 'checkin_date', \n",
    "         'checkout_date', 'original_price', 'payment_amount']\n",
    "    ].values.tolist()\n",
    "\n",
    "# original_price 테이블에 데이터 삽입\n",
    "original_price_query = \"\"\"\n",
    "INSERT INTO original_price (\n",
    "    date, weekday, original_price\n",
    ") VALUES (%s, %s, %s)\n",
    "\"\"\"\n",
    "\n",
    "original_price_data = original_price_df[\n",
    "        ['date', 'weekday', 'original_price']\n",
    "    ].values.tolist()\n",
    "\n",
    "# 데이터베이스에 삽입\n",
    "with Connector() as db:\n",
    "    db.insert_data(daily_sales_raw_query, daily_sales_raw_data)\n",
    "    db.insert_data(original_price_query, original_price_data)\n",
    "\n",
    "print(\"Data has been inserted successfully\")\n"
   ]
  },
  {
   "cell_type": "markdown",
   "metadata": {},
   "source": [
    "#### 2-2-5. 워크벤치에서 INSERT 된 데이터 확인\n",
    "**[daily_sales_raw 테이블]**\n",
    "![daily_sales_raw 데이터 구조18](image/CH01-03-10.png)"
   ]
  },
  {
   "cell_type": "markdown",
   "metadata": {},
   "source": [
    "**[original_price 테이블]**\n",
    "![daily_sales_raw 데이터 구조19](image/CH01-03-11.png)"
   ]
  },
  {
   "cell_type": "markdown",
   "metadata": {},
   "source": []
  }
 ],
 "metadata": {
  "kernelspec": {
   "display_name": "fastcampus",
   "language": "python",
   "name": "python3"
  },
  "language_info": {
   "codemirror_mode": {
    "name": "ipython",
    "version": 3
   },
   "file_extension": ".py",
   "mimetype": "text/x-python",
   "name": "python",
   "nbconvert_exporter": "python",
   "pygments_lexer": "ipython3",
   "version": "3.11.7"
  }
 },
 "nbformat": 4,
 "nbformat_minor": 2
}
