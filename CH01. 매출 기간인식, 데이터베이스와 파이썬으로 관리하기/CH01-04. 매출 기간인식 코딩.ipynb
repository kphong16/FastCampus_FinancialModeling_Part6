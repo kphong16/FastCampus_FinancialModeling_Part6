{
 "cells": [
  {
   "cell_type": "markdown",
   "metadata": {},
   "source": [
    "# [ 1-4. 매출 기간인식 코딩 ]\n",
    "\n",
    "## 1. 데이터베이스에서 데이터 읽어오기"
   ]
  },
  {
   "cell_type": "markdown",
   "metadata": {},
   "source": [
    "### 1-1. 프롬프트 작성"
   ]
  },
  {
   "cell_type": "markdown",
   "metadata": {},
   "source": [
    "![프롬프트 작성](image/CH01-04-01.png)"
   ]
  },
  {
   "cell_type": "markdown",
   "metadata": {},
   "source": [
    "### 1-2. ChatGPT 답변1\n",
    "![ChatGPT 답변1](image/CH01-04-02.png)\n",
    "![ChatGPT 답변1](image/CH01-04-03.png)"
   ]
  },
  {
   "cell_type": "markdown",
   "metadata": {},
   "source": [
    "#### ChatGPT 답변 내용을 connector2.py 파일에 반영\n",
    "```\n",
    "# connector3.py\n",
    "import mysql.connector\n",
    "import pandas as pd\n",
    "\n",
    "class Connector:\n",
    "    def __enter__(self):\n",
    "        self.connection = mysql.connector.connect(\n",
    "            host=\"localhost\",\n",
    "            user=\"root\",\n",
    "            port=\"3306\",\n",
    "            password=\"fastcampus1!\",\n",
    "            database=\"daily_sales\"\n",
    "        )\n",
    "        self.cursor = self.connection.cursor(dictionary=True)\n",
    "        return self\n",
    "\n",
    "    def __exit__(self, exc_type, exc_val, exc_tb):\n",
    "        self.cursor.close()\n",
    "        self.connection.close()\n",
    "\n",
    "    def insert_data(self, query, data):\n",
    "        self.cursor.executemany(query, data)\n",
    "        self.connection.commit()\n",
    "\n",
    "    def fetch_data(self, query):\n",
    "        self.cursor.execute(query)\n",
    "        result = self.cursor.fetchall()\n",
    "        return pd.DataFrame(result)\n",
    "```"
   ]
  },
  {
   "cell_type": "markdown",
   "metadata": {},
   "source": [
    "### 1-3. ChatGPT 답변2\n",
    "![ChatGPT 답변2](image/CH01-04-04.png)"
   ]
  },
  {
   "cell_type": "markdown",
   "metadata": {},
   "source": [
    "#### 코드 실행하기"
   ]
  },
  {
   "cell_type": "code",
   "execution_count": 7,
   "metadata": {},
   "outputs": [
    {
     "name": "stdout",
     "output_type": "stream",
     "text": [
      "daily_sales_raw DataFrame:\n",
      "   id payment_date  stay_days checkin_date checkout_date  original_price  payment_amount\n",
      "0   1   2024-01-03          1   2024-01-13    2024-01-14          700000          770000\n",
      "1   2   2024-01-03          2   2024-01-10    2024-01-12         1000000          980000\n",
      "2   3   2024-01-03          1   2024-01-03    2024-01-04          500000          540000\n",
      "3   4   2024-01-03          5   2024-01-07    2024-01-12         2700000         2280000\n",
      "4   5   2024-01-03          4   2024-01-09    2024-01-13         2200000         2210000\n",
      "\n",
      "original_price DataFrame:\n",
      "         date  weekday  original_price\n",
      "0  2024-01-01        1          500000\n",
      "1  2024-01-02        2          500000\n",
      "2  2024-01-03        3          500000\n",
      "3  2024-01-04        4          500000\n",
      "4  2024-01-05        5          700000\n"
     ]
    }
   ],
   "source": [
    "from connector3 import Connector\n",
    "\n",
    "# daily_sales_raw 테이블의 모든 데이터를 가져오는 쿼리\n",
    "daily_sales_raw_query = \"SELECT * FROM daily_sales_raw\"\n",
    "# original_price 테이블의 모든 데이터를 가져오는 쿼리\n",
    "original_price_query = \"SELECT * FROM original_price\"\n",
    "\n",
    "# 데이터베이스에서 데이터를 DataFrame으로 가져오기\n",
    "with Connector() as db:\n",
    "    daily_sales_raw_df = db.fetch_data(daily_sales_raw_query)\n",
    "    original_price_df = db.fetch_data(original_price_query)\n",
    "\n",
    "# 가져온 DataFrame 출력 (확인용)\n",
    "print(\"daily_sales_raw DataFrame:\")\n",
    "print(daily_sales_raw_df.head())\n",
    "\n",
    "print(\"\\noriginal_price DataFrame:\")\n",
    "print(original_price_df.head())\n"
   ]
  },
  {
   "cell_type": "markdown",
   "metadata": {},
   "source": [
    "## 2. 매출 기간인식 계산\n",
    "### 2-1. 주요 라이브러리 Import 및 설정"
   ]
  },
  {
   "cell_type": "code",
   "execution_count": 14,
   "metadata": {},
   "outputs": [],
   "source": [
    "import pandas as pd\n",
    "\n",
    "# DataFrame 출력 옵션 설정\n",
    "pd.set_option('display.max_rows', 500)\n",
    "pd.set_option('display.min_rows', 50)\n",
    "pd.set_option('display.max_columns', 100)\n",
    "pd.set_option('display.max_colwidth', 100)\n",
    "pd.set_option('display.width', 300)"
   ]
  },
  {
   "cell_type": "markdown",
   "metadata": {},
   "source": [
    "### 2-2. 매출인식 코드 작성"
   ]
  },
  {
   "cell_type": "markdown",
   "metadata": {},
   "source": [
    "#### 2-2-1. 프롬프트 작성\n",
    "![프롬프트 작성](image/CH01-04-06.png)"
   ]
  },
  {
   "cell_type": "markdown",
   "metadata": {},
   "source": [
    "#### 2-2-2. ChatGPT 답변\n",
    "![프롬프트 작성](image/CH01-04-07.png)\n",
    "![프롬프트 작성](image/CH01-04-08.png)\n",
    "![프롬프트 작성](image/CH01-04-09.png)\n",
    "![프롬프트 작성](image/CH01-04-10.png)"
   ]
  },
  {
   "cell_type": "markdown",
   "metadata": {},
   "source": [
    "#### 2-2-3. ChatGPT 답변 코드\n",
    "```\n",
    "import pandas as pd\n",
    "import numpy as np\n",
    "\n",
    "# 데이터프레임을 가져오는 코드 (가정)\n",
    "# from connector import Connector\n",
    "\n",
    "# # 데이터베이스에서 데이터를 DataFrame으로 가져오기\n",
    "# with Connector() as db:\n",
    "#     daily_sales_raw_df = db.fetch_data(\"SELECT * FROM daily_sales_raw\")\n",
    "#     original_price_df = db.fetch_data(\"SELECT * FROM original_price\")\n",
    "\n",
    "# 테스트 데이터 생성 (실제 데이터베이스에서 가져온 데이터 사용 시 주석 처리)\n",
    "# 데이터 형식: 'id', 'payment_date', 'stay_days', 'checkin_date', 'checkout_date', 'original_price', 'payment_amount'\n",
    "daily_sales_raw_df = pd.DataFrame({\n",
    "    'id': [1, 2],\n",
    "    'payment_date': ['2024-01-01', '2024-01-03'],\n",
    "    'stay_days': [2, 3],\n",
    "    'checkin_date': ['2024-01-01', '2024-01-03'],\n",
    "    'checkout_date': ['2024-01-03', '2024-01-06'],\n",
    "    'original_price': [200000, 300000],\n",
    "    'payment_amount': [150000, 250000]\n",
    "})\n",
    "\n",
    "# 데이터 형식: 'date', 'weekday', 'original_price'\n",
    "original_price_df = pd.DataFrame({\n",
    "    'date': ['2024-01-01', '2024-01-02', '2024-01-03', '2024-01-04', '2024-01-05'],\n",
    "    'weekday': [1, 2, 3, 4, 5],\n",
    "    'original_price': [100000, 100000, 100000, 100000, 100000]\n",
    "})\n",
    "\n",
    "# 날짜 컬럼을 datetime 형식으로 변환\n",
    "daily_sales_raw_df['checkin_date'] = pd.to_datetime(daily_sales_raw_df['checkin_date'])\n",
    "daily_sales_raw_df['checkout_date'] = pd.to_datetime(daily_sales_raw_df['checkout_date'])\n",
    "original_price_df['date'] = pd.to_datetime(original_price_df['date'])\n",
    "\n",
    "# 최종 결과를 담을 DataFrame 생성\n",
    "result_df = pd.DataFrame(columns=['date', 'payment_no', 'original_price', 'accrued_revenue'])\n",
    "\n",
    "# 날짜에 맞춰서 데이터 분배 및 매칭\n",
    "for _, row in daily_sales_raw_df.iterrows():\n",
    "    checkin_date = row['checkin_date']\n",
    "    checkout_date = row['checkout_date']\n",
    "    payment_amount = row['payment_amount']\n",
    "    stay_days = (checkout_date - checkin_date).days\n",
    "    payment_no = row['id']\n",
    "    \n",
    "    # 해당 기간의 original_price 가져오기\n",
    "    period_prices = original_price_df[(original_price_df['date'] >= checkin_date) & (original_price_df['date'] < checkout_date)]\n",
    "    period_prices = period_prices.copy()\n",
    "    period_prices['ratio'] = period_prices['original_price'] / period_prices['original_price'].sum()\n",
    "    \n",
    "    # payment_amount를 날짜별로 배분\n",
    "    accrued_revenue = []\n",
    "    for i, (date, ratio) in enumerate(zip(period_prices['date'], period_prices['ratio'])):\n",
    "        if i < len(period_prices) - 1:\n",
    "            accrued_revenue.append(int(payment_amount * ratio))\n",
    "        else:\n",
    "            accrued_revenue.append(payment_amount - sum(accrued_revenue))\n",
    "    \n",
    "    # 결과 DataFrame에 추가\n",
    "    temp_df = pd.DataFrame({\n",
    "        'date': period_prices['date'],\n",
    "        'payment_no': payment_no,\n",
    "        'original_price': period_prices['original_price'],\n",
    "        'accrued_revenue': accrued_revenue\n",
    "    })\n",
    "    \n",
    "    result_df = pd.concat([result_df, temp_df])\n",
    "\n",
    "# 인덱스 재설정\n",
    "result_df.reset_index(drop=True, inplace=True)\n",
    "\n",
    "# 결과 출력\n",
    "print(result_df)\n",
    "\n",
    "```"
   ]
  },
  {
   "cell_type": "markdown",
   "metadata": {},
   "source": [
    "#### 2-2-4. 작성된 코드 적용"
   ]
  },
  {
   "cell_type": "code",
   "execution_count": 15,
   "metadata": {},
   "outputs": [
    {
     "name": "stderr",
     "output_type": "stream",
     "text": [
      "/var/folders/01/c04y5bhn61l8kzg4jnpy_8dw0000gp/T/ipykernel_11381/430318677.py:41: FutureWarning: The behavior of DataFrame concatenation with empty or all-NA entries is deprecated. In a future version, this will no longer exclude empty or all-NA columns when determining the result dtypes. To retain the old behavior, exclude the relevant entries before the concat operation.\n",
      "  result_df = pd.concat([result_df, temp_df])\n"
     ]
    },
    {
     "name": "stdout",
     "output_type": "stream",
     "text": [
      "           date payment_no original_price accrued_revenue\n",
      "0    2024-01-13          1         700000          770000\n",
      "1    2024-01-10          2         500000          490000\n",
      "2    2024-01-11          2         500000          490000\n",
      "3    2024-01-03          3         500000          540000\n",
      "4    2024-01-07          4         700000          591111\n",
      "5    2024-01-08          4         500000          422222\n",
      "6    2024-01-09          4         500000          422222\n",
      "7    2024-01-10          4         500000          422222\n",
      "8    2024-01-11          4         500000          422223\n",
      "9    2024-01-09          5         500000          502272\n",
      "10   2024-01-10          5         500000          502272\n",
      "11   2024-01-11          5         500000          502272\n",
      "12   2024-01-12          5         700000          703184\n",
      "13   2024-01-04          6         500000          441666\n",
      "14   2024-01-05          6         700000          618333\n",
      "15   2024-01-06          6         700000          618333\n",
      "16   2024-01-07          6         700000          618333\n",
      "17   2024-01-08          6         500000          441666\n",
      "18   2024-01-09          6         500000          441669\n",
      "19   2024-01-06          7         700000          575365\n",
      "20   2024-01-07          7         700000          575365\n",
      "21   2024-01-08          7         500000          410975\n",
      "22   2024-01-09          7         500000          410975\n",
      "23   2024-01-10          7         500000          410975\n",
      "24   2024-01-11          7         500000          410975\n",
      "...         ...        ...            ...             ...\n",
      "8359 2024-05-31       2224         700000          647500\n",
      "8360 2024-06-03       2225         500000          409259\n",
      "8361 2024-06-04       2225         500000          409259\n",
      "8362 2024-06-05       2225         500000          409259\n",
      "8363 2024-06-06       2225         500000          409259\n",
      "8364 2024-06-07       2225         700000          572964\n",
      "8365 2024-06-07       2226         700000          720000\n",
      "8366 2024-05-30       2227         500000          454166\n",
      "8367 2024-05-31       2227         700000          635834\n",
      "8368 2024-05-31       2228         700000          730000\n",
      "8369 2024-06-01       2229         700000          619705\n",
      "8370 2024-06-02       2229         700000          619705\n",
      "8371 2024-06-03       2229         500000          442647\n",
      "8372 2024-06-04       2229         500000          442647\n",
      "8373 2024-06-05       2229         500000          442647\n",
      "8374 2024-06-06       2229         500000          442649\n",
      "8375 2024-06-01       2230         700000          745000\n",
      "8376 2024-06-02       2230         700000          745000\n",
      "8377 2024-06-03       2231         500000          457352\n",
      "8378 2024-06-04       2231         500000          457352\n",
      "8379 2024-06-05       2231         500000          457352\n",
      "8380 2024-06-06       2231         500000          457352\n",
      "8381 2024-06-07       2231         700000          640294\n",
      "8382 2024-06-08       2231         700000          640298\n",
      "8383 2024-06-08       2232         700000          750000\n",
      "\n",
      "[8384 rows x 4 columns]\n"
     ]
    }
   ],
   "source": [
    "import pandas as pd\n",
    "import numpy as np\n",
    "\n",
    "# 날짜 컬럼을 datetime 형식으로 변환\n",
    "daily_sales_raw_df['checkin_date'] = pd.to_datetime(daily_sales_raw_df['checkin_date'])\n",
    "daily_sales_raw_df['checkout_date'] = pd.to_datetime(daily_sales_raw_df['checkout_date'])\n",
    "original_price_df['date'] = pd.to_datetime(original_price_df['date'])\n",
    "\n",
    "# 최종 결과를 담을 DataFrame 생성\n",
    "result_df = pd.DataFrame(columns=['date', 'payment_no', 'original_price', 'accrued_revenue'])\n",
    "\n",
    "# 날짜에 맞춰서 데이터 분배 및 매칭\n",
    "for _, row in daily_sales_raw_df.iterrows():\n",
    "    checkin_date = row['checkin_date']\n",
    "    checkout_date = row['checkout_date']\n",
    "    payment_amount = row['payment_amount']\n",
    "    stay_days = (checkout_date - checkin_date).days\n",
    "    payment_no = row['id']\n",
    "    \n",
    "    # 해당 기간의 original_price 가져오기\n",
    "    period_prices = original_price_df[(original_price_df['date'] >= checkin_date) & (original_price_df['date'] < checkout_date)]\n",
    "    period_prices = period_prices.copy()\n",
    "    period_prices['ratio'] = period_prices['original_price'] / period_prices['original_price'].sum()\n",
    "    \n",
    "    # payment_amount를 날짜별로 배분\n",
    "    accrued_revenue = []\n",
    "    for i, (date, ratio) in enumerate(zip(period_prices['date'], period_prices['ratio'])):\n",
    "        if i < len(period_prices) - 1:\n",
    "            accrued_revenue.append(int(payment_amount * ratio))\n",
    "        else:\n",
    "            accrued_revenue.append(payment_amount - sum(accrued_revenue))\n",
    "    \n",
    "    # 결과 DataFrame에 추가\n",
    "    temp_df = pd.DataFrame({\n",
    "        'date': period_prices['date'],\n",
    "        'payment_no': payment_no,\n",
    "        'original_price': period_prices['original_price'],\n",
    "        'accrued_revenue': accrued_revenue\n",
    "    })\n",
    "    \n",
    "    result_df = pd.concat([result_df, temp_df])\n",
    "\n",
    "# 인덱스 재설정\n",
    "result_df.reset_index(drop=True, inplace=True)\n",
    "\n",
    "# 결과 출력\n",
    "print(result_df)\n"
   ]
  },
  {
   "cell_type": "markdown",
   "metadata": {},
   "source": [
    "## 3. 계산결과 검토"
   ]
  },
  {
   "cell_type": "markdown",
   "metadata": {},
   "source": [
    "### 3-1. 프롬프트 작성\n",
    "![프롬프트 작성](image/CH01-04-11.png)"
   ]
  },
  {
   "cell_type": "markdown",
   "metadata": {},
   "source": [
    "### 3-2. ChatGPT 답변\n",
    "![ChatGPT 답변](image/CH01-04-12.png)\n",
    "![ChatGPT 답변](image/CH01-04-13.png)"
   ]
  },
  {
   "cell_type": "code",
   "execution_count": 16,
   "metadata": {},
   "outputs": [
    {
     "name": "stdout",
     "output_type": "stream",
     "text": [
      "        id  payment_amount accrued_revenue  is_correct\n",
      "0        1          770000          770000        True\n",
      "1        2          980000          980000        True\n",
      "2        3          540000          540000        True\n",
      "3        4         2280000         2280000        True\n",
      "4        5         2210000         2210000        True\n",
      "5        6         3180000         3180000        True\n",
      "6        7         3370000         3370000        True\n",
      "7        8          930000          930000        True\n",
      "8        9         1550000         1550000        True\n",
      "9       10         2220000         2220000        True\n",
      "10      11         2510000         2510000        True\n",
      "11      12         3430000         3430000        True\n",
      "12      13         2190000         2190000        True\n",
      "13      14          780000          780000        True\n",
      "14      15         3860000         3860000        True\n",
      "15      16         1460000         1460000        True\n",
      "16      17          740000          740000        True\n",
      "17      18         3490000         3490000        True\n",
      "18      19         1850000         1850000        True\n",
      "19      20         3110000         3110000        True\n",
      "20      21         1680000         1680000        True\n",
      "21      22         3580000         3580000        True\n",
      "22      23         2990000         2990000        True\n",
      "23      24         1100000         1100000        True\n",
      "24      25         4060000         4060000        True\n",
      "...    ...             ...             ...         ...\n",
      "2207  2208         2550000         2550000        True\n",
      "2208  2209         1870000         1870000        True\n",
      "2209  2210         3140000         3140000        True\n",
      "2210  2211         3660000         3660000        True\n",
      "2211  2212         1200000         1200000        True\n",
      "2212  2213         1050000         1050000        True\n",
      "2213  2214         1960000         1960000        True\n",
      "2214  2215         1630000         1630000        True\n",
      "2215  2216         2800000         2800000        True\n",
      "2216  2217         1000000         1000000        True\n",
      "2217  2218         2490000         2490000        True\n",
      "2218  2219         2680000         2680000        True\n",
      "2219  2220         1350000         1350000        True\n",
      "2220  2221         3090000         3090000        True\n",
      "2221  2222         1210000         1210000        True\n",
      "2222  2223         3960000         3960000        True\n",
      "2223  2224         1110000         1110000        True\n",
      "2224  2225         2210000         2210000        True\n",
      "2225  2226          720000          720000        True\n",
      "2226  2227         1090000         1090000        True\n",
      "2227  2228          730000          730000        True\n",
      "2228  2229         3010000         3010000        True\n",
      "2229  2230         1490000         1490000        True\n",
      "2230  2231         3110000         3110000        True\n",
      "2231  2232          750000          750000        True\n",
      "\n",
      "[2232 rows x 4 columns]\n",
      "All accrued_revenue calculations are correct.\n"
     ]
    }
   ],
   "source": [
    "# accrued_revenue를 payment_no 기준으로 합계 계산\n",
    "accrued_revenue_sum = result_df.groupby('payment_no')['accrued_revenue'].sum().reset_index()\n",
    "\n",
    "# daily_sales_raw_df에서 id와 payment_amount 선택\n",
    "payment_amount_df = daily_sales_raw_df[['id', 'payment_amount']]\n",
    "\n",
    "# payment_no와 payment_amount를 합치기 위해 컬럼 이름 변경\n",
    "accrued_revenue_sum.rename(columns={'payment_no': 'id'}, inplace=True)\n",
    "\n",
    "# payment_amount_df와 accrued_revenue_sum을 병합\n",
    "comparison_df = pd.merge(payment_amount_df, accrued_revenue_sum, on='id', how='left')\n",
    "\n",
    "# payment_amount와 accrued_revenue 합계를 비교\n",
    "comparison_df['is_correct'] = comparison_df['payment_amount'] == comparison_df['accrued_revenue']\n",
    "\n",
    "# 결과 출력\n",
    "print(comparison_df)\n",
    "\n",
    "# 최종 확인\n",
    "if comparison_df['is_correct'].all():\n",
    "    print(\"All accrued_revenue calculations are correct.\")\n",
    "else:\n",
    "    print(\"Some accrued_revenue calculations are incorrect.\")\n"
   ]
  },
  {
   "cell_type": "code",
   "execution_count": null,
   "metadata": {},
   "outputs": [],
   "source": []
  }
 ],
 "metadata": {
  "kernelspec": {
   "display_name": "fastcampus",
   "language": "python",
   "name": "python3"
  },
  "language_info": {
   "codemirror_mode": {
    "name": "ipython",
    "version": 3
   },
   "file_extension": ".py",
   "mimetype": "text/x-python",
   "name": "python",
   "nbconvert_exporter": "python",
   "pygments_lexer": "ipython3",
   "version": "3.11.7"
  }
 },
 "nbformat": 4,
 "nbformat_minor": 2
}
